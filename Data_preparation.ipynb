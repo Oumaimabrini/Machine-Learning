{
 "cells": [
  {
   "cell_type": "code",
   "execution_count": 5,
   "metadata": {},
   "outputs": [],
   "source": [
    "# Suppression des warnings\n",
    "import warnings\n",
    "warnings.filterwarnings('ignore')"
   ]
  },
  {
   "cell_type": "markdown",
   "metadata": {},
   "source": [
    "# Contexte :\n",
    "L’analyse massive des données de santé a révolutionné le secteur médical, notamment en oncologie, en améliorant le pronostic et le traitement des maladies complexes comme le cancer. Les modèles prédictifs permettent des décisions thérapeutiques plus précises et adaptées, optimisant ainsi les soins aux patients."
   ]
  },
  {
   "cell_type": "markdown",
   "metadata": {},
   "source": [
    "Le **Data Challenge de QRT**, en collaboration avec l’Institut Gustave Roussy, vise à prédire le risque de décès des patients atteints d’une leucémie myéloïde adulte en utilisant des données cliniques et moléculaires. L’objectif est d’optimiser les stratégies thérapeutiques en identifiant les patients à haut ou faible risque, afin d’améliorer leur prise en charge.\n",
    "\n",
    "Nous allons travailler sur un **jeu de données** comprenant des informations de 3 323 patients en entraînement et 1 193 en test, issues de 24 centres cliniques. Deux types de données sont exploitées :\n",
    "- **Données cliniques** (ex. taux de globules blancs, hémoglobine, anomalies chromosomiques).\n",
    "- **Données moléculaires** (mutations génétiques et impact sur les protéines).\n",
    "\n",
    "L’évaluation repose sur l’**IPCW-C-index**, une métrique adaptée aux données censurées. Un **modèle de risques proportionnels de Cox** sert de benchmark, comparé à un modèle LightGBM plus simple. L’objectif final est de soumettre des prédictions de risque de décès sous forme de fichier CSV.\n",
    "\n",
    "Dans le cadre du cours de **machine learning**, nous travaillons sur ce projet pour développer des modèles prédictifs et améliorer la compréhension des approches en analyse de survie."
   ]
  },
  {
   "cell_type": "code",
   "execution_count": 12,
   "metadata": {},
   "outputs": [],
   "source": [
    "import pandas as pd\n",
    "import numpy as np\n",
    "import matplotlib.pyplot as plt\n",
    "import seaborn as sns\n",
    "import re\n",
    "from sklearn.model_selection import train_test_split\n",
    "from sklearn.model_selection import cross_val_score\n",
    "from sklearn.preprocessing import StandardScaler, OneHotEncoder\n",
    "from sksurv.linear_model import CoxPHSurvivalAnalysis\n",
    "from sksurv.ensemble import RandomSurvivalForest\n",
    "import lightgbm as lgb\n",
    "from pycox.models import CoxPH, DeepHitSingle\n",
    "import torchtuples as tt\n",
    "import torch\n",
    "\n",
    "from sksurv.util import Surv"
   ]
  },
  {
   "cell_type": "code",
   "execution_count": 13,
   "metadata": {},
   "outputs": [],
   "source": [
    "### Chargement des données train\n",
    "Xtrain_clin = pd.read_csv(\"C:/Users/omaim/OneDrive/Bureau/Machine Learning/X_test/clinical_test.csv\")\n",
    "Xtrain_mol = pd.read_csv(\"C:/Users/omaim/OneDrive/Bureau/Machine Learning/X_test/molecular_test.csv\")\n",
    "Y_train = pd.read_csv(\"C:/Users/omaim/OneDrive/Bureau/Machine Learning/target_train.csv\")\n",
    "\n",
    "### Chargement des données test\n",
    "Xtest_clin = pd.read_csv(\"C:/Users/omaim/OneDrive/Bureau/Machine Learning/X_test/clinical_test.csv\")\n",
    "Xtest_mol = pd.read_csv(\"C:/Users/omaim/OneDrive/Bureau/Machine Learning/X_test/molecular_test.csv\")\n"
   ]
  },
  {
   "cell_type": "code",
   "execution_count": 85,
   "metadata": {},
   "outputs": [
    {
     "name": "stdout",
     "output_type": "stream",
     "text": [
      "Aperçu des données :\n"
     ]
    }
   ],
   "source": [
    "print(\"Aperçu des données :\")\n",
    "#print(Xtrain_clin.head())\n",
    "#print(Xtrain_mol.head())"
   ]
  },
  {
   "cell_type": "markdown",
   "metadata": {},
   "source": [
    "# Données cliniques : \n",
    "- ID : Identifiant unique du patient.\n",
    "- CENTER : Centre médical où le patient a été traité.\n",
    "- BM_BLAST : Pourcentage de cellules blastiques dans la moelle osseuse (critère clé pour les leucémies).\n",
    "- WBC : Nombre de globules blancs (White Blood Cell count).\n",
    "- ANC : Nombre absolu de neutrophiles.\n",
    "- MONOCYTES : Nombre de monocytes.\n",
    "- HB : Niveau d’hémoglobine.\n",
    "- PLT : Nombre de plaquettes sanguines.\n",
    "- CYTOGENETICS : Anomalies cytogénétiques détectées."
   ]
  },
  {
   "cell_type": "markdown",
   "metadata": {},
   "source": [
    "# Données moléculaires\n",
    "- ID : Identifiant unique du patient.\n",
    "- CHR : Chromosome où la mutation a été détectée.\n",
    "- START / END : Position génomique de la mutation.\n",
    "- REF / ALT : Base de référence et base mutée.\n",
    "- GENE : Nom du gène affecté.\n",
    "- PROTEIN_CHANGE : Modification de la protéine codée.\n",
    "- EFFECT : Effet de la mutation (non_synonymous_codon, stop_gained, etc.).\n",
    "- VAF : Fréquence allélique de la mutation (proportion des copies de l’ADN affectées).\n",
    "- DEPTH : Profondeur de lecture (nombre de fois que cette mutation a été détectée dans le séquençage)."
   ]
  },
  {
   "cell_type": "code",
   "execution_count": 15,
   "metadata": {},
   "outputs": [
    {
     "name": "stdout",
     "output_type": "stream",
     "text": [
      "Aperçu des données cible:\n"
     ]
    }
   ],
   "source": [
    "print(\"Aperçu des données cible:\")\n",
    "#print(Y_train.head())"
   ]
  },
  {
   "cell_type": "markdown",
   "metadata": {},
   "source": [
    "# Variable cible (survie des patiencts)\n",
    "- ID : \n",
    "- OS_YEARS : Durée de survie en années après le diagnostic.\n",
    "- OS_STATUS : Statut de survie (0 = en vie, 1 = décédé)."
   ]
  },
  {
   "cell_type": "code",
   "execution_count": 16,
   "metadata": {},
   "outputs": [
    {
     "name": "stdout",
     "output_type": "stream",
     "text": [
      "Description statistique des données :\n"
     ]
    }
   ],
   "source": [
    "print(\"Description statistique des données :\")\n",
    "#print(Xtrain_clin.describe())\n",
    "#print(Xtrain_mol.describe())"
   ]
  },
  {
   "cell_type": "code",
   "execution_count": 33,
   "metadata": {},
   "outputs": [
    {
     "name": "stdout",
     "output_type": "stream",
     "text": [
      "Analyse des valeurs manquantes :\n"
     ]
    }
   ],
   "source": [
    "print(\"Analyse des valeurs manquantes :\")\n",
    "#print(Xtrain_mol.isna().sum())\n",
    "#print(Xtrain_clin.isna().sum())"
   ]
  },
  {
   "cell_type": "code",
   "execution_count": 34,
   "metadata": {},
   "outputs": [],
   "source": [
    "Xtrain_mol.head()\n",
    "Xtrain_mol[\"ID\"].value_counts()\n",
    "Xtrain_mol[\"EFFECT\"] = Xtrain_mol[\"EFFECT\"].astype(str)"
   ]
  },
  {
   "cell_type": "markdown",
   "metadata": {},
   "source": [
    "Chaque ID pourrait représenter un échantillon de patient, et plusieurs entrées pour un même ID indiquent que différents marqueurs génétiques ou mutations ont été analysés dans cet échantillon. Par exemple, chaque ligne pourrait correspondre à une mutation différente observée dans l'échantillon du patient."
   ]
  },
  {
   "cell_type": "markdown",
   "metadata": {},
   "source": [
    " - La fréquence d'allèles variant (VAF) diffère parmi les entrées, indiquant que les niveaux de présence de ces mutations varient. Cela peut être dû à des différences dans l'échantillonnage ou la prévalence de la mutation dans différentes cellules de l'échantillon.\n",
    " - Le PROTEIN_CHANGE montre que les modifications protéiques dues aux mutations sont spécifiques à chaque entrée, ce qui souligne l'importance de chaque mutation unique dans l'analyse moléculaire.\n",
    " - Les champs START et END indiquent les positions exactes des mutations sur le chromosome, et bien que certaines puissent se chevaucher ou être identiques, les mutations elles-mêmes peuvent être différentes."
   ]
  },
  {
   "cell_type": "code",
   "execution_count": null,
   "metadata": {},
   "outputs": [],
   "source": [
    "aggregated_data = Xtrain_mol.groupby('ID').agg({\n",
    "    'VAF': 'mean',  # Moyenne des fréquences d'allèles variant\n",
    "    'DEPTH': 'sum',  # Somme des profondeurs de séquençage\n",
    "    'EFFECT': lambda x: ', '.join(x.unique())  # Liste unique des effets\n",
    "}).reset_index()"
   ]
  },
  {
   "cell_type": "code",
   "execution_count": 36,
   "metadata": {},
   "outputs": [],
   "source": [
    "Xtrain_mol1 = Xtrain_mol.drop_duplicates(subset=\"ID\", keep = False)\n",
    "Xtest_mol = Xtest_mol.drop_duplicates(subset=\"ID\", keep=False)"
   ]
  },
  {
   "cell_type": "code",
   "execution_count": 37,
   "metadata": {},
   "outputs": [
    {
     "data": {
      "text/plain": [
       "ID\n",
       "KYW1048    1\n",
       "KYW135     1\n",
       "KYW430     1\n",
       "KYW1076    1\n",
       "KYW560     1\n",
       "          ..\n",
       "KYW746     1\n",
       "KYW235     1\n",
       "KYW969     1\n",
       "KYW918     1\n",
       "KYW18      1\n",
       "Name: count, Length: 257, dtype: int64"
      ]
     },
     "execution_count": 37,
     "metadata": {},
     "output_type": "execute_result"
    }
   ],
   "source": [
    "Xtrain_mol1[\"ID\"].value_counts()"
   ]
  },
  {
   "cell_type": "code",
   "execution_count": 38,
   "metadata": {},
   "outputs": [],
   "source": [
    "#Merge la data VERIFIER NB ROWS PAR DATAFRAME\n",
    "data_train = Xtrain_clin.merge(Xtrain_mol, on='ID', how = \"outer\")\n",
    "X_test = Xtest_clin.merge(Xtest_mol, on='ID', how='outer')"
   ]
  },
  {
   "cell_type": "code",
   "execution_count": 39,
   "metadata": {},
   "outputs": [
    {
     "data": {
      "text/html": [
       "<div>\n",
       "<style scoped>\n",
       "    .dataframe tbody tr th:only-of-type {\n",
       "        vertical-align: middle;\n",
       "    }\n",
       "\n",
       "    .dataframe tbody tr th {\n",
       "        vertical-align: top;\n",
       "    }\n",
       "\n",
       "    .dataframe thead th {\n",
       "        text-align: right;\n",
       "    }\n",
       "</style>\n",
       "<table border=\"1\" class=\"dataframe\">\n",
       "  <thead>\n",
       "    <tr style=\"text-align: right;\">\n",
       "      <th></th>\n",
       "      <th>ID</th>\n",
       "      <th>CENTER</th>\n",
       "      <th>BM_BLAST</th>\n",
       "      <th>WBC</th>\n",
       "      <th>ANC</th>\n",
       "      <th>MONOCYTES</th>\n",
       "      <th>HB</th>\n",
       "      <th>PLT</th>\n",
       "      <th>CYTOGENETICS</th>\n",
       "      <th>CHR</th>\n",
       "      <th>START</th>\n",
       "      <th>END</th>\n",
       "      <th>REF</th>\n",
       "      <th>ALT</th>\n",
       "      <th>GENE</th>\n",
       "      <th>PROTEIN_CHANGE</th>\n",
       "      <th>EFFECT</th>\n",
       "      <th>VAF</th>\n",
       "      <th>DEPTH</th>\n",
       "    </tr>\n",
       "  </thead>\n",
       "  <tbody>\n",
       "    <tr>\n",
       "      <th>0</th>\n",
       "      <td>KYW1</td>\n",
       "      <td>KYW</td>\n",
       "      <td>68.0</td>\n",
       "      <td>3.45</td>\n",
       "      <td>0.5865</td>\n",
       "      <td>NaN</td>\n",
       "      <td>7.6</td>\n",
       "      <td>48.0</td>\n",
       "      <td>47,XY,+X,del(9)(q?)[15]/47,XY,+X[5]</td>\n",
       "      <td>2</td>\n",
       "      <td>25467449.0</td>\n",
       "      <td>25467449.0</td>\n",
       "      <td>C</td>\n",
       "      <td>A</td>\n",
       "      <td>DNMT3A</td>\n",
       "      <td>p.G543C</td>\n",
       "      <td>non_synonymous_codon</td>\n",
       "      <td>0.3840</td>\n",
       "      <td>799.0</td>\n",
       "    </tr>\n",
       "    <tr>\n",
       "      <th>1</th>\n",
       "      <td>KYW1</td>\n",
       "      <td>KYW</td>\n",
       "      <td>68.0</td>\n",
       "      <td>3.45</td>\n",
       "      <td>0.5865</td>\n",
       "      <td>NaN</td>\n",
       "      <td>7.6</td>\n",
       "      <td>48.0</td>\n",
       "      <td>47,XY,+X,del(9)(q?)[15]/47,XY,+X[5]</td>\n",
       "      <td>5</td>\n",
       "      <td>170837543.0</td>\n",
       "      <td>170837543.0</td>\n",
       "      <td>-</td>\n",
       "      <td>TCTG</td>\n",
       "      <td>NPM1</td>\n",
       "      <td>p.L287fs</td>\n",
       "      <td>frameshift_variant</td>\n",
       "      <td>0.2100</td>\n",
       "      <td>257.0</td>\n",
       "    </tr>\n",
       "    <tr>\n",
       "      <th>2</th>\n",
       "      <td>KYW1</td>\n",
       "      <td>KYW</td>\n",
       "      <td>68.0</td>\n",
       "      <td>3.45</td>\n",
       "      <td>0.5865</td>\n",
       "      <td>NaN</td>\n",
       "      <td>7.6</td>\n",
       "      <td>48.0</td>\n",
       "      <td>47,XY,+X,del(9)(q?)[15]/47,XY,+X[5]</td>\n",
       "      <td>X</td>\n",
       "      <td>154301677.0</td>\n",
       "      <td>154301677.0</td>\n",
       "      <td>G</td>\n",
       "      <td>T</td>\n",
       "      <td>BRCC3</td>\n",
       "      <td>p.G56X</td>\n",
       "      <td>stop_gained</td>\n",
       "      <td>0.0270</td>\n",
       "      <td>586.0</td>\n",
       "    </tr>\n",
       "    <tr>\n",
       "      <th>3</th>\n",
       "      <td>KYW1</td>\n",
       "      <td>KYW</td>\n",
       "      <td>68.0</td>\n",
       "      <td>3.45</td>\n",
       "      <td>0.5865</td>\n",
       "      <td>NaN</td>\n",
       "      <td>7.6</td>\n",
       "      <td>48.0</td>\n",
       "      <td>47,XY,+X,del(9)(q?)[15]/47,XY,+X[5]</td>\n",
       "      <td>NaN</td>\n",
       "      <td>NaN</td>\n",
       "      <td>NaN</td>\n",
       "      <td>NaN</td>\n",
       "      <td>NaN</td>\n",
       "      <td>FLT3</td>\n",
       "      <td>FLT3_ITD</td>\n",
       "      <td>ITD</td>\n",
       "      <td>0.3639</td>\n",
       "      <td>NaN</td>\n",
       "    </tr>\n",
       "    <tr>\n",
       "      <th>4</th>\n",
       "      <td>KYW10</td>\n",
       "      <td>KYW</td>\n",
       "      <td>1.0</td>\n",
       "      <td>1.61</td>\n",
       "      <td>0.6118</td>\n",
       "      <td>NaN</td>\n",
       "      <td>9.9</td>\n",
       "      <td>85.0</td>\n",
       "      <td>47,XY,+8</td>\n",
       "      <td>20</td>\n",
       "      <td>57484421.0</td>\n",
       "      <td>57484421.0</td>\n",
       "      <td>G</td>\n",
       "      <td>A</td>\n",
       "      <td>GNAS</td>\n",
       "      <td>p.R201H</td>\n",
       "      <td>non_synonymous_codon</td>\n",
       "      <td>0.2580</td>\n",
       "      <td>508.0</td>\n",
       "    </tr>\n",
       "  </tbody>\n",
       "</table>\n",
       "</div>"
      ],
      "text/plain": [
       "      ID CENTER  BM_BLAST  ...                EFFECT     VAF  DEPTH\n",
       "0   KYW1    KYW      68.0  ...  non_synonymous_codon  0.3840  799.0\n",
       "1   KYW1    KYW      68.0  ...    frameshift_variant  0.2100  257.0\n",
       "2   KYW1    KYW      68.0  ...           stop_gained  0.0270  586.0\n",
       "3   KYW1    KYW      68.0  ...                   ITD  0.3639    NaN\n",
       "4  KYW10    KYW       1.0  ...  non_synonymous_codon  0.2580  508.0\n",
       "\n",
       "[5 rows x 19 columns]"
      ]
     },
     "execution_count": 39,
     "metadata": {},
     "output_type": "execute_result"
    }
   ],
   "source": [
    "data_train.head()"
   ]
  },
  {
   "cell_type": "code",
   "execution_count": 40,
   "metadata": {},
   "outputs": [],
   "source": [
    "data_train = data_train.drop(columns = [\"CENTER\"])\n",
    "X_test = X_test.drop(columns=[\"CENTER\"], errors='ignore')"
   ]
  },
  {
   "cell_type": "code",
   "execution_count": 41,
   "metadata": {},
   "outputs": [],
   "source": [
    "#Fonction pour préparation de données\n",
    "def clean_data(data, columns):\n",
    "    data_cleaned = data.dropna(subset = columns)\n",
    "    return data_cleaned"
   ]
  },
  {
   "cell_type": "code",
   "execution_count": 87,
   "metadata": {},
   "outputs": [
    {
     "data": {
      "text/html": [
       "<div>\n",
       "<style scoped>\n",
       "    .dataframe tbody tr th:only-of-type {\n",
       "        vertical-align: middle;\n",
       "    }\n",
       "\n",
       "    .dataframe tbody tr th {\n",
       "        vertical-align: top;\n",
       "    }\n",
       "\n",
       "    .dataframe thead th {\n",
       "        text-align: right;\n",
       "    }\n",
       "</style>\n",
       "<table border=\"1\" class=\"dataframe\">\n",
       "  <thead>\n",
       "    <tr style=\"text-align: right;\">\n",
       "      <th></th>\n",
       "      <th>ID</th>\n",
       "      <th>OS_YEARS</th>\n",
       "      <th>OS_STATUS</th>\n",
       "    </tr>\n",
       "  </thead>\n",
       "  <tbody>\n",
       "    <tr>\n",
       "      <th>0</th>\n",
       "      <td>P132697</td>\n",
       "      <td>1.115068</td>\n",
       "      <td>True</td>\n",
       "    </tr>\n",
       "    <tr>\n",
       "      <th>1</th>\n",
       "      <td>P132698</td>\n",
       "      <td>4.928767</td>\n",
       "      <td>False</td>\n",
       "    </tr>\n",
       "    <tr>\n",
       "      <th>2</th>\n",
       "      <td>P116889</td>\n",
       "      <td>2.043836</td>\n",
       "      <td>False</td>\n",
       "    </tr>\n",
       "    <tr>\n",
       "      <th>3</th>\n",
       "      <td>P132699</td>\n",
       "      <td>2.476712</td>\n",
       "      <td>True</td>\n",
       "    </tr>\n",
       "    <tr>\n",
       "      <th>4</th>\n",
       "      <td>P132700</td>\n",
       "      <td>3.145205</td>\n",
       "      <td>False</td>\n",
       "    </tr>\n",
       "    <tr>\n",
       "      <th>...</th>\n",
       "      <td>...</td>\n",
       "      <td>...</td>\n",
       "      <td>...</td>\n",
       "    </tr>\n",
       "    <tr>\n",
       "      <th>3316</th>\n",
       "      <td>P121826</td>\n",
       "      <td>0.547945</td>\n",
       "      <td>False</td>\n",
       "    </tr>\n",
       "    <tr>\n",
       "      <th>3317</th>\n",
       "      <td>P121827</td>\n",
       "      <td>2.339726</td>\n",
       "      <td>False</td>\n",
       "    </tr>\n",
       "    <tr>\n",
       "      <th>3320</th>\n",
       "      <td>P121830</td>\n",
       "      <td>1.997260</td>\n",
       "      <td>False</td>\n",
       "    </tr>\n",
       "    <tr>\n",
       "      <th>3321</th>\n",
       "      <td>P121853</td>\n",
       "      <td>0.095890</td>\n",
       "      <td>True</td>\n",
       "    </tr>\n",
       "    <tr>\n",
       "      <th>3322</th>\n",
       "      <td>P121834</td>\n",
       "      <td>2.290411</td>\n",
       "      <td>False</td>\n",
       "    </tr>\n",
       "  </tbody>\n",
       "</table>\n",
       "<p>3173 rows × 3 columns</p>\n",
       "</div>"
      ],
      "text/plain": [
       "           ID  OS_YEARS  OS_STATUS\n",
       "0     P132697  1.115068       True\n",
       "1     P132698  4.928767      False\n",
       "2     P116889  2.043836      False\n",
       "3     P132699  2.476712       True\n",
       "4     P132700  3.145205      False\n",
       "...       ...       ...        ...\n",
       "3316  P121826  0.547945      False\n",
       "3317  P121827  2.339726      False\n",
       "3320  P121830  1.997260      False\n",
       "3321  P121853  0.095890       True\n",
       "3322  P121834  2.290411      False\n",
       "\n",
       "[3173 rows x 3 columns]"
      ]
     },
     "execution_count": 87,
     "metadata": {},
     "output_type": "execute_result"
    }
   ],
   "source": [
    "target_data = Y_train.dropna()\n",
    "target_data['OS_YEARS'] = pd.to_numeric(target_data['OS_YEARS'], errors='coerce')\n",
    "target_data['OS_STATUS'] = target_data['OS_STATUS'].astype(bool)\n",
    "target_data"
   ]
  },
  {
   "cell_type": "code",
   "execution_count": 43,
   "metadata": {},
   "outputs": [],
   "source": [
    "#il faut regrouper en personnes ayant vécu 0 à 2 ans de 2ans à 4 ...\n",
    "En_vie = target_data[target_data[\"OS_STATUS\"]==1.0]\n",
    "Mort = target_data[target_data[\"OS_STATUS\"]==0.0]\n",
    "\n",
    "En_vie = En_vie.drop(columns = [\"OS_STATUS\"])\n",
    "Mort = Mort.drop(columns = [\"OS_STATUS\"])\n"
   ]
  },
  {
   "cell_type": "code",
   "execution_count": 44,
   "metadata": {},
   "outputs": [],
   "source": [
    "#Distribution de la variable cible\n",
    "#plt.figure(figsize=(10, 5))\n",
    "#sns.histplot(Mort, kde=True)\n",
    "#plt.title(\"Distribution de la variable cible pour personnes décédées\")\n",
    "#plt.show()\n"
   ]
  },
  {
   "cell_type": "code",
   "execution_count": 45,
   "metadata": {},
   "outputs": [],
   "source": [
    "#Distribution de la variable cible\n",
    "#plt.figure(figsize=(10, 5))\n",
    "#sns.histplot(En_vie, kde=True)\n",
    "#plt.title(\"Distribution de la variable cible pour personnes en vie\")\n",
    "#plt.show()"
   ]
  },
  {
   "cell_type": "code",
   "execution_count": 47,
   "metadata": {},
   "outputs": [
    {
     "data": {
      "text/plain": [
       "CYTOGENETICS\n",
       "Normal                                                       752\n",
       "46,XX                                                         62\n",
       "46,XY[21]                                                     55\n",
       "46,XY                                                         54\n",
       "46,XY[20]                                                     40\n",
       "                                                            ... \n",
       "46,XX {7]                                                      1\n",
       "46XY,+1,der(1;7)(q10;p10), idem, +8                            1\n",
       "46,XX,t(4;12)(q12;p13)[3]/46,idem,del(7)(q?)[12]/46,XX[1]      1\n",
       "del(13)(q12q22)                                                1\n",
       "46, XY, del(20)(q1?) [5]/46, XY [15]                           1\n",
       "Name: count, Length: 708, dtype: int64"
      ]
     },
     "execution_count": 47,
     "metadata": {},
     "output_type": "execute_result"
    }
   ],
   "source": [
    "data_train.CYTOGENETICS.value_counts()"
   ]
  },
  {
   "cell_type": "code",
   "execution_count": 54,
   "metadata": {},
   "outputs": [],
   "source": [
    "def extract_sex(cytogenetics):\n",
    "    if pd.isna(cytogenetics):\n",
    "        return 2\n",
    "    elif \"46,XX\" in cytogenetics:\n",
    "        return 0\n",
    "    elif \"46,XY\" in cytogenetics:\n",
    "        return 1\n",
    "    else:\n",
    "        return 2"
   ]
  },
  {
   "cell_type": "code",
   "execution_count": 55,
   "metadata": {},
   "outputs": [],
   "source": [
    "def parse_cytogenetics(cyto):\n",
    "    cyto = str(cyto).lower()  # Convertir en string et mettre en minuscule\n",
    "\n",
    "    # 1 Extraire le nombre de chromosomes\n",
    "    chrom_match = re.search(r\"\\b(40|41|42|43|44|45|46|47|48|49|50)\\b\", cyto)\n",
    "    num_chromosomes = int(chrom_match.group()) if chrom_match else None\n",
    "\n",
    "    # 2️ Utiliser la fonction existante pour déterminer le sexe\n",
    "    sexe = extract_sex(cyto)  # Remplacement par la fonction existante\n",
    "\n",
    "    # 3️ Extraire le nombre d’échantillons testés\n",
    "    sample_match = re.search(r\"\\[(\\d+)\\]\", cyto)\n",
    "    num_samples = int(sample_match.group(1)) if sample_match else None\n",
    "\n",
    "    # 4️ Détection des anomalies (nouvelle logique)\n",
    "    has_anomaly = 0  # Par défaut, pas d’anomalie\n",
    "    if num_chromosomes and num_chromosomes != 46:\n",
    "        has_anomaly = 1\n",
    "    if re.match(r\"^(46,xy(\\[\\d+\\])?|46,xx(\\[\\d+\\])?)$\", cyto) is None:\n",
    "        has_anomaly = 1\n",
    "\n",
    "    return pd.Series([num_chromosomes, sexe, num_samples, has_anomaly])\n",
    "\n",
    "# Appliquer la fonction au DataFrame (assurez-vous que 'train_set_clin' contient une colonne 'CYTOGENETICS')\n",
    "Xtest_clin[[\"Nombre_Chromosomes\", \"SEX\", \"Nb_Echantillons\", \"Anomalies\"]] = Xtrain_clin[\"CYTOGENETICS\"].apply(parse_cytogenetics)"
   ]
  },
  {
   "cell_type": "code",
   "execution_count": 56,
   "metadata": {},
   "outputs": [
    {
     "name": "stdout",
     "output_type": "stream",
     "text": [
      "SEX\n",
      "2    1623\n",
      "1    1146\n",
      "0     459\n",
      "Name: count, dtype: int64\n"
     ]
    }
   ],
   "source": [
    "data_train[\"SEX\"] = data_train[\"CYTOGENETICS\"].apply(extract_sex)\n",
    "print(data_train[\"SEX\"].value_counts())"
   ]
  },
  {
   "cell_type": "code",
   "execution_count": 57,
   "metadata": {},
   "outputs": [
    {
     "data": {
      "text/html": [
       "<div>\n",
       "<style scoped>\n",
       "    .dataframe tbody tr th:only-of-type {\n",
       "        vertical-align: middle;\n",
       "    }\n",
       "\n",
       "    .dataframe tbody tr th {\n",
       "        vertical-align: top;\n",
       "    }\n",
       "\n",
       "    .dataframe thead th {\n",
       "        text-align: right;\n",
       "    }\n",
       "</style>\n",
       "<table border=\"1\" class=\"dataframe\">\n",
       "  <thead>\n",
       "    <tr style=\"text-align: right;\">\n",
       "      <th></th>\n",
       "      <th>ID</th>\n",
       "      <th>BM_BLAST</th>\n",
       "      <th>WBC</th>\n",
       "      <th>ANC</th>\n",
       "      <th>MONOCYTES</th>\n",
       "      <th>HB</th>\n",
       "      <th>PLT</th>\n",
       "      <th>CYTOGENETICS</th>\n",
       "      <th>CHR</th>\n",
       "      <th>START</th>\n",
       "      <th>END</th>\n",
       "      <th>REF</th>\n",
       "      <th>ALT</th>\n",
       "      <th>GENE</th>\n",
       "      <th>PROTEIN_CHANGE</th>\n",
       "      <th>EFFECT</th>\n",
       "      <th>VAF</th>\n",
       "      <th>DEPTH</th>\n",
       "      <th>SEX</th>\n",
       "    </tr>\n",
       "  </thead>\n",
       "  <tbody>\n",
       "    <tr>\n",
       "      <th>8</th>\n",
       "      <td>KYW1000</td>\n",
       "      <td>16.0</td>\n",
       "      <td>0.66</td>\n",
       "      <td>0.0891</td>\n",
       "      <td>0.0033</td>\n",
       "      <td>10.4</td>\n",
       "      <td>157.0</td>\n",
       "      <td>47,XY,+11[19]/46,XY[1]</td>\n",
       "      <td>4</td>\n",
       "      <td>106156669.0</td>\n",
       "      <td>106156669.0</td>\n",
       "      <td>G</td>\n",
       "      <td>T</td>\n",
       "      <td>TET2</td>\n",
       "      <td>p.E524X</td>\n",
       "      <td>stop_gained</td>\n",
       "      <td>0.376</td>\n",
       "      <td>431.0</td>\n",
       "      <td>1</td>\n",
       "    </tr>\n",
       "    <tr>\n",
       "      <th>9</th>\n",
       "      <td>KYW1000</td>\n",
       "      <td>16.0</td>\n",
       "      <td>0.66</td>\n",
       "      <td>0.0891</td>\n",
       "      <td>0.0033</td>\n",
       "      <td>10.4</td>\n",
       "      <td>157.0</td>\n",
       "      <td>47,XY,+11[19]/46,XY[1]</td>\n",
       "      <td>4</td>\n",
       "      <td>106158407.0</td>\n",
       "      <td>106158407.0</td>\n",
       "      <td>-</td>\n",
       "      <td>T</td>\n",
       "      <td>TET2</td>\n",
       "      <td>p.N1103fs</td>\n",
       "      <td>frameshift_variant</td>\n",
       "      <td>0.056</td>\n",
       "      <td>248.0</td>\n",
       "      <td>1</td>\n",
       "    </tr>\n",
       "    <tr>\n",
       "      <th>10</th>\n",
       "      <td>KYW1000</td>\n",
       "      <td>16.0</td>\n",
       "      <td>0.66</td>\n",
       "      <td>0.0891</td>\n",
       "      <td>0.0033</td>\n",
       "      <td>10.4</td>\n",
       "      <td>157.0</td>\n",
       "      <td>47,XY,+11[19]/46,XY[1]</td>\n",
       "      <td>4</td>\n",
       "      <td>106196458.0</td>\n",
       "      <td>106196458.0</td>\n",
       "      <td>C</td>\n",
       "      <td>-</td>\n",
       "      <td>TET2</td>\n",
       "      <td>p.F1597fs</td>\n",
       "      <td>frameshift_variant</td>\n",
       "      <td>0.316</td>\n",
       "      <td>718.0</td>\n",
       "      <td>1</td>\n",
       "    </tr>\n",
       "    <tr>\n",
       "      <th>11</th>\n",
       "      <td>KYW1000</td>\n",
       "      <td>16.0</td>\n",
       "      <td>0.66</td>\n",
       "      <td>0.0891</td>\n",
       "      <td>0.0033</td>\n",
       "      <td>10.4</td>\n",
       "      <td>157.0</td>\n",
       "      <td>47,XY,+11[19]/46,XY[1]</td>\n",
       "      <td>X</td>\n",
       "      <td>15809094.0</td>\n",
       "      <td>15809094.0</td>\n",
       "      <td>C</td>\n",
       "      <td>T</td>\n",
       "      <td>ZRSR2</td>\n",
       "      <td>p.R27X</td>\n",
       "      <td>stop_gained</td>\n",
       "      <td>0.833</td>\n",
       "      <td>54.0</td>\n",
       "      <td>1</td>\n",
       "    </tr>\n",
       "    <tr>\n",
       "      <th>12</th>\n",
       "      <td>KYW1000</td>\n",
       "      <td>16.0</td>\n",
       "      <td>0.66</td>\n",
       "      <td>0.0891</td>\n",
       "      <td>0.0033</td>\n",
       "      <td>10.4</td>\n",
       "      <td>157.0</td>\n",
       "      <td>47,XY,+11[19]/46,XY[1]</td>\n",
       "      <td>X</td>\n",
       "      <td>123220400.0</td>\n",
       "      <td>123220400.0</td>\n",
       "      <td>T</td>\n",
       "      <td>A</td>\n",
       "      <td>STAG2</td>\n",
       "      <td>p.Y1019X</td>\n",
       "      <td>stop_gained</td>\n",
       "      <td>0.605</td>\n",
       "      <td>119.0</td>\n",
       "      <td>1</td>\n",
       "    </tr>\n",
       "    <tr>\n",
       "      <th>...</th>\n",
       "      <td>...</td>\n",
       "      <td>...</td>\n",
       "      <td>...</td>\n",
       "      <td>...</td>\n",
       "      <td>...</td>\n",
       "      <td>...</td>\n",
       "      <td>...</td>\n",
       "      <td>...</td>\n",
       "      <td>...</td>\n",
       "      <td>...</td>\n",
       "      <td>...</td>\n",
       "      <td>...</td>\n",
       "      <td>...</td>\n",
       "      <td>...</td>\n",
       "      <td>...</td>\n",
       "      <td>...</td>\n",
       "      <td>...</td>\n",
       "      <td>...</td>\n",
       "      <td>...</td>\n",
       "    </tr>\n",
       "    <tr>\n",
       "      <th>3223</th>\n",
       "      <td>KYW999</td>\n",
       "      <td>1.0</td>\n",
       "      <td>1.16</td>\n",
       "      <td>0.2900</td>\n",
       "      <td>0.0928</td>\n",
       "      <td>6.3</td>\n",
       "      <td>233.0</td>\n",
       "      <td>46,XY,inv(17)(p11.2q21.2)[1]/46,XY[19]</td>\n",
       "      <td>20</td>\n",
       "      <td>31022412.0</td>\n",
       "      <td>31022412.0</td>\n",
       "      <td>-</td>\n",
       "      <td>A</td>\n",
       "      <td>ASXL1</td>\n",
       "      <td>p.H633fs</td>\n",
       "      <td>frameshift_variant</td>\n",
       "      <td>0.471</td>\n",
       "      <td>410.0</td>\n",
       "      <td>1</td>\n",
       "    </tr>\n",
       "    <tr>\n",
       "      <th>3224</th>\n",
       "      <td>KYW999</td>\n",
       "      <td>1.0</td>\n",
       "      <td>1.16</td>\n",
       "      <td>0.2900</td>\n",
       "      <td>0.0928</td>\n",
       "      <td>6.3</td>\n",
       "      <td>233.0</td>\n",
       "      <td>46,XY,inv(17)(p11.2q21.2)[1]/46,XY[19]</td>\n",
       "      <td>21</td>\n",
       "      <td>36252866.0</td>\n",
       "      <td>36252866.0</td>\n",
       "      <td>G</td>\n",
       "      <td>C</td>\n",
       "      <td>RUNX1</td>\n",
       "      <td>p.R166G</td>\n",
       "      <td>non_synonymous_codon</td>\n",
       "      <td>0.436</td>\n",
       "      <td>330.0</td>\n",
       "      <td>1</td>\n",
       "    </tr>\n",
       "    <tr>\n",
       "      <th>3225</th>\n",
       "      <td>KYW999</td>\n",
       "      <td>1.0</td>\n",
       "      <td>1.16</td>\n",
       "      <td>0.2900</td>\n",
       "      <td>0.0928</td>\n",
       "      <td>6.3</td>\n",
       "      <td>233.0</td>\n",
       "      <td>46,XY,inv(17)(p11.2q21.2)[1]/46,XY[19]</td>\n",
       "      <td>X</td>\n",
       "      <td>15818077.0</td>\n",
       "      <td>15818077.0</td>\n",
       "      <td>G</td>\n",
       "      <td>A</td>\n",
       "      <td>ZRSR2</td>\n",
       "      <td>c.203+1G&gt;A</td>\n",
       "      <td>nan</td>\n",
       "      <td>0.969</td>\n",
       "      <td>64.0</td>\n",
       "      <td>1</td>\n",
       "    </tr>\n",
       "    <tr>\n",
       "      <th>3226</th>\n",
       "      <td>KYW999</td>\n",
       "      <td>1.0</td>\n",
       "      <td>1.16</td>\n",
       "      <td>0.2900</td>\n",
       "      <td>0.0928</td>\n",
       "      <td>6.3</td>\n",
       "      <td>233.0</td>\n",
       "      <td>46,XY,inv(17)(p11.2q21.2)[1]/46,XY[19]</td>\n",
       "      <td>X</td>\n",
       "      <td>123215272.0</td>\n",
       "      <td>123215272.0</td>\n",
       "      <td>A</td>\n",
       "      <td>-</td>\n",
       "      <td>STAG2</td>\n",
       "      <td>p.R940fs</td>\n",
       "      <td>frameshift_variant</td>\n",
       "      <td>0.854</td>\n",
       "      <td>205.0</td>\n",
       "      <td>1</td>\n",
       "    </tr>\n",
       "    <tr>\n",
       "      <th>3227</th>\n",
       "      <td>KYW999</td>\n",
       "      <td>1.0</td>\n",
       "      <td>1.16</td>\n",
       "      <td>0.2900</td>\n",
       "      <td>0.0928</td>\n",
       "      <td>6.3</td>\n",
       "      <td>233.0</td>\n",
       "      <td>46,XY,inv(17)(p11.2q21.2)[1]/46,XY[19]</td>\n",
       "      <td>X</td>\n",
       "      <td>123215272.0</td>\n",
       "      <td>123215272.0</td>\n",
       "      <td>A</td>\n",
       "      <td>T</td>\n",
       "      <td>STAG2</td>\n",
       "      <td>p.R940X</td>\n",
       "      <td>stop_gained</td>\n",
       "      <td>0.154</td>\n",
       "      <td>26.0</td>\n",
       "      <td>1</td>\n",
       "    </tr>\n",
       "  </tbody>\n",
       "</table>\n",
       "<p>1146 rows × 19 columns</p>\n",
       "</div>"
      ],
      "text/plain": [
       "           ID  BM_BLAST   WBC     ANC  ...                EFFECT    VAF  DEPTH SEX\n",
       "8     KYW1000      16.0  0.66  0.0891  ...           stop_gained  0.376  431.0   1\n",
       "9     KYW1000      16.0  0.66  0.0891  ...    frameshift_variant  0.056  248.0   1\n",
       "10    KYW1000      16.0  0.66  0.0891  ...    frameshift_variant  0.316  718.0   1\n",
       "11    KYW1000      16.0  0.66  0.0891  ...           stop_gained  0.833   54.0   1\n",
       "12    KYW1000      16.0  0.66  0.0891  ...           stop_gained  0.605  119.0   1\n",
       "...       ...       ...   ...     ...  ...                   ...    ...    ...  ..\n",
       "3223   KYW999       1.0  1.16  0.2900  ...    frameshift_variant  0.471  410.0   1\n",
       "3224   KYW999       1.0  1.16  0.2900  ...  non_synonymous_codon  0.436  330.0   1\n",
       "3225   KYW999       1.0  1.16  0.2900  ...                   nan  0.969   64.0   1\n",
       "3226   KYW999       1.0  1.16  0.2900  ...    frameshift_variant  0.854  205.0   1\n",
       "3227   KYW999       1.0  1.16  0.2900  ...           stop_gained  0.154   26.0   1\n",
       "\n",
       "[1146 rows x 19 columns]"
      ]
     },
     "execution_count": 57,
     "metadata": {},
     "output_type": "execute_result"
    }
   ],
   "source": [
    "data_train[data_train[\"SEX\"]==1]"
   ]
  },
  {
   "cell_type": "code",
   "execution_count": 58,
   "metadata": {},
   "outputs": [],
   "source": [
    "#Traitement valeurs manquantes si homme femme ou unknown imputer mediane\n",
    "\n",
    "cols_to_impute = ['BM_BLAST', 'HB', 'PLT', 'ANC', 'WBC', 'MONOCYTES', 'DEPTH', 'VAF']\n",
    "\n",
    "# Fonction pour imputer en utilisant la médiane par groupe\n",
    "def impute_by_group(df, group_col, cols):\n",
    "    imputed_df = df.copy()\n",
    "    for group in df[group_col].unique():\n",
    "        group_median = df[df[group_col] == group][cols].median()  \n",
    "        imputed_df.loc[df[group_col] == group, cols] = df[df[group_col] == group][cols].fillna(group_median)\n",
    "    return imputed_df\n",
    "\n",
    "data_train = impute_by_group(data_train, \"SEX\", cols_to_impute)"
   ]
  },
  {
   "cell_type": "code",
   "execution_count": 59,
   "metadata": {},
   "outputs": [],
   "source": [
    "missing_ratio = data_train.isna().mean() \n",
    "cols_to_drop = missing_ratio[missing_ratio > 0.5].index.tolist()\n",
    "data_train = data_train.drop(columns = cols_to_drop)\n"
   ]
  },
  {
   "cell_type": "markdown",
   "metadata": {},
   "source": [
    "Variables non utile pour le modèle :\n",
    "\n",
    "-  CHR, START, END : La position seule n’indique pas l’impact biologique de la mutation. Ce qui est vraiment utile, c’est le gène affecté et l’effet de la mutation (déjà fourni par les variables GENE et EFFECT).\n",
    "Ce sont des variables très spécifiques qui risquent d’être trop granulaires pour un modèle de ML (car des milliers de positions peuvent exister). On pourrait toutefois les regrouper en secteurs.\n",
    "\n",
    "- CENTER : Le centre médical n'est pas pertinente pour répondre à la problématique : évaluer le risque de décès pour les patients diagnostiqués avec un cancer du sang.\n",
    "On peut toutefois vérifier s'il existe une différence significatives concernant les compétences/qualités des cliniques, qui impacteraient le risque de décès."
   ]
  },
  {
   "cell_type": "markdown",
   "metadata": {},
   "source": [
    "Variables utiles  :\n",
    "Ces variables donnent des informations sur l’état physiologique du patient et peuvent être de bons indicateurs du risque de décès.\n",
    "\n",
    "* BM_BLAST : Indicateur clé de la proportion de cellules sanguines anormales dans la moelle osseuse. Un taux élevé est souvent associé à une maladie plus agressive et un pronostic plus défavorable.\n",
    "\n",
    "* WBC (Globules blancs) : Peut refléter la gravité de la maladie ; une élévation anormale peut être associée à un risque accru de complications.\n",
    "\n",
    "* ANC (Neutrophiles absolus) : Essentiel pour évaluer l'état du système immunitaire et les risques d’infections opportunistes.\n",
    "\n",
    "* MONOCYTES : Un taux élevé de monocytes peut être associé à une inflammation chronique et à une progression plus rapide de la maladie.\n",
    "\n",
    "* HB (Hémoglobine) : Un faible taux d’hémoglobine est un marqueur d’anémie, souvent observé dans les cancers du sang avancés.\n",
    "\n",
    "* PLT (Plaquettes) : Une thrombocytopénie (faible nombre de plaquettes) peut être associée à un mauvais pronostic, car elle peut entraîner des complications hémorragiques.\n",
    "\n",
    "* CYTOGENETICS : Les anomalies chromosomiques sont souvent des indicateurs de l’agressivité du cancer. Par exemple, la monosomie 7 est un marqueur de haut risque."
   ]
  },
  {
   "cell_type": "markdown",
   "metadata": {},
   "source": [
    "On vérifie la granularité des colonnes (confirmer la supression des colonnes de positions de la mutations):\n",
    "- START à 4645 valeurs distinctes\n",
    "- END a 4664 vlaures disctinctes\n",
    "- CHR possède 23 données.\n",
    "\n",
    "On remarque également qu'il n'y a que 3'026 ID distincts pour plus de 10'000 lignes dans le dateset molecular_train, ce qui signifie que certains patient ont plusieurs mutations génétiques.\n",
    "\n",
    "Il peut donc être pertinent de synthétiser les informations de ce dataset pour ne posséder qu'une ligne par ID. En effet, il ne faut pas faire une analyse par mutation mais une analyse par patient.\n",
    "\n",
    "On peut créer une variable qui stock le nombre total de mutations par patients, cela pourrait améliorer la mesure de risque. \n",
    "\n"
   ]
  },
  {
   "cell_type": "code",
   "execution_count": 60,
   "metadata": {},
   "outputs": [
    {
     "data": {
      "text/plain": [
       "ID                1193\n",
       "BM_BLAST            82\n",
       "WBC                458\n",
       "ANC                937\n",
       "MONOCYTES          271\n",
       "HB                 119\n",
       "PLT                322\n",
       "CYTOGENETICS       708\n",
       "CHR                 22\n",
       "START             1534\n",
       "END               1528\n",
       "REF                140\n",
       "ALT                 81\n",
       "GENE                83\n",
       "PROTEIN_CHANGE    1589\n",
       "EFFECT               9\n",
       "VAF                792\n",
       "DEPTH             1041\n",
       "SEX                  3\n",
       "dtype: int64"
      ]
     },
     "execution_count": 60,
     "metadata": {},
     "output_type": "execute_result"
    }
   ],
   "source": [
    "data_train.nunique()"
   ]
  },
  {
   "cell_type": "markdown",
   "metadata": {},
   "source": [
    "CYTOGENETICS : Les anomalies chromosomiques sont souvent des indicateurs de l’agressivité du cancer. Par exemple, la monosomie 7 est un marqueur de haut risque.\n",
    "\n",
    "Or il y'a plus de 1194 données différents pour 2936 valeurs, (3223-2936 == NA)."
   ]
  },
  {
   "cell_type": "code",
   "execution_count": 61,
   "metadata": {},
   "outputs": [
    {
     "data": {
      "text/plain": [
       "ID\n",
       "KYW791     14\n",
       "KYW203     13\n",
       "KYW733     13\n",
       "KYW201     13\n",
       "KYW202     11\n",
       "           ..\n",
       "KYW696      1\n",
       "KYW1099     1\n",
       "KYW460      1\n",
       "KYW692      1\n",
       "KYW194      1\n",
       "Name: count, Length: 1193, dtype: int64"
      ]
     },
     "execution_count": 61,
     "metadata": {},
     "output_type": "execute_result"
    }
   ],
   "source": [
    "data_train[\"ID\"].value_counts()"
   ]
  },
  {
   "cell_type": "code",
   "execution_count": 62,
   "metadata": {},
   "outputs": [
    {
     "data": {
      "text/plain": [
       "ID\n",
       "KYW791     14\n",
       "KYW733     13\n",
       "KYW201     13\n",
       "KYW203     13\n",
       "KYW202     11\n",
       "           ..\n",
       "KYW1083     1\n",
       "KYW35       1\n",
       "KYW170      1\n",
       "KYW974      1\n",
       "KYW18       1\n",
       "Name: count, Length: 1054, dtype: int64"
      ]
     },
     "execution_count": 62,
     "metadata": {},
     "output_type": "execute_result"
    }
   ],
   "source": [
    "Xtrain_clin[\"ID\"].value_counts()\n",
    "Xtrain_mol[\"ID\"].value_counts() #dans mol il y a des id qui se répètent"
   ]
  },
  {
   "cell_type": "code",
   "execution_count": 68,
   "metadata": {},
   "outputs": [
    {
     "data": {
      "text/plain": [
       "ID\n",
       "P132697    1\n",
       "P120833    1\n",
       "P120866    1\n",
       "P120852    1\n",
       "P120858    1\n",
       "          ..\n",
       "P110864    1\n",
       "P110865    1\n",
       "P110866    1\n",
       "P110867    1\n",
       "P121834    1\n",
       "Name: count, Length: 3173, dtype: int64"
      ]
     },
     "execution_count": 68,
     "metadata": {},
     "output_type": "execute_result"
    }
   ],
   "source": [
    "target_data[\"ID\"].value_counts()"
   ]
  },
  {
   "cell_type": "code",
   "execution_count": 69,
   "metadata": {},
   "outputs": [],
   "source": [
    "# Sélection des colonnes numériques\n",
    "numerical_cols = data_train.select_dtypes(include=['float64', 'int64']).columns"
   ]
  },
  {
   "cell_type": "code",
   "execution_count": 70,
   "metadata": {},
   "outputs": [],
   "source": [
    "# Normalisation et encodage\n",
    "scaler = StandardScaler()\n",
    "Xtrain_scaled = scaler.fit_transform(data_train[numerical_cols])\n"
   ]
  },
  {
   "cell_type": "code",
   "execution_count": null,
   "metadata": {},
   "outputs": [],
   "source": [
    "imputer = SimpleImputer(strategy='mean')\n",
    "X_train_imputed = imputer.fit_transform(X_train)"
   ]
  },
  {
   "cell_type": "code",
   "execution_count": 72,
   "metadata": {},
   "outputs": [],
   "source": [
    "# Reconstruire un DataFrame avec les données normalisées\n",
    "data_train_scaled_df = pd.DataFrame(Xtrain_scaled, columns=numerical_cols)"
   ]
  },
  {
   "cell_type": "code",
   "execution_count": 73,
   "metadata": {},
   "outputs": [],
   "source": [
    "data_train_non_numeric = data_train.drop(columns=numerical_cols)"
   ]
  },
  {
   "cell_type": "code",
   "execution_count": 77,
   "metadata": {},
   "outputs": [],
   "source": [
    "# Concaténation des nouvelles colonnes normalisées avec les non numériques\n",
    "data_train_complete = pd.concat([data_train_non_numeric, data_train_scaled_df], axis=1)"
   ]
  },
  {
   "cell_type": "markdown",
   "metadata": {},
   "source": [
    "On veut rattacher les deux dataframe pour n'en créer qu'un seul, on utilisera les clés uniques : \"ID\".\n",
    "Dans le dataframe molecule train, on a plus de dis milles lignes. Alors qu'il n'yen a que 3323 dans le dataframe clinical train.\n",
    "Celles dont l'ID n'est pas inclus dans clinical train seront supprimés."
   ]
  },
  {
   "cell_type": "markdown",
   "metadata": {},
   "source": [
    "À traiter : \n",
    "• Duplicated observations\n",
    "\n",
    "• Missing data\n",
    "\n",
    "• Heterogeneity in data reporting conventions: frequency of observations, units, date format, missing data representation, ... \n",
    "\n",
    "• Inconsistencies between databases\n",
    "\n",
    "• ...\n",
    "\n",
    "Some rules:\n",
    "\n",
    "• Get acquainted with the data to get a better understanding of what they represent and understand the way they are encoded\n",
    "\n",
    "\n",
    "• Perform exploratory analyses: number of observations, number of  missing values, the average value of features, median, standard deviation, inter-quartile range, binning/clustering correlations, ...\n",
    "\n",
    "• Objective: identification of useful features, outliers, ...\n",
    "\n",
    "Data cleaning :\n",
    "\n",
    "• Missing data handling: deletion or imputation\n",
    "\n",
    "• Duplicated data: techniques for deduplicating data\n",
    "\n",
    "• Handling of outliers: deletion, winsorization\n",
    "\n",
    "• Inconsistencies: partially automatic detection is made possible through functional dependencies (e.g. a city must always have the same zip code)\n",
    "\n",
    "Data transformation :\n",
    "\n",
    "• Feature scaling: some ML algorithms do not perform well when the input numerical attributes display very different scales, e.g. revenue vs. ratio. Normalization and standardization are two common ways to get all attributes to have the same scale Aggregation: e.g. cumulate daily data to transform them into monthly data\n",
    "\n",
    "• Features construction: addition or replacement of some features by new features computed from existing ones (e.g. log transformation or power transformation to capture non-linearities)\n",
    "\n",
    "• Discretization: the transformation of numerical values into classes"
   ]
  },
  {
   "cell_type": "code",
   "execution_count": null,
   "metadata": {},
   "outputs": [],
   "source": [
    "def prepare_survival_data(X, Y):\n",
    "    Y['event'] = Y['event'].astype(bool)\n",
    "    Y_surv = Surv.from_dataframe(\"event\", \"time\", Y)\n",
    "    return X, Y_surv"
   ]
  },
  {
   "cell_type": "code",
   "execution_count": null,
   "metadata": {},
   "outputs": [],
   "source": [
    "X_train, Y_train_surv = prepare_survival_data(X_train, Y_train)\n",
    "X_test, Y_test_surv = prepare_survival_data(X_test, Y_test)"
   ]
  },
  {
   "cell_type": "code",
   "execution_count": null,
   "metadata": {},
   "outputs": [],
   "source": [
    "#séparer les données en train et test\n",
    "X_train, X_test, y_train, y_test = train_test_split(X, y, test_size=0.3, random_state=42)"
   ]
  },
  {
   "cell_type": "code",
   "execution_count": null,
   "metadata": {},
   "outputs": [],
   "source": [
    "#imputer = SimpleImputer(strategy=\"median\")\n",
    "#X_train[['BM_BLAST', 'HB', 'PLT']] = imputer.fit_transform(X_train[['BM_BLAST', 'HB', 'PLT']])\n",
    "#X_test[['BM_BLAST', 'HB', 'PLT']] = imputer.transform(X_test[['BM_BLAST', 'HB', 'PLT']])"
   ]
  },
  {
   "cell_type": "code",
   "execution_count": 79,
   "metadata": {},
   "outputs": [],
   "source": [
    "# 1. Modèle de Cox\n",
    "#cox_model = CoxPHSurvivalAnalysis()\n",
    "#cox_model.fit(X_train, Y_train_surv)\n",
    "#cox_cindex = cox_model.score(X_test, Y_test_surv)\n",
    "#print(f\"Concordance Index - Cox Model: {cox_cindex:.4f}\")"
   ]
  },
  {
   "cell_type": "code",
   "execution_count": 80,
   "metadata": {},
   "outputs": [],
   "source": [
    "# 2. Random Survival Forest\n",
    "#rsf = RandomSurvivalForest(n_estimators=100, min_samples_split=10, min_samples_leaf=15, random_state=42)\n",
    "#rsf.fit(X_train, Y_train_surv)\n",
    "#rsf_cindex = rsf.score(X_test, Y_test_surv)\n",
    "#print(f\"Concordance Index - RSF: {rsf_cindex:.4f}\")"
   ]
  },
  {
   "cell_type": "code",
   "execution_count": 81,
   "metadata": {},
   "outputs": [],
   "source": [
    "# 3. LightGBM (approche survie)\n",
    "#lgb_train = lgb.Dataset(X_train, label=Y_train[\"time\"], free_raw_data=False)\n",
    "#lgb_test = lgb.Dataset(X_test, label=Y_test[\"time\"], free_raw_data=False)\n",
    "#params = {\"objective\": \"survival\", \"metric\": \"cindex\", \"boosting_type\": \"gbdt\", \"learning_rate\": 0.05}\n",
    "#lgb_model = lgb.train(params, lgb_train, num_boost_round=100)\n",
    "#lgb_preds = lgb_model.predict(X_test)\n",
    "#lgb_cindex = np.corrcoef(lgb_preds, Y_test[\"time\"])[0, 1]\n",
    "#print(f\"Concordance Index - LightGBM: {lgb_cindex:.4f}\")"
   ]
  },
  {
   "cell_type": "code",
   "execution_count": 82,
   "metadata": {},
   "outputs": [],
   "source": [
    "# 4. DeepSurv (PyCox)\n",
    "#deep_surv = CoxPH(tt.optim.Adam(0.01), X_train.shape[1])\n",
    "#deep_surv.fit(X_train, Y_train_surv, batch_size=32, epochs=100, verbose=True)\n",
    "#deep_cindex = deep_surv.score(X_test, Y_test_surv)\n",
    "#print(f\"Concordance Index - DeepSurv: {deep_cindex:.4f}\")"
   ]
  },
  {
   "cell_type": "code",
   "execution_count": null,
   "metadata": {},
   "outputs": [],
   "source": []
  }
 ],
 "metadata": {
  "kernelspec": {
   "display_name": "Python 3",
   "language": "python",
   "name": "python3"
  },
  "language_info": {
   "codemirror_mode": {
    "name": "ipython",
    "version": 3
   },
   "file_extension": ".py",
   "mimetype": "text/x-python",
   "name": "python",
   "nbconvert_exporter": "python",
   "pygments_lexer": "ipython3",
   "version": "3.12.7"
  }
 },
 "nbformat": 4,
 "nbformat_minor": 2
}
