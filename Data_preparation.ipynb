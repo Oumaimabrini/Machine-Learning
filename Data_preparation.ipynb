{
 "cells": [
  {
   "cell_type": "code",
   "execution_count": 78,
   "metadata": {},
   "outputs": [],
   "source": [
    "# Suppression des warnings\n",
    "import warnings\n",
    "warnings.filterwarnings('ignore')"
   ]
  },
  {
   "cell_type": "code",
   "execution_count": 79,
   "metadata": {},
   "outputs": [],
   "source": [
    "import pandas as pd\n",
    "import numpy as np\n",
    "import matplotlib.pyplot as plt\n",
    "import seaborn as sns\n",
    "import re"
   ]
  },
  {
   "cell_type": "code",
   "execution_count": 177,
   "metadata": {},
   "outputs": [],
   "source": [
    "from sklearn.model_selection import train_test_split\n",
    "from sklearn.model_selection import cross_val_score\n",
    "from sklearn.preprocessing import StandardScaler, OneHotEncoder\n",
    "from sklearn.preprocessing import StandardScaler, MinMaxScaler\n",
    "from sksurv.linear_model import CoxPHSurvivalAnalysis\n",
    "from sksurv.ensemble import RandomSurvivalForest\n",
    "import lightgbm as lgb\n",
    "from pycox.models import CoxPH, DeepHitSingle\n",
    "from sklearn.impute import SimpleImputer\n",
    "import torchtuples as tt\n",
    "import torch\n",
    "\n",
    "from sksurv.util import Surv"
   ]
  },
  {
   "cell_type": "markdown",
   "metadata": {},
   "source": [
    "Le **Data Challenge de QRT**, en collaboration avec l’Institut Gustave Roussy, vise à prédire le risque de décès des patients atteints d’une leucémie myéloïde adulte en utilisant des données cliniques et moléculaires. La LMA est une forme de cancer du sang et de la moelle osseuse caractérisée par la prolifération rapide de cellules myéloïdes immatures. Ces cellules anormales s'accumulent dans la moelle osseuse, perturbant la production de cellules sanguines normales. L’objectif est de développer un outil de prédiction du risque de décès pour les patients diagnostiqués avec un cancer du sang. Cette métrique a pour vocation d'aider les soignants à adapter des stratégies thérapeutiques en adapter du profil des patients : haut ou faible risque, et ainsi améliorer leur prise en charge.\n",
    "\n",
    "Nous allons travailler sur un **jeu de données** comprenant des informations de 3 323 patients en entraînement et 1 193 en test, issues de 24 centres cliniques. Deux types de données sont exploitées :\n",
    "- **Données cliniques** (ex. taux de globules blancs, hémoglobine, anomalies chromosomiques).\n",
    "- **Données moléculaires** (mutations génétiques et impact sur les protéines).\n",
    "\n",
    "L’évaluation repose sur l’**IPCW-C-index**, une métrique adaptée aux données censurées. Un **modèle de risques proportionnels de Cox** sert de benchmark, comparé à un modèle LightGBM plus simple. L’objectif final est de soumettre des prédictions de risque de décès sous forme de fichier CSV.\n",
    "\n",
    "Dans le cadre du cours de **machine learning**, nous travaillons sur ce projet pour développer des modèles prédictifs et améliorer la compréhension des approches en analyse de survie."
   ]
  },
  {
   "cell_type": "markdown",
   "metadata": {},
   "source": [
    "# Récupération des données : "
   ]
  },
  {
   "cell_type": "code",
   "execution_count": 129,
   "metadata": {},
   "outputs": [],
   "source": [
    "### Chargement des données train\n",
    "Xtrain_clin = pd.read_csv(\"./clinical_train.csv\")\n",
    "Xtrain_mol = pd.read_csv(\"./molecular_train.csv\")\n",
    "\n",
    "\n",
    "Y_train = pd.read_csv(\"./target_train.csv\")\n",
    "\n",
    "### Chargement des données test\n",
    "Xtest_clin = pd.read_csv(\"./clinical_test.csv\")\n",
    "Xtest_mol = pd.read_csv(\"./molecular_test.csv\")\n",
    "\n",
    "features = ['BM_BLAST', 'HB', 'PLT']\n",
    "target = ['OS_YEARS', 'OS_STATUS']\n",
    "\n",
    "\n",
    "\n"
   ]
  },
  {
   "cell_type": "markdown",
   "metadata": {},
   "source": [
    "# Présentation des dataset :"
   ]
  },
  {
   "cell_type": "markdown",
   "metadata": {},
   "source": [
    "### Aperçu des données :"
   ]
  },
  {
   "cell_type": "code",
   "execution_count": 131,
   "metadata": {},
   "outputs": [
    {
     "name": "stdout",
     "output_type": "stream",
     "text": [
      "        ID CENTER  BM_BLAST    WBC  ANC  MONOCYTES    HB    PLT  \\\n",
      "0  P132697    MSK      14.0    2.8  0.2        0.7   7.6  119.0   \n",
      "1  P132698    MSK       1.0    7.4  2.4        0.1  11.6   42.0   \n",
      "2  P116889    MSK      15.0    3.7  2.1        0.1  14.2   81.0   \n",
      "3  P132699    MSK       1.0    3.9  1.9        0.1   8.9   77.0   \n",
      "4  P132700    MSK       6.0  128.0  9.7        0.9  11.1  195.0   \n",
      "\n",
      "                          CYTOGENETICS  \n",
      "0      46,xy,del(20)(q12)[2]/46,xy[18]  \n",
      "1                                46,xx  \n",
      "2   46,xy,t(3;3)(q25;q27)[8]/46,xy[12]  \n",
      "3    46,xy,del(3)(q26q27)[15]/46,xy[5]  \n",
      "4  46,xx,t(3;9)(p13;q22)[10]/46,xx[10]  \n",
      "        ID CHR        START          END                REF ALT    GENE  \\\n",
      "0  P100000  11  119149248.0  119149248.0                  G   A     CBL   \n",
      "1  P100000   5  131822301.0  131822301.0                  G   T    IRF1   \n",
      "2  P100000   3   77694060.0   77694060.0                  G   C   ROBO2   \n",
      "3  P100000   4  106164917.0  106164917.0                  G   T    TET2   \n",
      "4  P100000   2   25468147.0   25468163.0  ACGAAGAGGGGGTGTTC   A  DNMT3A   \n",
      "\n",
      "  PROTEIN_CHANGE                EFFECT     VAF   DEPTH  \n",
      "0        p.C419Y  non_synonymous_codon  0.0830  1308.0  \n",
      "1        p.Y164*           stop_gained  0.0220   532.0  \n",
      "2            p.?   splice_site_variant  0.4100   876.0  \n",
      "3       p.R1262L  non_synonymous_codon  0.4300   826.0  \n",
      "4   p.E505fs*141    frameshift_variant  0.0898   942.0  \n"
     ]
    }
   ],
   "source": [
    "print(Xtrain_clin.head())\n",
    "print(Xtrain_mol.head())"
   ]
  },
  {
   "cell_type": "markdown",
   "metadata": {},
   "source": [
    "# Données cliniques : \n",
    "- ID : Identifiant unique du patient.\n",
    "- CENTER : Centre médical où le patient a été traité.\n",
    "- BM_BLAST : Pourcentage de cellules blastiques dans la moelle osseuse (critère clé pour les leucémies).\n",
    "- WBC : Nombre de globules blancs (White Blood Cell count).\n",
    "- ANC : Nombre absolu de neutrophiles.\n",
    "- MONOCYTES : Nombre de monocytes.\n",
    "- HB : Niveau d’hémoglobine.\n",
    "- PLT : Nombre de plaquettes sanguines.\n",
    "- CYTOGENETICS : Anomalies cytogénétiques détectées.\n",
    "\n",
    "Variables qualitatives : ID, Center, Cytogenetics\n",
    "\n",
    "Varaibles quantitatives : BM_BLAST, WBC, ANC, MONOCTES, HB, PLT"
   ]
  },
  {
   "cell_type": "markdown",
   "metadata": {},
   "source": [
    "# Données moléculaires\n",
    "- ID : Identifiant unique du patient.\n",
    "- CHR : Chromosome où la mutation a été détectée.\n",
    "- START / END : Position génomique de la mutation.\n",
    "- REF / ALT : Base de référence et base mutée.\n",
    "- GENE : Nom du gène affecté.\n",
    "- PROTEIN_CHANGE : Modification de la protéine codée.\n",
    "- EFFECT : Effet de la mutation (non_synonymous_codon, stop_gained, etc.).\n",
    "- VAF : Fréquence allélique de la mutation (proportion des copies de l’ADN affectées).\n",
    "- DEPTH : Profondeur de lecture (nombre de fois que cette mutation a été détectée dans le séquençage).\n",
    "\n",
    "Variables qualitatives : ID, CHR, REF, ALT, GENE, PROTEIN_CHANGE, EFFECT\n",
    "\n",
    "Variables quantitatives : START, END, VAF, DEPTH"
   ]
  },
  {
   "cell_type": "code",
   "execution_count": 132,
   "metadata": {},
   "outputs": [],
   "source": [
    "#print(\"Aperçu des données cible:\")\n",
    "#print(Y_train.head())"
   ]
  },
  {
   "cell_type": "markdown",
   "metadata": {},
   "source": [
    "# Variable cible (survie des patiencts)\n",
    "- ID : \n",
    "- OS_YEARS : Durée de survie en années après le diagnostic.\n",
    "- OS_STATUS : Statut de survie lors du dernier suivi (0 = en vie, 1 = décédé)."
   ]
  },
  {
   "cell_type": "markdown",
   "metadata": {},
   "source": [
    "# Description statistique des dataset."
   ]
  },
  {
   "cell_type": "markdown",
   "metadata": {},
   "source": [
    "Dans les extraits ci dessous, les descriptions statistiques ne peuvent s'effectuer que pour les varaibles quantitatives."
   ]
  },
  {
   "cell_type": "code",
   "execution_count": 170,
   "metadata": {},
   "outputs": [
    {
     "name": "stdout",
     "output_type": "stream",
     "text": [
      "Description statistique des données :\n",
      "          BM_BLAST          WBC          ANC    MONOCYTES           HB  \\\n",
      "count  3323.000000  3051.000000  3130.000000  2722.000000  3323.000000   \n",
      "mean      5.884713     6.535164     3.264735     0.955868     9.887142   \n",
      "std       7.508283    10.247219     5.237043     2.666478     2.007378   \n",
      "min       0.000000     0.200000     0.000000     0.000000     4.000000   \n",
      "25%       1.300000     2.700000     1.000000     0.150000     8.600000   \n",
      "50%       3.000000     4.100000     2.000000     0.370000     9.700000   \n",
      "75%       8.000000     6.655000     3.690000     0.783000    11.100000   \n",
      "max      91.000000   154.400000   109.620000    44.200000    16.600000   \n",
      "\n",
      "               PLT     SEX  \n",
      "count  3323.000000  3323.0  \n",
      "mean    165.405185     2.0  \n",
      "std     146.898251     0.0  \n",
      "min       2.000000     2.0  \n",
      "25%      67.000000     2.0  \n",
      "50%     123.000000     2.0  \n",
      "75%     223.500000     2.0  \n",
      "max    1451.000000     2.0  \n",
      "              START           END        EFFECT           VAF         DEPTH\n",
      "count  1.082100e+04  1.082100e+04  10935.000000  10846.000000  10821.000000\n",
      "mean   8.078326e+07  8.078326e+07     -0.468861      0.305087   1051.229554\n",
      "std    5.642656e+07  5.642656e+07      0.499052      0.211524    552.861902\n",
      "min    3.948990e+05  3.948990e+05     -1.000000      0.020000     16.000000\n",
      "25%    3.102244e+07  3.102244e+07     -1.000000      0.102625    660.000000\n",
      "50%    7.473296e+07  7.473296e+07      0.000000      0.321250    975.000000\n",
      "75%    1.152587e+08  1.152587e+08      0.000000      0.442000   1353.000000\n",
      "max    2.262521e+08  2.262521e+08      0.000000      0.999000   7156.000000\n"
     ]
    }
   ],
   "source": [
    "print(\"Description statistique des données :\")\n",
    "print(Xtrain_clin.describe())\n",
    "print(Xtrain_mol.describe())"
   ]
  },
  {
   "cell_type": "code",
   "execution_count": null,
   "metadata": {},
   "outputs": [],
   "source": []
  },
  {
   "cell_type": "markdown",
   "metadata": {},
   "source": [
    "### Analyse des donnée cliniques pour le train :\n",
    "\n",
    "- BM_BLAST :  On observe ci dessus que la moyenne observée du taux de blastes dans la moelle osseuse et de 5.98%, alors que la norme est inférieure à 5%. La moyenne observée est tout à fait cohérente avec la population étudiée ; des patient atteints de Leucémie Myéloïde par QRT. On remarque également que plus de la moitié de l'échantillon présente un taux inférieur à 3%, et qu'un quart de celui qui présente un taux supérieur à 8%, ce qui est anormalement élevé. Enfin, le maximum est à 91%, ce patient souffre d'une leucémie très aiguë. Toute valeure supérieure à 100% est impossible et se doit d'être modifié, or le dataset n'en présente aucune.\n",
    "- WBC : Le taux de globules blancs dans le sang est en moyenne de 6.53 Giga/L, ce qui est dans la norme. Une quantité inférieure à 4 Giga/L indique un risque d'infection, alors qu'un volume supérieur à 11Giga/L indique une infection possible. Dans le cadre de l'échantillon; près de la moitié des patients présentent, au vu du taux de globules blancs, un risque d'infection.  Le maximum est à 154, ce ui est normalement élevé, mais reste inférieur au seuil possible de 200 Giga/L.\n",
    "- ANC : Le nombre de neutrophiles est en moyenne de 3.26 Giga/L, ce qui est dans la norme (1.5 à 8 Giga/L). L'écart à la moyenne n'est pas très élevé. Un taux inférieur à 1.5 Giga/L indique un risque d’infection, alors qu’un taux supérieur à 10 Giga/L peut être lié à une infection grave ou à une maladie du sang. Le maximum observé est de 109.6 Giga/L, ce qui est très élevé et semble anormal. Toute valeur supérieure à 150 Giga/L est impossible et doit être corrigée.\n",
    "- MONOCYTES : Le taux de monocytes est en moyenne de 0.95 Giga/L, ce qui est dans la norme (0.2 à 1 Giga/L). Une valeur supérieure à 1.5 Giga/L peut être un signe d’infection chronique ou d’un problème du sang. Un quart des patients a un taux élevé. Le maximum est de 44.2 Giga/L, ce qui est très anormal. Toute valeur supérieure à 50 Giga/L est impossible et doit être corrigée.\n",
    "- HB : Le taux d’hémoglobine moyen est de 9.83 g/dL, alors que la norme est entre 12 et 17 g/dL. Plus de 75% de l'échntillon est en dessous de 12g/dL. C’est trop bas, ce qui indique une anémie. Une valeur inférieure à 7 g/dL est très dangereuse et peut nécessiter une transfusion. Le maximum est à 16.6 g/dL, ce qui reste normal. Toute valeur inférieure à 2 g/dL est impossible et doit être corrigée, or le minimum est à 4.\n",
    "- PLT : Le taux moyen de plaquettes est de 167.5 Giga/L, ce qui est faible par rapport à la norme (150 - 450 Giga/L). Un taux inférieur à 150 Giga/L peut entraîner des problèmes de saignement, tandis qu’un taux supérieur à 450 Giga/L peut augmenter le risque de caillots sanguins.  Plus de la moitié des patiens présentent une quantité inférieure à 123Giga/L, ce qui est également cogérent aec la population étudiée. Le maximum observé est de 1451 Giga/L, ce qui est très élevé. Toute valeur supérieure à 2000 Giga/L est impossible et doit être corrigée.\n",
    "\n",
    "\n",
    "- VAF : La moyenne observée de la fréquence allélique variant (VAF) est de 0.305, alors que les valeurs vont de 0.02 à 0.999. Cela signifie qu’en moyenne, environ 30% des copies d’ADN d’un patient portent la mutation, mais certains cas atteignent 99.9%, ce qui indique une mutation quasiment fixée. Un quart des patients ont une VAF supérieure à 44%, ce qui est élevé. Une valeur inférieure à 0 ou supérieure à 1 est biologiquement impossible et doit être corrigée, mais le dataset ne contient aucune valeur hors de ces limites.\n",
    "- DEPTH : La profondeur moyenne de lecture (DEPTH) est de 1051, ce qui est un bon niveau pour une analyse fiable des mutations. Toutefois, certaines valeurs sont très élevées (max = 7156) et d’autres très faibles (min = 16), ce qui peut poser problème. Une profondeur trop basse (< 20-30) rend l’interprétation d’une mutation peu fiable, car il y a trop peu de séquences pour être certain du résultat. Une valeur supérieure à 10 000 pourrait indiquer une erreur technique.\n",
    "\n",
    "Nous constatons que les analyses sanguins présentent statistiquement des écarts importants pour une grande partie des patiens étudiées. Ces valurs sont ohérentes avec le sujet. Enfin, aucunes valeurs incohérente n'est présente dans les dataset clinical_train et molecular_train."
   ]
  },
  {
   "cell_type": "markdown",
   "metadata": {},
   "source": [
    "# Traitement des données manquantes :\n",
    "\n",
    "On observe énormément de valeurs manquantes dans les jeux de données. De ce fait, on calcul le nombres de NA. \n",
    "\n",
    "Ainsi, nous pourrons procéder au traitements de données selon la qualité de celle-ci.\n",
    "\n",
    "On observe que toutes les variables présentent de valeurs manquantes .. sauf ID (clés), ...\n",
    "\n",
    "La colonne Monoxyte et cytogenetics présentent un taux de NA très élevé, respectivement de 10% et de 20%."
   ]
  },
  {
   "cell_type": "code",
   "execution_count": 134,
   "metadata": {},
   "outputs": [
    {
     "name": "stdout",
     "output_type": "stream",
     "text": [
      "Analyse des valeurs manquantes :\n",
      "ID                  0\n",
      "CHR               114\n",
      "START             114\n",
      "END               114\n",
      "REF               114\n",
      "ALT               114\n",
      "GENE                0\n",
      "PROTEIN_CHANGE     12\n",
      "EFFECT              0\n",
      "VAF                89\n",
      "DEPTH             114\n",
      "dtype: int64\n",
      "ID                0\n",
      "CENTER            0\n",
      "BM_BLAST        109\n",
      "WBC             272\n",
      "ANC             193\n",
      "MONOCYTES       601\n",
      "HB              110\n",
      "PLT             124\n",
      "CYTOGENETICS    387\n",
      "dtype: int64\n"
     ]
    }
   ],
   "source": [
    "print(\"Analyse des valeurs manquantes :\")\n",
    "print(Xtrain_mol.isna().sum())\n",
    "print(Xtrain_clin.isna().sum())"
   ]
  },
  {
   "cell_type": "markdown",
   "metadata": {},
   "source": [
    " ### !!!!  AJOUTER UNE LIGNE DE CODE QUI CALCUL SI UN ID a plus de 50% DES CHAMPS NA => SUPPRIMER CETTE LIGNE.  !!!!\n",
    " \n",
    " ### il faudrait montrer le type de chaque variable"
   ]
  },
  {
   "cell_type": "code",
   "execution_count": 135,
   "metadata": {},
   "outputs": [
    {
     "data": {
      "text/plain": [
       "ID            object\n",
       "OS_YEARS     float64\n",
       "OS_STATUS      int64\n",
       "dtype: object"
      ]
     },
     "execution_count": 135,
     "metadata": {},
     "output_type": "execute_result"
    }
   ],
   "source": [
    "# Types des variables\n",
    "data_train.dtypes\n",
    "target_data.dtypes"
   ]
  },
  {
   "cell_type": "markdown",
   "metadata": {},
   "source": [
    "Au vu des types des variables, on s'assure que le typage soit correct en effectuant les transformations suivantes :"
   ]
  },
  {
   "cell_type": "code",
   "execution_count": 136,
   "metadata": {},
   "outputs": [],
   "source": [
    "Xtrain_mol.head()\n",
    "Xtrain_mol[\"ID\"].value_counts()\n",
    "Xtrain_mol[\"EFFECT\"] = Xtrain_mol[\"EFFECT\"].astype(str)\n",
    "\n",
    "Y_train[\"OS_YEARS\"] = Y_train[\"OS_YEARS\"].astype(float)"
   ]
  },
  {
   "cell_type": "markdown",
   "metadata": {},
   "source": [
    "Les ID sont les clés du jeu de données \"Clinical\". Toutefois, dans le jeu de donnée \"Molecular\", on constate des doublons sur la colonne ID, indiquant que différents marqueurs génétiques ou mutations ont été analysés pour un même individus."
   ]
  },
  {
   "cell_type": "markdown",
   "metadata": {},
   "source": [
    " - La fréquence d'allèles variant (VAF) diffère parmi les entrées, indiquant que les niveaux de présence de ces mutations varient. Cela peut être dû à des différences dans l'échantillonnage ou la prévalence de la mutation dans différentes cellules de l'échantillon.\n",
    " - Le PROTEIN_CHANGE montre que les modifications protéiques dues aux mutations sont spécifiques à chaque entrée, ce qui souligne l'importance de chaque mutation unique dans l'analyse moléculaire.\n",
    " - Les champs START et END indiquent les positions exactes des mutations sur le chromosome, et bien que certaines puissent se chevaucher ou être identiques, les mutations elles-mêmes peuvent être différentes."
   ]
  },
  {
   "cell_type": "markdown",
   "metadata": {},
   "source": [
    "### Traitement de la colonne EFFECT : \n",
    "\n",
    "On constate que la varaible EFFECT peut prendre 9 valeurs différentes. Celle-ci peuvent être catégoriser selon l'impact qu'elles ont sur la durrée de survie du patient et donc son risque de décés. On distingue les valeurs qui réduisent la durée de survie, et celle qui sont légèrement négative, neutre ou légèrement positive. Ainsi, on peut encoder les valeurs par -1 si l'impact est négatif et 0 si il ne l'est pas.\n",
    "\n",
    "L'objectif de cette approche est de pouvoir agréger les effets des différentes mutations pour un même individus/ID dans le dataset Molecular, et ainsi obtenir une seule ligne par ID. En effet ce jeu de données présente plus de 10000lignes avec une répétition sur la majorité des ID.\n",
    "\n",
    "Voici le résumé des impacts de chaque varaibles ci-dessous  :\n",
    "\n",
    "Réduit la durée de survie :\n",
    "- frameshift_variant\n",
    "- stop_gained\n",
    "- splice_site_variant\n",
    "- ITD\tDélétère\n",
    "- initiator_codon_change\n",
    "- stop_lost\tDélétère\n",
    "- complex_change_in_transcript\tDélétère\n",
    "\n",
    "Approximativement Neutre sur la durée de survie :\n",
    "- non_synonymous_codon\t\t\n",
    "- inframe_codon_loss\t\t\n",
    "- inframe_codon_gain\t\t\n",
    "- inframe_variant\n",
    "- PTD\t\t\n",
    "- synonymous_codon\tNeutre\t\n",
    "- stop_retained_variant\tNeutre\t\n",
    "- 3_prime_UTR_variant\tNeutre\t\n",
    "- 2KB_upstream_variant\tNeutre\t\n",
    "\n",
    "Nous proposons ci dessous la fonction permettant de faire la transformation et le résultat appliqué à la colonne EFFECT.\n"
   ]
  },
  {
   "cell_type": "code",
   "execution_count": 137,
   "metadata": {},
   "outputs": [
    {
     "name": "stdout",
     "output_type": "stream",
     "text": [
      "            ID  EFFECT\n",
      "0      P100000       0\n",
      "1      P100000      -1\n",
      "2      P100000      -1\n",
      "3      P100000       0\n",
      "4      P100000      -1\n",
      "...        ...     ...\n",
      "10930  P131472       0\n",
      "10931  P131505       0\n",
      "10932  P131816       0\n",
      "10933  P132717       0\n",
      "10934  P132724       0\n",
      "\n",
      "[10935 rows x 2 columns]\n"
     ]
    }
   ],
   "source": [
    "\n",
    "def categorize_effect(effect_value):\n",
    "    # Liste des effets qui réduisent la survie\n",
    "    detrimental_effects = [\n",
    "        \"frameshift_variant\", \"stop_gained\", \"splice_site_variant\", \"ITD\", \n",
    "        \"initiator_codon_change\", \"stop_lost\", \"complex_change_in_transcript\"\n",
    "    ]\n",
    "    \n",
    "    # Liste des effets qui peuvent être neutres ou à impact variable\n",
    "    neutral_effects = [\n",
    "        \"non_synonymous_codon\", \"inframe_codon_loss\", \"inframe_codon_gain\", \n",
    "        \"inframe_variant\", \"PTD\"\n",
    "    ]\n",
    "    \n",
    "    # Liste des effets neutres (aucun impact sur la survie)\n",
    "    benign_effects = [\n",
    "        \"synonymous_codon\", \"stop_retained_variant\", \"3_prime_UTR_variant\", \"2KB_upstream_variant\"\n",
    "    ]\n",
    "    \n",
    "    # Catégorisation selon l'impact sur la survie\n",
    "    if effect_value in detrimental_effects:\n",
    "        return -1  # Réduit la survie\n",
    "    elif effect_value in neutral_effects or effect_value in benign_effects:\n",
    "        return 0  # Neutre ou peut réduire la survie, mais pas significatif\n",
    "    else:\n",
    "        return None  # Si la valeur est inconnue ou mal formée\n",
    "\n",
    "# Appliquer la fonction à la colonne 'EFFECT' de votre DataFrame\n",
    "Xtrain_mol['EFFECT'] = Xtrain_mol['EFFECT'].apply(categorize_effect)\n",
    "\n",
    "# Afficher le résultat\n",
    "print(Xtrain_mol[[\"ID\",'EFFECT']])\n"
   ]
  },
  {
   "cell_type": "code",
   "execution_count": 138,
   "metadata": {},
   "outputs": [],
   "source": [
    "aggregated_data = Xtrain_mol.groupby('ID').agg({\n",
    "    'VAF': 'mean',  # Moyenne des fréquences d'allèles variant\n",
    "    'DEPTH': 'sum',\n",
    "    'EFFECT': 'sum' # Somme des profondeurs de séquençage \n",
    "}).reset_index()"
   ]
  },
  {
   "cell_type": "code",
   "execution_count": 90,
   "metadata": {},
   "outputs": [],
   "source": [
    "#Xtrain_mol1 = Xtrain_mol.drop_duplicates(subset=\"ID\", keep = False)\n",
    "#Xtest_mol = Xtest_mol.drop_duplicates(subset=\"ID\", keep=False)"
   ]
  },
  {
   "cell_type": "code",
   "execution_count": 91,
   "metadata": {},
   "outputs": [],
   "source": [
    "#Xtrain_mol1[\"ID\"].value_counts()"
   ]
  },
  {
   "cell_type": "markdown",
   "metadata": {},
   "source": [
    "# Traitement de la colonne \"CYTOGENETICS\"\n",
    "(EXPLIQUER POURQUOI ON FAIT çA)"
   ]
  },
  {
   "cell_type": "code",
   "execution_count": 142,
   "metadata": {},
   "outputs": [],
   "source": [
    "def extract_sex(cytogenetics):\n",
    "    if pd.isna(cytogenetics):\n",
    "        return 2\n",
    "    elif \"46,XX\" in cytogenetics:\n",
    "        return 0\n",
    "    elif \"46,XY\" in cytogenetics:\n",
    "        return 1\n",
    "    else:\n",
    "        return 2"
   ]
  },
  {
   "cell_type": "code",
   "execution_count": 179,
   "metadata": {},
   "outputs": [],
   "source": [
    "def parse_cytogenetics(cyto):\n",
    "    cyto = str(cyto).lower()  # Convertir en string et mettre en minuscule\n",
    "\n",
    "    # 1 Extraire le nombre de chromosomes\n",
    "    chrom_match = re.search(r\"\\b(40|41|42|43|44|45|46|47|48|49|50)\\b\", cyto)\n",
    "    num_chromosomes = int(chrom_match.group()) if chrom_match else None\n",
    "\n",
    "    # 2️ Utiliser la fonction existante pour déterminer le sexe\n",
    "    sexe = extract_sex(cyto)  # Remplacement par la fonction existante\n",
    "\n",
    "    # 3️ Extraire le nombre d’échantillons testés\n",
    "    sample_match = re.search(r\"\\[(\\d+)\\]\", cyto)\n",
    "    num_samples = int(sample_match.group(1)) if sample_match else None\n",
    "\n",
    "    # 4️ Détection des anomalies (nouvelle logique)\n",
    "    has_anomaly = 0  # Par défaut, pas d’anomalie\n",
    "    if num_chromosomes and num_chromosomes != 46:\n",
    "        has_anomaly = 1\n",
    "    if re.match(r\"^(46,xy(\\[\\d+\\])?|46,xx(\\[\\d+\\])?)$\", cyto) is None:\n",
    "        has_anomaly = 1\n",
    "\n",
    "    return pd.Series([num_chromosomes, sexe, num_samples, has_anomaly])\n",
    "\n",
    "# Appliquer la fonction au DataFrame (assurez-vous que 'train_set_clin' contient une colonne 'CYTOGENETICS')\n",
    "Xtrain_clin[[\"Nombre_Chromosomes\", \"SEX\", \"Nb_Echantillons\", \"Anomalies\"]] = Xtrain_clin[\"CYTOGENETICS\"].apply(parse_cytogenetics)"
   ]
  },
  {
   "cell_type": "code",
   "execution_count": 144,
   "metadata": {},
   "outputs": [
    {
     "name": "stdout",
     "output_type": "stream",
     "text": [
      "SEX\n",
      "2    3323\n",
      "Name: count, dtype: int64\n"
     ]
    }
   ],
   "source": [
    "Xtrain_clin[\"SEX\"] = Xtrain_clin[\"CYTOGENETICS\"].apply(extract_sex)\n",
    "print(Xtrain_clin[\"SEX\"].value_counts())"
   ]
  },
  {
   "cell_type": "markdown",
   "metadata": {},
   "source": [
    "### MERGE LEFT DES JEUX DE DONNEES"
   ]
  },
  {
   "cell_type": "code",
   "execution_count": 145,
   "metadata": {},
   "outputs": [],
   "source": [
    "#Merge la data VERIFIER NB ROWS PAR DATAFRAME\n",
    "data_train = Xtrain_clin.merge(aggregated_data, on='ID', how = \"left\")\n",
    "#X_test = Xtest_clin.merge(aggregated_data, on='ID', how='outer')\n",
    "data_train[[\"HB\", \"PLT\", \"BM_BLAST\"]]  = data_train[[\"HB\", \"PLT\", \"BM_BLAST\"]].astype(float)"
   ]
  },
  {
   "cell_type": "code",
   "execution_count": 146,
   "metadata": {},
   "outputs": [
    {
     "data": {
      "text/html": [
       "<div>\n",
       "<style scoped>\n",
       "    .dataframe tbody tr th:only-of-type {\n",
       "        vertical-align: middle;\n",
       "    }\n",
       "\n",
       "    .dataframe tbody tr th {\n",
       "        vertical-align: top;\n",
       "    }\n",
       "\n",
       "    .dataframe thead th {\n",
       "        text-align: right;\n",
       "    }\n",
       "</style>\n",
       "<table border=\"1\" class=\"dataframe\">\n",
       "  <thead>\n",
       "    <tr style=\"text-align: right;\">\n",
       "      <th></th>\n",
       "      <th>ID</th>\n",
       "      <th>CENTER</th>\n",
       "      <th>BM_BLAST</th>\n",
       "      <th>WBC</th>\n",
       "      <th>ANC</th>\n",
       "      <th>MONOCYTES</th>\n",
       "      <th>HB</th>\n",
       "      <th>PLT</th>\n",
       "      <th>CYTOGENETICS</th>\n",
       "      <th>SEX</th>\n",
       "      <th>VAF</th>\n",
       "      <th>DEPTH</th>\n",
       "      <th>EFFECT</th>\n",
       "    </tr>\n",
       "  </thead>\n",
       "  <tbody>\n",
       "    <tr>\n",
       "      <th>0</th>\n",
       "      <td>P132697</td>\n",
       "      <td>MSK</td>\n",
       "      <td>14.0</td>\n",
       "      <td>2.80</td>\n",
       "      <td>0.20</td>\n",
       "      <td>0.70</td>\n",
       "      <td>7.6</td>\n",
       "      <td>119.0</td>\n",
       "      <td>46,xy,del(20)(q12)[2]/46,xy[18]</td>\n",
       "      <td>2</td>\n",
       "      <td>0.251578</td>\n",
       "      <td>15374.0</td>\n",
       "      <td>-4.0</td>\n",
       "    </tr>\n",
       "    <tr>\n",
       "      <th>1</th>\n",
       "      <td>P132698</td>\n",
       "      <td>MSK</td>\n",
       "      <td>1.0</td>\n",
       "      <td>7.40</td>\n",
       "      <td>2.40</td>\n",
       "      <td>0.10</td>\n",
       "      <td>11.6</td>\n",
       "      <td>42.0</td>\n",
       "      <td>46,xx</td>\n",
       "      <td>2</td>\n",
       "      <td>0.272867</td>\n",
       "      <td>4204.0</td>\n",
       "      <td>-3.0</td>\n",
       "    </tr>\n",
       "    <tr>\n",
       "      <th>2</th>\n",
       "      <td>P116889</td>\n",
       "      <td>MSK</td>\n",
       "      <td>15.0</td>\n",
       "      <td>3.70</td>\n",
       "      <td>2.10</td>\n",
       "      <td>0.10</td>\n",
       "      <td>14.2</td>\n",
       "      <td>81.0</td>\n",
       "      <td>46,xy,t(3;3)(q25;q27)[8]/46,xy[12]</td>\n",
       "      <td>2</td>\n",
       "      <td>0.039333</td>\n",
       "      <td>5309.0</td>\n",
       "      <td>-2.0</td>\n",
       "    </tr>\n",
       "    <tr>\n",
       "      <th>3</th>\n",
       "      <td>P132699</td>\n",
       "      <td>MSK</td>\n",
       "      <td>1.0</td>\n",
       "      <td>3.90</td>\n",
       "      <td>1.90</td>\n",
       "      <td>0.10</td>\n",
       "      <td>8.9</td>\n",
       "      <td>77.0</td>\n",
       "      <td>46,xy,del(3)(q26q27)[15]/46,xy[5]</td>\n",
       "      <td>2</td>\n",
       "      <td>0.209227</td>\n",
       "      <td>12605.0</td>\n",
       "      <td>-4.0</td>\n",
       "    </tr>\n",
       "    <tr>\n",
       "      <th>4</th>\n",
       "      <td>P132700</td>\n",
       "      <td>MSK</td>\n",
       "      <td>6.0</td>\n",
       "      <td>128.00</td>\n",
       "      <td>9.70</td>\n",
       "      <td>0.90</td>\n",
       "      <td>11.1</td>\n",
       "      <td>195.0</td>\n",
       "      <td>46,xx,t(3;9)(p13;q22)[10]/46,xx[10]</td>\n",
       "      <td>2</td>\n",
       "      <td>0.472100</td>\n",
       "      <td>713.0</td>\n",
       "      <td>-1.0</td>\n",
       "    </tr>\n",
       "    <tr>\n",
       "      <th>...</th>\n",
       "      <td>...</td>\n",
       "      <td>...</td>\n",
       "      <td>...</td>\n",
       "      <td>...</td>\n",
       "      <td>...</td>\n",
       "      <td>...</td>\n",
       "      <td>...</td>\n",
       "      <td>...</td>\n",
       "      <td>...</td>\n",
       "      <td>...</td>\n",
       "      <td>...</td>\n",
       "      <td>...</td>\n",
       "      <td>...</td>\n",
       "    </tr>\n",
       "    <tr>\n",
       "      <th>3318</th>\n",
       "      <td>P121828</td>\n",
       "      <td>VU</td>\n",
       "      <td>1.0</td>\n",
       "      <td>3.70</td>\n",
       "      <td>2.53</td>\n",
       "      <td>0.53</td>\n",
       "      <td>8.9</td>\n",
       "      <td>499.0</td>\n",
       "      <td>46,xy[20]</td>\n",
       "      <td>2</td>\n",
       "      <td>0.397000</td>\n",
       "      <td>1395.0</td>\n",
       "      <td>-1.0</td>\n",
       "    </tr>\n",
       "    <tr>\n",
       "      <th>3319</th>\n",
       "      <td>P121829</td>\n",
       "      <td>VU</td>\n",
       "      <td>0.0</td>\n",
       "      <td>4.20</td>\n",
       "      <td>2.40</td>\n",
       "      <td>0.22</td>\n",
       "      <td>10.6</td>\n",
       "      <td>49.0</td>\n",
       "      <td>46,xy,del(13)(q12q14)[1]/45,x,-y,del(13)(q12q1...</td>\n",
       "      <td>2</td>\n",
       "      <td>0.042000</td>\n",
       "      <td>743.0</td>\n",
       "      <td>0.0</td>\n",
       "    </tr>\n",
       "    <tr>\n",
       "      <th>3320</th>\n",
       "      <td>P121830</td>\n",
       "      <td>VU</td>\n",
       "      <td>0.0</td>\n",
       "      <td>1.80</td>\n",
       "      <td>0.55</td>\n",
       "      <td>0.29</td>\n",
       "      <td>9.4</td>\n",
       "      <td>86.0</td>\n",
       "      <td>46,xy,del(20)(q11.2q13.1)[4]/45,xy,idem,-7[16]</td>\n",
       "      <td>2</td>\n",
       "      <td>0.244650</td>\n",
       "      <td>4613.0</td>\n",
       "      <td>-3.0</td>\n",
       "    </tr>\n",
       "    <tr>\n",
       "      <th>3321</th>\n",
       "      <td>P121853</td>\n",
       "      <td>VU</td>\n",
       "      <td>5.0</td>\n",
       "      <td>1.37</td>\n",
       "      <td>0.37</td>\n",
       "      <td>0.11</td>\n",
       "      <td>11.4</td>\n",
       "      <td>102.0</td>\n",
       "      <td>46,xx,del(1)(p34)[5]/45,xx,sl,-18[12]/46,xx,sd...</td>\n",
       "      <td>2</td>\n",
       "      <td>0.184250</td>\n",
       "      <td>5546.0</td>\n",
       "      <td>0.0</td>\n",
       "    </tr>\n",
       "    <tr>\n",
       "      <th>3322</th>\n",
       "      <td>P121834</td>\n",
       "      <td>VU</td>\n",
       "      <td>0.0</td>\n",
       "      <td>2.70</td>\n",
       "      <td>0.72</td>\n",
       "      <td>0.23</td>\n",
       "      <td>8.2</td>\n",
       "      <td>239.0</td>\n",
       "      <td>46,xy[20]</td>\n",
       "      <td>2</td>\n",
       "      <td>0.275220</td>\n",
       "      <td>6034.0</td>\n",
       "      <td>-4.0</td>\n",
       "    </tr>\n",
       "  </tbody>\n",
       "</table>\n",
       "<p>3323 rows × 13 columns</p>\n",
       "</div>"
      ],
      "text/plain": [
       "           ID CENTER  BM_BLAST     WBC   ANC  MONOCYTES    HB    PLT  \\\n",
       "0     P132697    MSK      14.0    2.80  0.20       0.70   7.6  119.0   \n",
       "1     P132698    MSK       1.0    7.40  2.40       0.10  11.6   42.0   \n",
       "2     P116889    MSK      15.0    3.70  2.10       0.10  14.2   81.0   \n",
       "3     P132699    MSK       1.0    3.90  1.90       0.10   8.9   77.0   \n",
       "4     P132700    MSK       6.0  128.00  9.70       0.90  11.1  195.0   \n",
       "...       ...    ...       ...     ...   ...        ...   ...    ...   \n",
       "3318  P121828     VU       1.0    3.70  2.53       0.53   8.9  499.0   \n",
       "3319  P121829     VU       0.0    4.20  2.40       0.22  10.6   49.0   \n",
       "3320  P121830     VU       0.0    1.80  0.55       0.29   9.4   86.0   \n",
       "3321  P121853     VU       5.0    1.37  0.37       0.11  11.4  102.0   \n",
       "3322  P121834     VU       0.0    2.70  0.72       0.23   8.2  239.0   \n",
       "\n",
       "                                           CYTOGENETICS  SEX       VAF  \\\n",
       "0                       46,xy,del(20)(q12)[2]/46,xy[18]    2  0.251578   \n",
       "1                                                 46,xx    2  0.272867   \n",
       "2                    46,xy,t(3;3)(q25;q27)[8]/46,xy[12]    2  0.039333   \n",
       "3                     46,xy,del(3)(q26q27)[15]/46,xy[5]    2  0.209227   \n",
       "4                   46,xx,t(3;9)(p13;q22)[10]/46,xx[10]    2  0.472100   \n",
       "...                                                 ...  ...       ...   \n",
       "3318                                          46,xy[20]    2  0.397000   \n",
       "3319  46,xy,del(13)(q12q14)[1]/45,x,-y,del(13)(q12q1...    2  0.042000   \n",
       "3320     46,xy,del(20)(q11.2q13.1)[4]/45,xy,idem,-7[16]    2  0.244650   \n",
       "3321  46,xx,del(1)(p34)[5]/45,xx,sl,-18[12]/46,xx,sd...    2  0.184250   \n",
       "3322                                          46,xy[20]    2  0.275220   \n",
       "\n",
       "        DEPTH  EFFECT  \n",
       "0     15374.0    -4.0  \n",
       "1      4204.0    -3.0  \n",
       "2      5309.0    -2.0  \n",
       "3     12605.0    -4.0  \n",
       "4       713.0    -1.0  \n",
       "...       ...     ...  \n",
       "3318   1395.0    -1.0  \n",
       "3319    743.0     0.0  \n",
       "3320   4613.0    -3.0  \n",
       "3321   5546.0     0.0  \n",
       "3322   6034.0    -4.0  \n",
       "\n",
       "[3323 rows x 13 columns]"
      ]
     },
     "execution_count": 146,
     "metadata": {},
     "output_type": "execute_result"
    }
   ],
   "source": [
    "data_train"
   ]
  },
  {
   "cell_type": "markdown",
   "metadata": {},
   "source": [
    "# Selection des features"
   ]
  },
  {
   "cell_type": "code",
   "execution_count": 147,
   "metadata": {},
   "outputs": [],
   "source": [
    "data_train = data_train.drop(columns = [\"CENTER\"])\n",
    "##X_test = X_test.drop(columns=[\"CENTER\"], errors='ignore')"
   ]
  },
  {
   "cell_type": "code",
   "execution_count": 148,
   "metadata": {},
   "outputs": [],
   "source": [
    "# Create the survival data format\n",
    "#X = data_train.loc[data_train['ID'].isin(Y_train['ID']), features]\n",
    "#y = Surv.from_dataframe('OS_STATUS', 'OS_YEARS', Y_train)"
   ]
  },
  {
   "cell_type": "code",
   "execution_count": 149,
   "metadata": {},
   "outputs": [],
   "source": [
    "#Fonction pour préparation de données\n",
    "def clean_data(data, columns):\n",
    "    data_cleaned = data.dropna(subset = columns)\n",
    "    return data_cleaned"
   ]
  },
  {
   "cell_type": "code",
   "execution_count": 150,
   "metadata": {},
   "outputs": [],
   "source": [
    "target_data = Y_train.dropna()\n",
    "target_data['OS_YEARS'] = pd.to_numeric(target_data['OS_YEARS'], errors='coerce')\n",
    "target_data['OS_STATUS'] = target_data['OS_STATUS'].astype(bool).astype(int)\n",
    "target_data = target_data.dropna()"
   ]
  },
  {
   "cell_type": "code",
   "execution_count": null,
   "metadata": {},
   "outputs": [],
   "source": []
  },
  {
   "cell_type": "code",
   "execution_count": 151,
   "metadata": {},
   "outputs": [],
   "source": [
    "#il faut regrouper en personnes ayant vécu 0 à 2 ans de 2ans à 4 ...\n",
    "En_vie = target_data[target_data[\"OS_STATUS\"]==1.0]\n",
    "Mort = target_data[target_data[\"OS_STATUS\"]==0.0]\n",
    "\n",
    "En_vie = En_vie.drop(columns = [\"OS_STATUS\"])\n",
    "Mort = Mort.drop(columns = [\"OS_STATUS\"])\n",
    "\n",
    "#ICI ON PEUT PRESENTER COMME SUIT \n"
   ]
  },
  {
   "cell_type": "code",
   "execution_count": 152,
   "metadata": {},
   "outputs": [
    {
     "data": {
      "image/png": "[encoded data removed]",
      "text/plain": [
       "<Figure size 1000x500 with 1 Axes>"
      ]
     },
     "metadata": {},
     "output_type": "display_data"
    },
    {
     "data": {
      "image/png": "[encoded data removed]",
      "text/plain": [
       "<Figure size 1000x500 with 1 Axes>"
      ]
     },
     "metadata": {},
     "output_type": "display_data"
    }
   ],
   "source": [
    "def Histogramme_function(data, title):\n",
    "    plt.figure(figsize=(10, 5))\n",
    "    sns.histplot(data, kde=True)\n",
    "    plt.title(title)\n",
    "    plt.show()\n",
    "\n",
    "Histogramme_function(En_vie[\"OS_YEARS\"], \"Histogramme des personnes en vie\")\n",
    "Histogramme_function(Mort[\"OS_YEARS\"], \"Histogramme des personnes mortes\")"
   ]
  },
  {
   "cell_type": "code",
   "execution_count": 154,
   "metadata": {},
   "outputs": [
    {
     "data": {
      "image/png": "[encoded data removed]",
      "text/plain": [
       "<Figure size 1000x500 with 1 Axes>"
      ]
     },
     "metadata": {},
     "output_type": "display_data"
    },
    {
     "data": {
      "image/png": "[encoded data removed]",
      "text/plain": [
       "<Figure size 1000x500 with 1 Axes>"
      ]
     },
     "metadata": {},
     "output_type": "display_data"
    },
    {
     "data": {
      "image/png": "[encoded data removed]",
      "text/plain": [
       "<Figure size 1000x500 with 1 Axes>"
      ]
     },
     "metadata": {},
     "output_type": "display_data"
    }
   ],
   "source": [
    "Histogramme_function(data_train[\"HB\"], \"Histogramme de l'hémoglobine\") \n",
    "Histogramme_function(data_train[\"PLT\"], \"Histogramme des plaquettes\")\n",
    "Histogramme_function(data_train[\"BM_BLAST\"], \"Histogramme des blastes médullaires\")"
   ]
  },
  {
   "cell_type": "code",
   "execution_count": 174,
   "metadata": {},
   "outputs": [
    {
     "data": {
      "image/png": "[encoded data removed]",
      "text/plain": [
       "<Figure size 800x600 with 2 Axes>"
      ]
     },
     "metadata": {},
     "output_type": "display_data"
    }
   ],
   "source": [
    "# Calculando la matriz de correlación\n",
    "correlation_matrix = data_train[['HB', 'PLT', 'BM_BLAST']].corr()\n",
    "\n",
    "# Creando el mapa de calor\n",
    "plt.figure(figsize=(8, 6))\n",
    "sns.heatmap(correlation_matrix, annot=True, fmt=\".2f\", cmap='coolwarm')\n",
    "plt.title('Mapa de Calor de Correlación entre Variables')\n",
    "plt.show()\n"
   ]
  },
  {
   "cell_type": "code",
   "execution_count": 155,
   "metadata": {},
   "outputs": [],
   "source": [
    "def extract_sex(cytogenetics):\n",
    "    if pd.isna(cytogenetics):\n",
    "        return 2\n",
    "    elif \"46,XX\" in cytogenetics:\n",
    "        return 0\n",
    "    elif \"46,XY\" in cytogenetics:\n",
    "        return 1\n",
    "    else:\n",
    "        return 2"
   ]
  },
  {
   "cell_type": "code",
   "execution_count": 156,
   "metadata": {},
   "outputs": [],
   "source": [
    "def parse_cytogenetics(cyto):\n",
    "    cyto = str(cyto).lower()  # Convertir en string et mettre en minuscule\n",
    "\n",
    "    # 1 Extraire le nombre de chromosomes\n",
    "    chrom_match = re.search(r\"\\b(40|41|42|43|44|45|46|47|48|49|50)\\b\", cyto)\n",
    "    num_chromosomes = int(chrom_match.group()) if chrom_match else None\n",
    "\n",
    "    # 2️ Utiliser la fonction existante pour déterminer le sexe\n",
    "    sexe = extract_sex(cyto)  # Remplacement par la fonction existante\n",
    "\n",
    "    # 3️ Extraire le nombre d’échantillons testés\n",
    "    sample_match = re.search(r\"\\[(\\d+)\\]\", cyto)\n",
    "    num_samples = int(sample_match.group(1)) if sample_match else None\n",
    "\n",
    "    # 4️ Détection des anomalies (nouvelle logique)\n",
    "    has_anomaly = 0  # Par défaut, pas d’anomalie\n",
    "    if num_chromosomes and num_chromosomes != 46:\n",
    "        has_anomaly = 1\n",
    "    if re.match(r\"^(46,xy(\\[\\d+\\])?|46,xx(\\[\\d+\\])?)$\", cyto) is None:\n",
    "        has_anomaly = 1\n",
    "\n",
    "    return pd.Series([num_chromosomes, sexe, num_samples, has_anomaly])\n",
    "\n",
    "# Appliquer la fonction au DataFrame (assurez-vous que 'train_set_clin' contient une colonne 'CYTOGENETICS')\n",
    "Xtest_clin[[\"Nombre_Chromosomes\", \"SEX\", \"Nb_Echantillons\", \"Anomalies\"]] = Xtrain_clin[\"CYTOGENETICS\"].apply(parse_cytogenetics)"
   ]
  },
  {
   "cell_type": "code",
   "execution_count": 157,
   "metadata": {},
   "outputs": [
    {
     "name": "stdout",
     "output_type": "stream",
     "text": [
      "SEX\n",
      "2    3323\n",
      "Name: count, dtype: int64\n"
     ]
    }
   ],
   "source": [
    "data_train[\"SEX\"] = data_train[\"CYTOGENETICS\"].apply(extract_sex)\n",
    "print(data_train[\"SEX\"].value_counts())"
   ]
  },
  {
   "cell_type": "markdown",
   "metadata": {},
   "source": []
  },
  {
   "cell_type": "code",
   "execution_count": 158,
   "metadata": {},
   "outputs": [],
   "source": [
    "#data_train[data_train[\"SEX\"]==1]"
   ]
  },
  {
   "cell_type": "code",
   "execution_count": 185,
   "metadata": {},
   "outputs": [],
   "source": [
    "#Traitement valeurs manquantes si homme femme ou unknown imputer mediane \n",
    "imputer = SimpleImputer(strategy=\"median\")\n",
    "data_train[['BM_BLAST', 'HB', 'PLT']] = imputer.fit_transform(data_train[['BM_BLAST', 'HB', 'PLT']])\n"
   ]
  },
  {
   "cell_type": "code",
   "execution_count": 160,
   "metadata": {},
   "outputs": [],
   "source": [
    "missing_ratio = data_train.isna().mean() \n",
    "cols_to_drop = missing_ratio[missing_ratio > 0.5].index.tolist()\n",
    "data_train = data_train.drop(columns = cols_to_drop)\n"
   ]
  },
  {
   "cell_type": "markdown",
   "metadata": {},
   "source": [
    "Variables non utile pour le modèle :\n",
    "\n",
    "-  CHR, START, END : La position seule n’indique pas l’impact biologique de la mutation. Ce qui est vraiment utile, c’est le gène affecté et l’effet de la mutation (déjà fourni par les variables GENE et EFFECT).\n",
    "Ce sont des variables très spécifiques qui risquent d’être trop granulaires pour un modèle de ML (car des milliers de positions peuvent exister). On pourrait toutefois les regrouper en secteurs.\n",
    "\n",
    "- CENTER : Le centre médical n'est pas pertinente pour répondre à la problématique : évaluer le risque de décès pour les patients diagnostiqués avec un cancer du sang.\n",
    "On peut toutefois vérifier s'il existe une différence significatives concernant les compétences/qualités des cliniques, qui impacteraient le risque de décès."
   ]
  },
  {
   "cell_type": "markdown",
   "metadata": {},
   "source": [
    "Variables utiles  :\n",
    "Ces variables donnent des informations sur l’état physiologique du patient et peuvent être de bons indicateurs du risque de décès.\n",
    "\n",
    "* BM_BLAST : Indicateur clé de la proportion de cellules sanguines anormales dans la moelle osseuse. Un taux élevé est souvent associé à une maladie plus agressive et un pronostic plus défavorable.\n",
    "\n",
    "* WBC (Globules blancs) : Peut refléter la gravité de la maladie ; une élévation anormale peut être associée à un risque accru de complications.\n",
    "\n",
    "* ANC (Neutrophiles absolus) : Essentiel pour évaluer l'état du système immunitaire et les risques d’infections opportunistes.\n",
    "\n",
    "* MONOCYTES : Un taux élevé de monocytes peut être associé à une inflammation chronique et à une progression plus rapide de la maladie.\n",
    "\n",
    "* HB (Hémoglobine) : Un faible taux d’hémoglobine est un marqueur d’anémie, souvent observé dans les cancers du sang avancés.\n",
    "\n",
    "* PLT (Plaquettes) : Une thrombocytopénie (faible nombre de plaquettes) peut être associée à un mauvais pronostic, car elle peut entraîner des complications hémorragiques.\n",
    "\n",
    "* CYTOGENETICS : Les anomalies chromosomiques sont souvent des indicateurs de l’agressivité du cancer. Par exemple, la monosomie 7 est un marqueur de haut risque."
   ]
  },
  {
   "cell_type": "markdown",
   "metadata": {},
   "source": [
    "On vérifie la granularité des colonnes (confirmer la supression des colonnes de positions de la mutations):\n",
    "- START à 4645 valeurs distinctes\n",
    "- END a 4664 vlaures disctinctes\n",
    "- CHR possède 23 données.\n",
    "\n",
    "On remarque également qu'il n'y a que 3'026 ID distincts pour plus de 10'000 lignes dans le dateset molecular_train, ce qui signifie que certains patient ont plusieurs mutations génétiques.\n",
    "\n",
    "Il peut donc être pertinent de synthétiser les informations de ce dataset pour ne posséder qu'une ligne par ID. En effet, il ne faut pas faire une analyse par mutation mais une analyse par patient.\n",
    "\n",
    "On peut créer une variable qui stock le nombre total de mutations par patients, cela pourrait améliorer la mesure de risque. \n",
    "\n"
   ]
  },
  {
   "cell_type": "code",
   "execution_count": 161,
   "metadata": {},
   "outputs": [
    {
     "data": {
      "text/plain": [
       "ID              3323\n",
       "BM_BLAST         139\n",
       "WBC              699\n",
       "ANC             1026\n",
       "MONOCYTES        609\n",
       "HB               239\n",
       "PLT              586\n",
       "CYTOGENETICS    1194\n",
       "SEX                1\n",
       "VAF             2636\n",
       "DEPTH           2488\n",
       "EFFECT            12\n",
       "dtype: int64"
      ]
     },
     "execution_count": 161,
     "metadata": {},
     "output_type": "execute_result"
    }
   ],
   "source": [
    "data_train.nunique()"
   ]
  },
  {
   "cell_type": "markdown",
   "metadata": {},
   "source": [
    "CYTOGENETICS : Les anomalies chromosomiques sont souvent des indicateurs de l’agressivité du cancer. Par exemple, la monosomie 7 est un marqueur de haut risque.\n",
    "\n",
    "Or il y'a plus de 1194 données différents pour 2936 valeurs, (3223-2936 == NA)."
   ]
  },
  {
   "cell_type": "code",
   "execution_count": 162,
   "metadata": {},
   "outputs": [
    {
     "data": {
      "text/plain": [
       "ID\n",
       "P132697    1\n",
       "P120849    1\n",
       "P120847    1\n",
       "P120874    1\n",
       "P120900    1\n",
       "          ..\n",
       "P110885    1\n",
       "P110886    1\n",
       "P110888    1\n",
       "P110889    1\n",
       "P121834    1\n",
       "Name: count, Length: 3323, dtype: int64"
      ]
     },
     "execution_count": 162,
     "metadata": {},
     "output_type": "execute_result"
    }
   ],
   "source": [
    "data_train[\"ID\"].value_counts()"
   ]
  },
  {
   "cell_type": "code",
   "execution_count": 163,
   "metadata": {},
   "outputs": [],
   "source": [
    "#Xtrain_clin[\"ID\"].value_counts()\n",
    "#Xtrain_mol[\"ID\"].value_counts() #il n'y a plus d'ID qui se répètent"
   ]
  },
  {
   "cell_type": "code",
   "execution_count": 164,
   "metadata": {},
   "outputs": [
    {
     "data": {
      "text/plain": [
       "ID\n",
       "P132697    1\n",
       "P120833    1\n",
       "P120866    1\n",
       "P120852    1\n",
       "P120858    1\n",
       "          ..\n",
       "P110864    1\n",
       "P110865    1\n",
       "P110866    1\n",
       "P110867    1\n",
       "P121834    1\n",
       "Name: count, Length: 3173, dtype: int64"
      ]
     },
     "execution_count": 164,
     "metadata": {},
     "output_type": "execute_result"
    }
   ],
   "source": [
    "target_data[\"ID\"].value_counts()"
   ]
  },
  {
   "cell_type": "code",
   "execution_count": 165,
   "metadata": {},
   "outputs": [],
   "source": [
    "imputer = SimpleImputer(strategy=\"median\")\n",
    "Xtrain_clin[['BM_BLAST', 'HB', 'PLT']] = imputer.fit_transform(Xtrain_clin[['BM_BLAST', 'HB', 'PLT']])"
   ]
  },
  {
   "cell_type": "code",
   "execution_count": 166,
   "metadata": {},
   "outputs": [],
   "source": [
    "features = ['BM_BLAST', 'HB', 'PLT']\n",
    "target = ['OS_YEARS', 'OS_STATUS']"
   ]
  },
  {
   "cell_type": "code",
   "execution_count": 167,
   "metadata": {},
   "outputs": [],
   "source": [
    "Y_train['OS_YEARS'] = pd.to_numeric(Y_train['OS_YEARS'], errors='coerce')\n",
    "Y_train['OS_STATUS'] = Y_train['OS_STATUS'].astype(bool)"
   ]
  },
  {
   "cell_type": "code",
   "execution_count": 168,
   "metadata": {},
   "outputs": [],
   "source": [
    "X = Xtrain_clin[features]\n",
    "y = Surv.from_dataframe('OS_STATUS', 'OS_YEARS', Y_train)"
   ]
  },
  {
   "cell_type": "code",
   "execution_count": 169,
   "metadata": {},
   "outputs": [],
   "source": [
    "X_train, X_test, y_train, y_test = train_test_split(X, y, test_size=0.3, random_state=42)"
   ]
  },
  {
   "cell_type": "code",
   "execution_count": 175,
   "metadata": {},
   "outputs": [],
   "source": [
    "#standardisation\n",
    "scaler = StandardScaler()\n",
    "data_train[['HB', 'PLT', 'BM_BLAST']] = scaler.fit_transform(data_train[['HB', 'PLT', 'BM_BLAST']])\n"
   ]
  },
  {
   "cell_type": "code",
   "execution_count": 187,
   "metadata": {},
   "outputs": [],
   "source": [
    "#cox_model = CoxPHSurvivalAnalysis()\n",
    "#cox_model.fit(X_train, y_train)\n",
    "#cox_score = cox_model.score(X_test, y_test)\n",
    "#print(\"Cox model score:\", cox_score)\n",
    "\n",
    "#rsf_model = RandomSurvivalForest()\n",
    "#rsf_model.fit(X_train, y_train)\n",
    "#rsf_score = rsf_model.score(X_test, y_test)\n",
    "#print(\"RSF model score:\", rsf_score)\n"
   ]
  },
  {
   "cell_type": "markdown",
   "metadata": {},
   "source": [
    "On veut rattacher les deux dataframe pour n'en créer qu'un seul, on utilisera les clés uniques : \"ID\".\n",
    "Dans le dataframe molecule train, on a plus de dis milles lignes. Alors qu'il n'yen a que 3323 dans le dataframe clinical train.\n",
    "Celles dont l'ID n'est pas inclus dans clinical train seront supprimés."
   ]
  },
  {
   "cell_type": "markdown",
   "metadata": {},
   "source": [
    "À traiter : \n",
    "• Duplicated observations\n",
    "\n",
    "• Missing data\n",
    "\n",
    "• Heterogeneity in data reporting conventions: frequency of observations, units, date format, missing data representation, ... \n",
    "\n",
    "• Inconsistencies between databases\n",
    "\n",
    "• ...\n",
    "\n",
    "Some rules:\n",
    "\n",
    "• Get acquainted with the data to get a better understanding of what they represent and understand the way they are encoded\n",
    "\n",
    "\n",
    "• Perform exploratory analyses: number of observations, number of  missing values, the average value of features, median, standard deviation, inter-quartile range, binning/clustering correlations, ...\n",
    "\n",
    "• Objective: identification of useful features, outliers, ...\n",
    "\n",
    "Data cleaning :\n",
    "\n",
    "• Missing data handling: deletion or imputation\n",
    "\n",
    "• Duplicated data: techniques for deduplicating data\n",
    "\n",
    "• Handling of outliers: deletion, winsorization\n",
    "\n",
    "• Inconsistencies: partially automatic detection is made possible through functional dependencies (e.g. a city must always have the same zip code)\n",
    "\n",
    "Data transformation :\n",
    "\n",
    "• Feature scaling: some ML algorithms do not perform well when the input numerical attributes display very different scales, e.g. revenue vs. ratio. Normalization and standardization are two common ways to get all attributes to have the same scale Aggregation: e.g. cumulate daily data to transform them into monthly data\n",
    "\n",
    "• Features construction: addition or replacement of some features by new features computed from existing ones (e.g. log transformation or power transformation to capture non-linearities)\n",
    "\n",
    "• Discretization: the transformation of numerical values into classes"
   ]
  },
  {
   "cell_type": "code",
   "execution_count": null,
   "metadata": {},
   "outputs": [],
   "source": [
    "def prepare_survival_data(X, Y):\n",
    "    Y['event'] = Y['event'].astype(bool)\n",
    "    Y_surv = Surv.from_dataframe(\"event\", \"time\", Y)\n",
    "    return X, Y_surv"
   ]
  },
  {
   "cell_type": "code",
   "execution_count": 79,
   "metadata": {},
   "outputs": [],
   "source": [
    "# 1. Modèle de Cox\n",
    "#cox_model = CoxPHSurvivalAnalysis()\n",
    "#cox_model.fit(X_train, Y_train_surv)\n",
    "#cox_cindex = cox_model.score(X_test, Y_test_surv)\n",
    "#print(f\"Concordance Index - Cox Model: {cox_cindex:.4f}\")"
   ]
  },
  {
   "cell_type": "code",
   "execution_count": 80,
   "metadata": {},
   "outputs": [],
   "source": [
    "# 2. Random Survival Forest\n",
    "#rsf = RandomSurvivalForest(n_estimators=100, min_samples_split=10, min_samples_leaf=15, random_state=42)\n",
    "#rsf.fit(X_train, Y_train_surv)\n",
    "#rsf_cindex = rsf.score(X_test, Y_test_surv)\n",
    "#print(f\"Concordance Index - RSF: {rsf_cindex:.4f}\")"
   ]
  },
  {
   "cell_type": "code",
   "execution_count": 81,
   "metadata": {},
   "outputs": [],
   "source": [
    "# 3. LightGBM (approche survie)\n",
    "#lgb_train = lgb.Dataset(X_train, label=Y_train[\"time\"], free_raw_data=False)\n",
    "#lgb_test = lgb.Dataset(X_test, label=Y_test[\"time\"], free_raw_data=False)\n",
    "#params = {\"objective\": \"survival\", \"metric\": \"cindex\", \"boosting_type\": \"gbdt\", \"learning_rate\": 0.05}\n",
    "#lgb_model = lgb.train(params, lgb_train, num_boost_round=100)\n",
    "#lgb_preds = lgb_model.predict(X_test)\n",
    "#lgb_cindex = np.corrcoef(lgb_preds, Y_test[\"time\"])[0, 1]\n",
    "#print(f\"Concordance Index - LightGBM: {lgb_cindex:.4f}\")"
   ]
  },
  {
   "cell_type": "code",
   "execution_count": 82,
   "metadata": {},
   "outputs": [],
   "source": [
    "# 4. DeepSurv (PyCox)\n",
    "#deep_surv = CoxPH(tt.optim.Adam(0.01), X_train.shape[1])\n",
    "#deep_surv.fit(X_train, Y_train_surv, batch_size=32, epochs=100, verbose=True)\n",
    "#deep_cindex = deep_surv.score(X_test, Y_test_surv)\n",
    "#print(f\"Concordance Index - DeepSurv: {deep_cindex:.4f}\")"
   ]
  },
  {
   "cell_type": "code",
   "execution_count": null,
   "metadata": {},
   "outputs": [],
   "source": []
  }
 ],
 "metadata": {
  "kernelspec": {
   "display_name": "Python 3",
   "language": "python",
   "name": "python3"
  },
  "language_info": {
   "codemirror_mode": {
    "name": "ipython",
    "version": 3
   },
   "file_extension": ".py",
   "mimetype": "text/x-python",
   "name": "python",
   "nbconvert_exporter": "python",
   "pygments_lexer": "ipython3",
   "version": "3.12.7"
  }
 },
 "nbformat": 4,
 "nbformat_minor": 2
}
