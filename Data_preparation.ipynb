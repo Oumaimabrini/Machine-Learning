{
 "cells": [
  {
   "cell_type": "code",
   "execution_count": 1,
   "metadata": {},
   "outputs": [],
   "source": [
    "# Suppression des warnings\n",
    "import warnings\n",
    "warnings.filterwarnings('ignore')"
   ]
  },
  {
   "cell_type": "code",
   "execution_count": 2,
   "metadata": {},
   "outputs": [],
   "source": [
    "import pandas as pd\n",
    "import numpy as np\n",
    "import matplotlib.pyplot as plt\n",
    "import seaborn as sns\n",
    "import re"
   ]
  },
  {
   "cell_type": "code",
   "execution_count": 251,
   "metadata": {},
   "outputs": [],
   "source": [
    "from sklearn.model_selection import train_test_split\n",
    "from sklearn.model_selection import cross_val_score\n",
    "from sklearn.preprocessing import StandardScaler, OneHotEncoder\n",
    "from sklearn.preprocessing import StandardScaler, MinMaxScaler\n",
    "from sksurv.linear_model import CoxPHSurvivalAnalysis\n",
    "from sksurv.ensemble import RandomSurvivalForest\n",
    "import lightgbm as lgb\n",
    "from pycox.models import CoxPH, DeepHitSingle\n",
    "from sklearn.impute import SimpleImputer\n",
    "import torchtuples as tt\n",
    "import torch\n",
    "\n",
    "from sksurv.util import Surv"
   ]
  },
  {
   "cell_type": "markdown",
   "metadata": {},
   "source": [
    "Le **Data Challenge de QRT**, en collaboration avec l’Institut Gustave Roussy, vise à prédire le risque de décès des patients atteints d’une leucémie myéloïde adulte en utilisant des données cliniques et moléculaires. La LMA est une forme de cancer du sang et de la moelle osseuse caractérisée par la prolifération rapide de cellules myéloïdes immatures. Ces cellules anormales s'accumulent dans la moelle osseuse, perturbant la production de cellules sanguines normales. L’objectif est de développer un outil de prédiction du risque de décès pour les patients diagnostiqués avec un cancer du sang. Cette métrique a pour vocation d'aider les soignants à adapter des stratégies thérapeutiques en adapter du profil des patients : haut ou faible risque, et ainsi améliorer leur prise en charge.\n",
    "\n",
    "Nous allons travailler sur un **jeu de données** comprenant des informations de 3 323 patients en entraînement et 1 193 en test, issues de 24 centres cliniques. Deux types de données sont exploitées :\n",
    "- **Données cliniques** (ex. taux de globules blancs, hémoglobine, anomalies chromosomiques).\n",
    "- **Données moléculaires** (mutations génétiques et impact sur les protéines).\n",
    "\n",
    "L’évaluation repose sur l’**IPCW-C-index**, une métrique adaptée aux données censurées. Un **modèle de risques proportionnels de Cox** sert de benchmark, comparé à un modèle LightGBM plus simple. L’objectif final est de soumettre des prédictions de risque de décès sous forme de fichier CSV.\n",
    "\n",
    "Dans le cadre du cours de **machine learning**, nous travaillons sur ce projet pour développer des modèles prédictifs et améliorer la compréhension des approches en analyse de survie."
   ]
  },
  {
   "cell_type": "markdown",
   "metadata": {},
   "source": [
    "# Récupération des données : "
   ]
  },
  {
   "cell_type": "code",
   "execution_count": 5,
   "metadata": {},
   "outputs": [],
   "source": [
    "### Chargement des données train\n",
    "Xtrain_clin = pd.read_csv(\"./clinical_train.csv\")\n",
    "Xtrain_mol = pd.read_csv(\"./molecular_train.csv\")\n",
    "\n",
    "\n",
    "Y_train = pd.read_csv(\"./target_train.csv\")\n",
    "\n",
    "### Chargement des données test\n",
    "Xtest_clin = pd.read_csv(\"./clinical_test.csv\")\n",
    "Xtest_mol = pd.read_csv(\"./molecular_test.csv\")\n",
    "\n",
    "features = ['BM_BLAST', 'HB', 'PLT']\n",
    "target = ['OS_YEARS', 'OS_STATUS']"
   ]
  },
  {
   "cell_type": "markdown",
   "metadata": {},
   "source": [
    "# Présentation des dataset :"
   ]
  },
  {
   "cell_type": "markdown",
   "metadata": {},
   "source": [
    "### Aperçu des données :"
   ]
  },
  {
   "cell_type": "code",
   "execution_count": 6,
   "metadata": {},
   "outputs": [
    {
     "name": "stdout",
     "output_type": "stream",
     "text": [
      "        ID CENTER  BM_BLAST    WBC  ANC  MONOCYTES    HB    PLT  \\\n",
      "0  P132697    MSK      14.0    2.8  0.2        0.7   7.6  119.0   \n",
      "1  P132698    MSK       1.0    7.4  2.4        0.1  11.6   42.0   \n",
      "2  P116889    MSK      15.0    3.7  2.1        0.1  14.2   81.0   \n",
      "3  P132699    MSK       1.0    3.9  1.9        0.1   8.9   77.0   \n",
      "4  P132700    MSK       6.0  128.0  9.7        0.9  11.1  195.0   \n",
      "\n",
      "                          CYTOGENETICS  \n",
      "0      46,xy,del(20)(q12)[2]/46,xy[18]  \n",
      "1                                46,xx  \n",
      "2   46,xy,t(3;3)(q25;q27)[8]/46,xy[12]  \n",
      "3    46,xy,del(3)(q26q27)[15]/46,xy[5]  \n",
      "4  46,xx,t(3;9)(p13;q22)[10]/46,xx[10]  \n",
      "        ID CHR        START          END                REF ALT    GENE  \\\n",
      "0  P100000  11  119149248.0  119149248.0                  G   A     CBL   \n",
      "1  P100000   5  131822301.0  131822301.0                  G   T    IRF1   \n",
      "2  P100000   3   77694060.0   77694060.0                  G   C   ROBO2   \n",
      "3  P100000   4  106164917.0  106164917.0                  G   T    TET2   \n",
      "4  P100000   2   25468147.0   25468163.0  ACGAAGAGGGGGTGTTC   A  DNMT3A   \n",
      "\n",
      "  PROTEIN_CHANGE                EFFECT     VAF   DEPTH  \n",
      "0        p.C419Y  non_synonymous_codon  0.0830  1308.0  \n",
      "1        p.Y164*           stop_gained  0.0220   532.0  \n",
      "2            p.?   splice_site_variant  0.4100   876.0  \n",
      "3       p.R1262L  non_synonymous_codon  0.4300   826.0  \n",
      "4   p.E505fs*141    frameshift_variant  0.0898   942.0  \n"
     ]
    }
   ],
   "source": [
    "print(Xtrain_clin.head())\n",
    "print(Xtrain_mol.head())"
   ]
  },
  {
   "cell_type": "markdown",
   "metadata": {},
   "source": [
    "# Données cliniques : \n",
    "- ID : Identifiant unique du patient.\n",
    "- CENTER : Centre médical où le patient a été traité.\n",
    "- BM_BLAST : Pourcentage de cellules blastiques dans la moelle osseuse (critère clé pour les leucémies).\n",
    "- WBC : Nombre de globules blancs (White Blood Cell count).\n",
    "- ANC : Nombre absolu de neutrophiles.\n",
    "- MONOCYTES : Nombre de monocytes.\n",
    "- HB : Niveau d’hémoglobine.\n",
    "- PLT : Nombre de plaquettes sanguines.\n",
    "- CYTOGENETICS : Anomalies cytogénétiques détectées.\n",
    "\n",
    "Variables qualitatives : ID, Center, Cytogenetics\n",
    "\n",
    "Varaibles quantitatives : BM_BLAST, WBC, ANC, MONOCTES, HB, PLT"
   ]
  },
  {
   "cell_type": "markdown",
   "metadata": {},
   "source": [
    "# Données moléculaires\n",
    "- ID : Identifiant unique du patient.\n",
    "- CHR : Chromosome où la mutation a été détectée.\n",
    "- START / END : Position génomique de la mutation.\n",
    "- REF / ALT : Base de référence et base mutée.\n",
    "- GENE : Nom du gène affecté.\n",
    "- PROTEIN_CHANGE : Modification de la protéine codée.\n",
    "- EFFECT : Effet de la mutation (non_synonymous_codon, stop_gained, etc.).\n",
    "- VAF : Fréquence allélique de la mutation (proportion des copies de l’ADN affectées).\n",
    "- DEPTH : Profondeur de lecture (nombre de fois que cette mutation a été détectée dans le séquençage).\n",
    "\n",
    "Variables qualitatives : ID, CHR, REF, ALT, GENE, PROTEIN_CHANGE, EFFECT\n",
    "\n",
    "Variables quantitatives : START, END, VAF, DEPTH"
   ]
  },
  {
   "cell_type": "code",
   "execution_count": 254,
   "metadata": {},
   "outputs": [],
   "source": [
    "#print(\"Aperçu des données cible:\")\n",
    "#print(Y_train.head())"
   ]
  },
  {
   "cell_type": "markdown",
   "metadata": {},
   "source": [
    "# Variable cible (survie des patiencts)\n",
    "- ID : \n",
    "- OS_YEARS : Durée de survie en années après le diagnostic.\n",
    "- OS_STATUS : Statut de survie lors du dernier suivi (0 = en vie, 1 = décédé)."
   ]
  },
  {
   "cell_type": "markdown",
   "metadata": {},
   "source": [
    "# Description statistique des dataset."
   ]
  },
  {
   "cell_type": "markdown",
   "metadata": {},
   "source": [
    "Dans les extraits ci dessous, les descriptions statistiques ne peuvent s'effectuer que pour les varaibles quantitatives."
   ]
  },
  {
   "cell_type": "code",
   "execution_count": 7,
   "metadata": {},
   "outputs": [
    {
     "name": "stdout",
     "output_type": "stream",
     "text": [
      "Description statistique des données :\n",
      "          BM_BLAST          WBC          ANC    MONOCYTES           HB  \\\n",
      "count  3214.000000  3051.000000  3130.000000  2722.000000  3213.000000   \n",
      "mean      5.982545     6.535164     3.264735     0.955868     9.893549   \n",
      "std       7.615439    10.247219     5.237043     2.666478     2.041158   \n",
      "min       0.000000     0.200000     0.000000     0.000000     4.000000   \n",
      "25%       1.000000     2.700000     1.000000     0.150000     8.500000   \n",
      "50%       3.000000     4.100000     2.000000     0.370000     9.700000   \n",
      "75%       8.000000     6.655000     3.690000     0.783000    11.200000   \n",
      "max      91.000000   154.400000   109.620000    44.200000    16.600000   \n",
      "\n",
      "               PLT  \n",
      "count  3199.000000  \n",
      "mean    167.048900  \n",
      "std     149.477031  \n",
      "min       2.000000  \n",
      "25%      65.500000  \n",
      "50%     123.000000  \n",
      "75%     229.500000  \n",
      "max    1451.000000  \n",
      "              START           END           VAF         DEPTH\n",
      "count  1.082100e+04  1.082100e+04  10846.000000  10821.000000\n",
      "mean   8.078326e+07  8.078326e+07      0.305087   1051.229554\n",
      "std    5.642656e+07  5.642656e+07      0.211524    552.861902\n",
      "min    3.948990e+05  3.948990e+05      0.020000     16.000000\n",
      "25%    3.102244e+07  3.102244e+07      0.102625    660.000000\n",
      "50%    7.473296e+07  7.473296e+07      0.321250    975.000000\n",
      "75%    1.152587e+08  1.152587e+08      0.442000   1353.000000\n",
      "max    2.262521e+08  2.262521e+08      0.999000   7156.000000\n"
     ]
    }
   ],
   "source": [
    "print(\"Description statistique des données :\")\n",
    "print(Xtrain_clin.describe())\n",
    "print(Xtrain_mol.describe())"
   ]
  },
  {
   "cell_type": "markdown",
   "metadata": {},
   "source": [
    "### Analyse des donnée cliniques pour le train :\n",
    "\n",
    "- BM_BLAST :  On observe ci dessus que la moyenne observée du taux de blastes dans la moelle osseuse et de 5.98%, alors que la norme est inférieure à 5%. La moyenne observée est tout à fait cohérente avec la population étudiée ; des patient atteints de Leucémie Myéloïde par QRT. On remarque également que plus de la moitié de l'échantillon présente un taux inférieur à 3%, et qu'un quart de celui qui présente un taux supérieur à 8%, ce qui est anormalement élevé. Enfin, le maximum est à 91%, ce patient souffre d'une leucémie très aiguë. Toute valeure supérieure à 100% est impossible et se doit d'être modifié, or le dataset n'en présente aucune.\n",
    "- WBC : Le taux de globules blancs dans le sang est en moyenne de 6.53 Giga/L, ce qui est dans la norme. Une quantité inférieure à 4 Giga/L indique un risque d'infection, alors qu'un volume supérieur à 11Giga/L indique une infection possible. Dans le cadre de l'échantillon; près de la moitié des patients présentent, au vu du taux de globules blancs, un risque d'infection.  Le maximum est à 154, ce ui est normalement élevé, mais reste inférieur au seuil possible de 200 Giga/L.\n",
    "- ANC : Le nombre de neutrophiles est en moyenne de 3.26 Giga/L, ce qui est dans la norme (1.5 à 8 Giga/L). L'écart à la moyenne n'est pas très élevé. Un taux inférieur à 1.5 Giga/L indique un risque d’infection, alors qu’un taux supérieur à 10 Giga/L peut être lié à une infection grave ou à une maladie du sang. Le maximum observé est de 109.6 Giga/L, ce qui est très élevé et semble anormal. Toute valeur supérieure à 150 Giga/L est impossible et doit être corrigée.\n",
    "- MONOCYTES : Le taux de monocytes est en moyenne de 0.95 Giga/L, ce qui est dans la norme (0.2 à 1 Giga/L). Une valeur supérieure à 1.5 Giga/L peut être un signe d’infection chronique ou d’un problème du sang. Un quart des patients a un taux élevé. Le maximum est de 44.2 Giga/L, ce qui est très anormal. Toute valeur supérieure à 50 Giga/L est impossible et doit être corrigée.\n",
    "- HB : Le taux d’hémoglobine moyen est de 9.83 g/dL, alors que la norme est entre 12 et 17 g/dL. Plus de 75% de l'échntillon est en dessous de 12g/dL. C’est trop bas, ce qui indique une anémie. Une valeur inférieure à 7 g/dL est très dangereuse et peut nécessiter une transfusion. Le maximum est à 16.6 g/dL, ce qui reste normal. Toute valeur inférieure à 2 g/dL est impossible et doit être corrigée, or le minimum est à 4.\n",
    "- PLT : Le taux moyen de plaquettes est de 167.5 Giga/L, ce qui est faible par rapport à la norme (150 - 450 Giga/L). Un taux inférieur à 150 Giga/L peut entraîner des problèmes de saignement, tandis qu’un taux supérieur à 450 Giga/L peut augmenter le risque de caillots sanguins.  Plus de la moitié des patiens présentent une quantité inférieure à 123Giga/L, ce qui est également cohérent avec la population étudiée. Le maximum observé est de 1451 Giga/L, ce qui est très élevé. Toute valeur supérieure à 2000 Giga/L est impossible et doit être corrigée.\n",
    "\n",
    "\n",
    "- VAF : La moyenne observée de la fréquence allélique variant (VAF) est de 0.305, alors que les valeurs vont de 0.02 à 0.999. Cela signifie qu’en moyenne, environ 30% des copies d’ADN d’un patient portent la mutation, mais certains cas atteignent 99.9%, ce qui indique une mutation quasiment fixée. Un quart des patients ont une VAF supérieure à 44%, ce qui est élevé. Une valeur inférieure à 0 ou supérieure à 1 est biologiquement impossible et doit être corrigée, mais le dataset ne contient aucune valeur hors de ces limites.\n",
    "- DEPTH : La profondeur moyenne de lecture (DEPTH) est de 1051, ce qui est un bon niveau pour une analyse fiable des mutations. Toutefois, certaines valeurs sont très élevées (max = 7156) et d’autres très faibles (min = 16), ce qui peut poser problème. Une profondeur trop basse (< 20-30) rend l’interprétation d’une mutation peu fiable, car il y a trop peu de séquences pour être certain du résultat. Une valeur supérieure à 10 000 pourrait indiquer une erreur technique.\n",
    "\n",
    "Nous constatons que les analyses sanguins présentent statistiquement des écarts importants pour une grande partie des patiens étudiées. Ces valurs sont ohérentes avec le sujet. Enfin, aucunes valeurs incohérente n'est présente dans les dataset clinical_train et molecular_train."
   ]
  },
  {
   "cell_type": "markdown",
   "metadata": {},
   "source": [
    "# Traitement des données manquantes :\n",
    "\n",
    "On observe énormément de valeurs manquantes dans les jeux de données. De ce fait, on calcul le nombres de NA. \n",
    "\n",
    "Ainsi, nous pourrons procéder au traitements de données selon la qualité de celle-ci.\n",
    "\n",
    "On observe que toutes les variables présentent de valeurs manquantes .. sauf ID (clés), ...\n",
    "\n",
    "La colonne Monoxyte et cytogenetics présentent un taux de NA très élevé, respectivement de 10% et de 20%."
   ]
  },
  {
   "cell_type": "code",
   "execution_count": 8,
   "metadata": {},
   "outputs": [
    {
     "name": "stdout",
     "output_type": "stream",
     "text": [
      "Analyse des valeurs manquantes :\n",
      "ID                  0\n",
      "CHR               114\n",
      "START             114\n",
      "END               114\n",
      "REF               114\n",
      "ALT               114\n",
      "GENE                0\n",
      "PROTEIN_CHANGE     12\n",
      "EFFECT              0\n",
      "VAF                89\n",
      "DEPTH             114\n",
      "dtype: int64\n",
      "ID                0\n",
      "CENTER            0\n",
      "BM_BLAST        109\n",
      "WBC             272\n",
      "ANC             193\n",
      "MONOCYTES       601\n",
      "HB              110\n",
      "PLT             124\n",
      "CYTOGENETICS    387\n",
      "dtype: int64\n"
     ]
    }
   ],
   "source": [
    "print(\"Analyse des valeurs manquantes :\")\n",
    "print(Xtrain_mol.isna().sum())\n",
    "print(Xtrain_clin.isna().sum())\n"
   ]
  },
  {
   "cell_type": "code",
   "execution_count": 9,
   "metadata": {},
   "outputs": [],
   "source": [
    "Y_train = Y_train.dropna()"
   ]
  },
  {
   "cell_type": "markdown",
   "metadata": {},
   "source": [
    "Au vu des types des variables, on s'assure que le typage soit correct en effectuant les transformations suivantes :"
   ]
  },
  {
   "cell_type": "code",
   "execution_count": 10,
   "metadata": {},
   "outputs": [],
   "source": [
    "Xtrain_mol.head()\n",
    "Xtrain_mol[\"ID\"].value_counts()\n",
    "Xtrain_mol[\"EFFECT\"] = Xtrain_mol[\"EFFECT\"].astype(str)\n",
    "\n",
    "Y_train[\"OS_YEARS\"] = Y_train[\"OS_YEARS\"].astype(float)"
   ]
  },
  {
   "cell_type": "markdown",
   "metadata": {},
   "source": [
    "Les ID sont les clés du jeu de données \"Clinical\". Toutefois, dans le jeu de donnée \"Molecular\", on constate des doublons sur la colonne ID, indiquant que différents marqueurs génétiques ou mutations ont été analysés pour un même individus."
   ]
  },
  {
   "cell_type": "markdown",
   "metadata": {},
   "source": [
    " - La fréquence d'allèles variant (VAF) diffère parmi les entrées, indiquant que les niveaux de présence de ces mutations varient. Cela peut être dû à des différences dans l'échantillonnage ou la prévalence de la mutation dans différentes cellules de l'échantillon.\n",
    " - Le PROTEIN_CHANGE montre que les modifications protéiques dues aux mutations sont spécifiques à chaque entrée, ce qui souligne l'importance de chaque mutation unique dans l'analyse moléculaire.\n",
    " - Les champs START et END indiquent les positions exactes des mutations sur le chromosome, et bien que certaines puissent se chevaucher ou être identiques, les mutations elles-mêmes peuvent être différentes."
   ]
  },
  {
   "cell_type": "markdown",
   "metadata": {},
   "source": [
    "### Traitement de la colonne EFFECT : "
   ]
  },
  {
   "cell_type": "code",
   "execution_count": 11,
   "metadata": {},
   "outputs": [
    {
     "data": {
      "text/plain": [
       "array(['non_synonymous_codon', 'stop_gained', 'splice_site_variant',\n",
       "       'frameshift_variant', 'inframe_codon_loss', 'inframe_codon_gain',\n",
       "       'initiator_codon_change', '2KB_upstream_variant',\n",
       "       'complex_change_in_transcript', '3_prime_UTR_variant', 'stop_lost',\n",
       "       'inframe_variant', 'synonymous_codon', 'stop_retained_variant',\n",
       "       'ITD', 'PTD'], dtype=object)"
      ]
     },
     "execution_count": 11,
     "metadata": {},
     "output_type": "execute_result"
    }
   ],
   "source": [
    "Xtrain_mol[\"EFFECT\"].unique()"
   ]
  },
  {
   "cell_type": "markdown",
   "metadata": {},
   "source": [
    "On constate que la varaible EFFECT peut prendre 16 valeurs différentes. Celle-ci peuvent être catégoriser selon l'impact qu'elles ont sur la durrée de survie du patient et donc son risque de décés. On distingue les valeurs qui réduisent la durée de survie, et celle qui sont légèrement négative, neutre ou légèrement positive. Ainsi, on peut encoder les valeurs par -1 si l'impact est négatif et 0 si il ne l'est pas.\n",
    "\n",
    "L'objectif de cette approche est de pouvoir agréger les effets des différentes mutations pour un même individus/ID dans le dataset Molecular, et ainsi obtenir une seule ligne par ID. En effet ce jeu de données présente plus de 10000lignes avec une répétition sur la majorité des ID.\n",
    "\n",
    "Voici le résumé des impacts de chaque varaibles ci-dessous  :\n",
    "\n",
    "Réduit la durée de survie :\n",
    "- frameshift_variant\n",
    "- stop_gained\n",
    "- splice_site_variant\n",
    "- ITD\tDélétère\n",
    "- initiator_codon_change\n",
    "- stop_lost\tDélétère\n",
    "- complex_change_in_transcript\tDélétère\n",
    "\n",
    "Approximativement Neutre sur la durée de survie :\n",
    "- non_synonymous_codon\t\t\n",
    "- inframe_codon_loss\t\t\n",
    "- inframe_codon_gain\t\t\n",
    "- inframe_variant\n",
    "- PTD\t\t\n",
    "- synonymous_codon\tNeutre\t\n",
    "- stop_retained_variant\tNeutre\t\n",
    "- 3_prime_UTR_variant\tNeutre\t\n",
    "- 2KB_upstream_variant\tNeutre\t\n",
    "\n",
    "Nous proposons ci dessous la fonction permettant de faire la transformation et le résultat appliqué à la colonne EFFECT.\n"
   ]
  },
  {
   "cell_type": "code",
   "execution_count": 12,
   "metadata": {},
   "outputs": [
    {
     "name": "stdout",
     "output_type": "stream",
     "text": [
      "            ID  EFFECT\n",
      "0      P100000       0\n",
      "1      P100000      -1\n",
      "2      P100000      -1\n",
      "3      P100000       0\n",
      "4      P100000      -1\n",
      "...        ...     ...\n",
      "10930  P131472       0\n",
      "10931  P131505       0\n",
      "10932  P131816       0\n",
      "10933  P132717       0\n",
      "10934  P132724       0\n",
      "\n",
      "[10935 rows x 2 columns]\n"
     ]
    }
   ],
   "source": [
    "\n",
    "def categorize_effect(effect_value):\n",
    "    # Liste des effets qui réduisent la survie\n",
    "    detrimental_effects = [\n",
    "        \"frameshift_variant\", \"stop_gained\", \"splice_site_variant\", \"ITD\", \n",
    "        \"initiator_codon_change\", \"stop_lost\", \"complex_change_in_transcript\"\n",
    "    ]\n",
    "    \n",
    "    # Liste des effets qui peuvent être neutres ou à impact variable\n",
    "    neutral_effects = [\n",
    "        \"non_synonymous_codon\", \"inframe_codon_loss\", \"inframe_codon_gain\", \n",
    "        \"inframe_variant\", \"PTD\"\n",
    "    ]\n",
    "    \n",
    "    # Liste des effets neutres (aucun impact sur la survie)\n",
    "    benign_effects = [\n",
    "        \"synonymous_codon\", \"stop_retained_variant\", \"3_prime_UTR_variant\", \"2KB_upstream_variant\"\n",
    "    ]\n",
    "    \n",
    "    # Catégorisation selon l'impact sur la survie\n",
    "    if effect_value in detrimental_effects:\n",
    "        return -1  # Réduit la survie\n",
    "    elif effect_value in neutral_effects or effect_value in benign_effects:\n",
    "        return 0  # Neutre ou peut réduire la survie, mais pas significatif\n",
    "    else:\n",
    "        return None  # Si la valeur est inconnue ou mal formée\n",
    "\n",
    "# Appliquer la fonction à la colonne 'EFFECT' de votre DataFrame\n",
    "Xtrain_mol['EFFECT'] = Xtrain_mol['EFFECT'].apply(categorize_effect)\n",
    "\n",
    "# Afficher le résultat\n",
    "print(Xtrain_mol[[\"ID\",'EFFECT']])\n"
   ]
  },
  {
   "cell_type": "markdown",
   "metadata": {},
   "source": [
    "# Traitement de la colonne \"CYTOGENETICS\""
   ]
  },
  {
   "cell_type": "code",
   "execution_count": 13,
   "metadata": {},
   "outputs": [
    {
     "data": {
      "text/plain": [
       "<bound method IndexOpsMixin.value_counts of 0                     47,XY,+X,del(9)(q?)[15]/47,XY,+X[5]\n",
       "1       46,XY,der(3)?t(3;11)(q26.2;q23),add(4)(p15).de...\n",
       "2                                                47,XX,+8\n",
       "3                                                  Normal\n",
       "4       43,XY,dic(5;17)(q11.2;p11.2),-7,-13,-20,-22,+r...\n",
       "                              ...                        \n",
       "1188                                                  NaN\n",
       "1189                                                  NaN\n",
       "1190                                                  NaN\n",
       "1191                                                  NaN\n",
       "1192                                                  NaN\n",
       "Name: CYTOGENETICS, Length: 1193, dtype: object>"
      ]
     },
     "execution_count": 13,
     "metadata": {},
     "output_type": "execute_result"
    }
   ],
   "source": [
    "Xtest_clin[\"CYTOGENETICS\"].value_counts"
   ]
  },
  {
   "cell_type": "markdown",
   "metadata": {},
   "source": [
    "Nous observons que cette la colonne CYTOGENETICS présente 1193 valeures distinctes, pour seulement 3223lignes dans le dataset. Deplus les valeurs de ce champ présente différentes informations, dont :\n",
    "- Le nombre de chromosommes.\n",
    "- Le sexe du patients.\n",
    "- Le nombre d'échantillons ADN testés.\n",
    "- Les anomalies detectées.\n",
    "\n",
    "Dasn un soucis de simplification, nous décidons de créer 4 colonnes distinctes pour représenter ces informations séparément. "
   ]
  },
  {
   "cell_type": "code",
   "execution_count": 14,
   "metadata": {},
   "outputs": [],
   "source": [
    "def extract_sex(cytogenetics):\n",
    "    if pd.isna(cytogenetics):\n",
    "        return \"AUTRE\"\n",
    "    elif \"xx\" in cytogenetics:\n",
    "        return \"HOMME\"\n",
    "    elif \"xy\" in cytogenetics:\n",
    "        return \"FEMME\"\n",
    "    else:\n",
    "        return \"AUTRE\""
   ]
  },
  {
   "cell_type": "code",
   "execution_count": 15,
   "metadata": {},
   "outputs": [],
   "source": [
    "def parse_cytogenetics(cyto):\n",
    "    cyto = str(cyto).lower()  # Convertir en string et mettre en minuscule\n",
    "\n",
    "    # 1 Extraire le nombre de chromosomes\n",
    "    chrom_match = re.search(r\"\\b(40|41|42|43|44|45|46|47|48|49|50)\\b\", cyto)\n",
    "    num_chromosomes = int(chrom_match.group()) if chrom_match else None\n",
    "\n",
    "    # 2️ Utiliser la fonction existante pour déterminer le sexe\n",
    "    sexe = extract_sex(cyto)  # Remplacement par la fonction existante\n",
    "\n",
    "    # 3️ Extraire le nombre d’échantillons testés\n",
    "    sample_match = re.search(r\"\\[(\\d+)\\]\", cyto)\n",
    "    num_samples = int(sample_match.group(1)) if sample_match else None\n",
    "\n",
    "    # 4️ Détection des anomalies (nouvelle logique)\n",
    "    has_anomaly = 0  # Par défaut, pas d’anomalie\n",
    "    if num_chromosomes and num_chromosomes != 46:\n",
    "        has_anomaly = 1\n",
    "    if re.match(r\"^(46,xy(\\[\\d+\\])?|46,xx(\\[\\d+\\])?)$\", cyto) is None:\n",
    "        has_anomaly = 1\n",
    "\n",
    "    return pd.Series([num_chromosomes, sexe, num_samples, has_anomaly])\n",
    "\n",
    "# Appliquer la fonction au DataFrame (assurez-vous que 'train_set_clin' contient une colonne 'CYTOGENETICS')\n",
    "Xtrain_clin[[\"Nombre_Chromosomes\", \"SEX\", \"Nb_Echantillons\", \"Anomalies\"]] = Xtrain_clin[\"CYTOGENETICS\"].apply(parse_cytogenetics)"
   ]
  },
  {
   "cell_type": "code",
   "execution_count": 16,
   "metadata": {},
   "outputs": [
    {
     "name": "stdout",
     "output_type": "stream",
     "text": [
      "SEX\n",
      "FEMME    1693\n",
      "HOMME    1145\n",
      "AUTRE     485\n",
      "Name: count, dtype: int64\n"
     ]
    }
   ],
   "source": [
    "Xtrain_clin[\"SEX\"] = Xtrain_clin[\"CYTOGENETICS\"].apply(extract_sex)\n",
    "print(Xtrain_clin[\"SEX\"].value_counts())"
   ]
  },
  {
   "cell_type": "markdown",
   "metadata": {},
   "source": [
    "# Transformation du jeu de donnée Molecular"
   ]
  },
  {
   "cell_type": "markdown",
   "metadata": {},
   "source": [
    "Nous pouvons désormais aggréger les lignes du jeu de donnée Molecular.\n",
    "Nous décidons de calculer la moyenne des fréquences d'allèles variant, la profondeur et l'impact des effects de l'ensemble des mutations pour chaque identifiants.\n",
    "Cette approche permet de conserver une information suffisemment détaillé pour chaque patiens tout en offrant la possilité de faire fusionner les deux jeux de données.   "
   ]
  },
  {
   "cell_type": "code",
   "execution_count": 17,
   "metadata": {},
   "outputs": [],
   "source": [
    "aggregated_data = Xtrain_mol.groupby('ID').agg({\n",
    "    'VAF': 'mean',  # Moyenne des fréquences d'allèles variant\n",
    "    'DEPTH': 'sum',\n",
    "    'EFFECT': 'sum' # Somme des profondeurs de séquençage \n",
    "}).reset_index()"
   ]
  },
  {
   "cell_type": "code",
   "execution_count": 267,
   "metadata": {},
   "outputs": [],
   "source": [
    "#Xtrain_mol1 = Xtrain_mol.drop_duplicates(subset=\"ID\", keep = False)\n",
    "#Xtest_mol = Xtest_mol.drop_duplicates(subset=\"ID\", keep=False)"
   ]
  },
  {
   "cell_type": "code",
   "execution_count": 268,
   "metadata": {},
   "outputs": [],
   "source": [
    "#Xtrain_mol1[\"ID\"].value_counts()"
   ]
  },
  {
   "cell_type": "markdown",
   "metadata": {},
   "source": [
    "### MERGE INNER DES JEUX DE DONNEES"
   ]
  },
  {
   "cell_type": "code",
   "execution_count": 18,
   "metadata": {},
   "outputs": [
    {
     "name": "stdout",
     "output_type": "stream",
     "text": [
      "(3323, 13)\n",
      "(3026, 4)\n"
     ]
    }
   ],
   "source": [
    "print(Xtrain_clin.shape)\n",
    "print(aggregated_data.shape)"
   ]
  },
  {
   "cell_type": "markdown",
   "metadata": {},
   "source": [
    "On conserve l'intersection des deux jeux de données (inner join) pour procéder à l'aggrégation de ces deux derniers."
   ]
  },
  {
   "cell_type": "code",
   "execution_count": 20,
   "metadata": {},
   "outputs": [],
   "source": [
    "#Merge la data VERIFIER NB ROWS PAR DATAFRAME\n",
    "data_train = Xtrain_clin.merge(aggregated_data, on='ID', how = \"inner\")\n",
    "#X_test = Xtest_clin.merge(aggregated_data, on='ID', how='outer')\n",
    "data_train[[\"HB\", \"PLT\", \"BM_BLAST\"]]  = data_train[[\"HB\", \"PLT\", \"BM_BLAST\"]].astype(float)"
   ]
  },
  {
   "cell_type": "code",
   "execution_count": 21,
   "metadata": {},
   "outputs": [
    {
     "data": {
      "text/plain": [
       "ID                     object\n",
       "CENTER                 object\n",
       "BM_BLAST              float64\n",
       "WBC                   float64\n",
       "ANC                   float64\n",
       "MONOCYTES             float64\n",
       "HB                    float64\n",
       "PLT                   float64\n",
       "CYTOGENETICS           object\n",
       "Nombre_Chromosomes    float64\n",
       "SEX                    object\n",
       "Nb_Echantillons       float64\n",
       "Anomalies               int64\n",
       "VAF                   float64\n",
       "DEPTH                 float64\n",
       "EFFECT                  int64\n",
       "dtype: object"
      ]
     },
     "execution_count": 21,
     "metadata": {},
     "output_type": "execute_result"
    }
   ],
   "source": [
    "# Types des variables\n",
    "data_train.dtypes"
   ]
  },
  {
   "cell_type": "code",
   "execution_count": 22,
   "metadata": {},
   "outputs": [],
   "source": [
    "data_train.drop(columns=[\"CYTOGENETICS\"], inplace=True) # suppression de la colonne CYTOGENETICS"
   ]
  },
  {
   "cell_type": "markdown",
   "metadata": {},
   "source": [
    "Le dataset train est le suivant :"
   ]
  },
  {
   "cell_type": "code",
   "execution_count": 23,
   "metadata": {},
   "outputs": [
    {
     "data": {
      "text/html": [
       "<div>\n",
       "<style scoped>\n",
       "    .dataframe tbody tr th:only-of-type {\n",
       "        vertical-align: middle;\n",
       "    }\n",
       "\n",
       "    .dataframe tbody tr th {\n",
       "        vertical-align: top;\n",
       "    }\n",
       "\n",
       "    .dataframe thead th {\n",
       "        text-align: right;\n",
       "    }\n",
       "</style>\n",
       "<table border=\"1\" class=\"dataframe\">\n",
       "  <thead>\n",
       "    <tr style=\"text-align: right;\">\n",
       "      <th></th>\n",
       "      <th>ID</th>\n",
       "      <th>CENTER</th>\n",
       "      <th>BM_BLAST</th>\n",
       "      <th>WBC</th>\n",
       "      <th>ANC</th>\n",
       "      <th>MONOCYTES</th>\n",
       "      <th>HB</th>\n",
       "      <th>PLT</th>\n",
       "      <th>Nombre_Chromosomes</th>\n",
       "      <th>SEX</th>\n",
       "      <th>Nb_Echantillons</th>\n",
       "      <th>Anomalies</th>\n",
       "      <th>VAF</th>\n",
       "      <th>DEPTH</th>\n",
       "      <th>EFFECT</th>\n",
       "    </tr>\n",
       "  </thead>\n",
       "  <tbody>\n",
       "    <tr>\n",
       "      <th>0</th>\n",
       "      <td>P132697</td>\n",
       "      <td>MSK</td>\n",
       "      <td>14.0</td>\n",
       "      <td>2.80</td>\n",
       "      <td>0.20</td>\n",
       "      <td>0.70</td>\n",
       "      <td>7.6</td>\n",
       "      <td>119.0</td>\n",
       "      <td>46.0</td>\n",
       "      <td>FEMME</td>\n",
       "      <td>2.0</td>\n",
       "      <td>1</td>\n",
       "      <td>0.251578</td>\n",
       "      <td>15374.0</td>\n",
       "      <td>-4</td>\n",
       "    </tr>\n",
       "    <tr>\n",
       "      <th>1</th>\n",
       "      <td>P132698</td>\n",
       "      <td>MSK</td>\n",
       "      <td>1.0</td>\n",
       "      <td>7.40</td>\n",
       "      <td>2.40</td>\n",
       "      <td>0.10</td>\n",
       "      <td>11.6</td>\n",
       "      <td>42.0</td>\n",
       "      <td>46.0</td>\n",
       "      <td>HOMME</td>\n",
       "      <td>NaN</td>\n",
       "      <td>0</td>\n",
       "      <td>0.272867</td>\n",
       "      <td>4204.0</td>\n",
       "      <td>-3</td>\n",
       "    </tr>\n",
       "    <tr>\n",
       "      <th>2</th>\n",
       "      <td>P116889</td>\n",
       "      <td>MSK</td>\n",
       "      <td>15.0</td>\n",
       "      <td>3.70</td>\n",
       "      <td>2.10</td>\n",
       "      <td>0.10</td>\n",
       "      <td>14.2</td>\n",
       "      <td>81.0</td>\n",
       "      <td>46.0</td>\n",
       "      <td>FEMME</td>\n",
       "      <td>8.0</td>\n",
       "      <td>1</td>\n",
       "      <td>0.039333</td>\n",
       "      <td>5309.0</td>\n",
       "      <td>-2</td>\n",
       "    </tr>\n",
       "    <tr>\n",
       "      <th>3</th>\n",
       "      <td>P132699</td>\n",
       "      <td>MSK</td>\n",
       "      <td>1.0</td>\n",
       "      <td>3.90</td>\n",
       "      <td>1.90</td>\n",
       "      <td>0.10</td>\n",
       "      <td>8.9</td>\n",
       "      <td>77.0</td>\n",
       "      <td>46.0</td>\n",
       "      <td>FEMME</td>\n",
       "      <td>15.0</td>\n",
       "      <td>1</td>\n",
       "      <td>0.209227</td>\n",
       "      <td>12605.0</td>\n",
       "      <td>-4</td>\n",
       "    </tr>\n",
       "    <tr>\n",
       "      <th>4</th>\n",
       "      <td>P132700</td>\n",
       "      <td>MSK</td>\n",
       "      <td>6.0</td>\n",
       "      <td>128.00</td>\n",
       "      <td>9.70</td>\n",
       "      <td>0.90</td>\n",
       "      <td>11.1</td>\n",
       "      <td>195.0</td>\n",
       "      <td>46.0</td>\n",
       "      <td>HOMME</td>\n",
       "      <td>10.0</td>\n",
       "      <td>1</td>\n",
       "      <td>0.472100</td>\n",
       "      <td>713.0</td>\n",
       "      <td>-1</td>\n",
       "    </tr>\n",
       "    <tr>\n",
       "      <th>...</th>\n",
       "      <td>...</td>\n",
       "      <td>...</td>\n",
       "      <td>...</td>\n",
       "      <td>...</td>\n",
       "      <td>...</td>\n",
       "      <td>...</td>\n",
       "      <td>...</td>\n",
       "      <td>...</td>\n",
       "      <td>...</td>\n",
       "      <td>...</td>\n",
       "      <td>...</td>\n",
       "      <td>...</td>\n",
       "      <td>...</td>\n",
       "      <td>...</td>\n",
       "      <td>...</td>\n",
       "    </tr>\n",
       "    <tr>\n",
       "      <th>3021</th>\n",
       "      <td>P121828</td>\n",
       "      <td>VU</td>\n",
       "      <td>1.0</td>\n",
       "      <td>3.70</td>\n",
       "      <td>2.53</td>\n",
       "      <td>0.53</td>\n",
       "      <td>8.9</td>\n",
       "      <td>499.0</td>\n",
       "      <td>46.0</td>\n",
       "      <td>FEMME</td>\n",
       "      <td>20.0</td>\n",
       "      <td>0</td>\n",
       "      <td>0.397000</td>\n",
       "      <td>1395.0</td>\n",
       "      <td>-1</td>\n",
       "    </tr>\n",
       "    <tr>\n",
       "      <th>3022</th>\n",
       "      <td>P121829</td>\n",
       "      <td>VU</td>\n",
       "      <td>0.0</td>\n",
       "      <td>4.20</td>\n",
       "      <td>2.40</td>\n",
       "      <td>0.22</td>\n",
       "      <td>10.6</td>\n",
       "      <td>49.0</td>\n",
       "      <td>46.0</td>\n",
       "      <td>FEMME</td>\n",
       "      <td>1.0</td>\n",
       "      <td>1</td>\n",
       "      <td>0.042000</td>\n",
       "      <td>743.0</td>\n",
       "      <td>0</td>\n",
       "    </tr>\n",
       "    <tr>\n",
       "      <th>3023</th>\n",
       "      <td>P121830</td>\n",
       "      <td>VU</td>\n",
       "      <td>0.0</td>\n",
       "      <td>1.80</td>\n",
       "      <td>0.55</td>\n",
       "      <td>0.29</td>\n",
       "      <td>9.4</td>\n",
       "      <td>86.0</td>\n",
       "      <td>46.0</td>\n",
       "      <td>FEMME</td>\n",
       "      <td>4.0</td>\n",
       "      <td>1</td>\n",
       "      <td>0.244650</td>\n",
       "      <td>4613.0</td>\n",
       "      <td>-3</td>\n",
       "    </tr>\n",
       "    <tr>\n",
       "      <th>3024</th>\n",
       "      <td>P121853</td>\n",
       "      <td>VU</td>\n",
       "      <td>5.0</td>\n",
       "      <td>1.37</td>\n",
       "      <td>0.37</td>\n",
       "      <td>0.11</td>\n",
       "      <td>11.4</td>\n",
       "      <td>102.0</td>\n",
       "      <td>46.0</td>\n",
       "      <td>HOMME</td>\n",
       "      <td>5.0</td>\n",
       "      <td>1</td>\n",
       "      <td>0.184250</td>\n",
       "      <td>5546.0</td>\n",
       "      <td>0</td>\n",
       "    </tr>\n",
       "    <tr>\n",
       "      <th>3025</th>\n",
       "      <td>P121834</td>\n",
       "      <td>VU</td>\n",
       "      <td>0.0</td>\n",
       "      <td>2.70</td>\n",
       "      <td>0.72</td>\n",
       "      <td>0.23</td>\n",
       "      <td>8.2</td>\n",
       "      <td>239.0</td>\n",
       "      <td>46.0</td>\n",
       "      <td>FEMME</td>\n",
       "      <td>20.0</td>\n",
       "      <td>0</td>\n",
       "      <td>0.275220</td>\n",
       "      <td>6034.0</td>\n",
       "      <td>-4</td>\n",
       "    </tr>\n",
       "  </tbody>\n",
       "</table>\n",
       "<p>3026 rows × 15 columns</p>\n",
       "</div>"
      ],
      "text/plain": [
       "           ID CENTER  BM_BLAST     WBC   ANC  MONOCYTES    HB    PLT  \\\n",
       "0     P132697    MSK      14.0    2.80  0.20       0.70   7.6  119.0   \n",
       "1     P132698    MSK       1.0    7.40  2.40       0.10  11.6   42.0   \n",
       "2     P116889    MSK      15.0    3.70  2.10       0.10  14.2   81.0   \n",
       "3     P132699    MSK       1.0    3.90  1.90       0.10   8.9   77.0   \n",
       "4     P132700    MSK       6.0  128.00  9.70       0.90  11.1  195.0   \n",
       "...       ...    ...       ...     ...   ...        ...   ...    ...   \n",
       "3021  P121828     VU       1.0    3.70  2.53       0.53   8.9  499.0   \n",
       "3022  P121829     VU       0.0    4.20  2.40       0.22  10.6   49.0   \n",
       "3023  P121830     VU       0.0    1.80  0.55       0.29   9.4   86.0   \n",
       "3024  P121853     VU       5.0    1.37  0.37       0.11  11.4  102.0   \n",
       "3025  P121834     VU       0.0    2.70  0.72       0.23   8.2  239.0   \n",
       "\n",
       "      Nombre_Chromosomes    SEX  Nb_Echantillons  Anomalies       VAF  \\\n",
       "0                   46.0  FEMME              2.0          1  0.251578   \n",
       "1                   46.0  HOMME              NaN          0  0.272867   \n",
       "2                   46.0  FEMME              8.0          1  0.039333   \n",
       "3                   46.0  FEMME             15.0          1  0.209227   \n",
       "4                   46.0  HOMME             10.0          1  0.472100   \n",
       "...                  ...    ...              ...        ...       ...   \n",
       "3021                46.0  FEMME             20.0          0  0.397000   \n",
       "3022                46.0  FEMME              1.0          1  0.042000   \n",
       "3023                46.0  FEMME              4.0          1  0.244650   \n",
       "3024                46.0  HOMME              5.0          1  0.184250   \n",
       "3025                46.0  FEMME             20.0          0  0.275220   \n",
       "\n",
       "        DEPTH  EFFECT  \n",
       "0     15374.0      -4  \n",
       "1      4204.0      -3  \n",
       "2      5309.0      -2  \n",
       "3     12605.0      -4  \n",
       "4       713.0      -1  \n",
       "...       ...     ...  \n",
       "3021   1395.0      -1  \n",
       "3022    743.0       0  \n",
       "3023   4613.0      -3  \n",
       "3024   5546.0       0  \n",
       "3025   6034.0      -4  \n",
       "\n",
       "[3026 rows x 15 columns]"
      ]
     },
     "execution_count": 23,
     "metadata": {},
     "output_type": "execute_result"
    }
   ],
   "source": [
    "data_train"
   ]
  },
  {
   "cell_type": "code",
   "execution_count": 24,
   "metadata": {},
   "outputs": [
    {
     "data": {
      "text/html": [
       "<div>\n",
       "<style scoped>\n",
       "    .dataframe tbody tr th:only-of-type {\n",
       "        vertical-align: middle;\n",
       "    }\n",
       "\n",
       "    .dataframe tbody tr th {\n",
       "        vertical-align: top;\n",
       "    }\n",
       "\n",
       "    .dataframe thead th {\n",
       "        text-align: right;\n",
       "    }\n",
       "</style>\n",
       "<table border=\"1\" class=\"dataframe\">\n",
       "  <thead>\n",
       "    <tr style=\"text-align: right;\">\n",
       "      <th></th>\n",
       "      <th>ID</th>\n",
       "      <th>CENTER</th>\n",
       "      <th>BM_BLAST</th>\n",
       "      <th>WBC</th>\n",
       "      <th>ANC</th>\n",
       "      <th>MONOCYTES</th>\n",
       "      <th>HB</th>\n",
       "      <th>PLT</th>\n",
       "      <th>Nombre_Chromosomes</th>\n",
       "      <th>SEX</th>\n",
       "      <th>Nb_Echantillons</th>\n",
       "      <th>Anomalies</th>\n",
       "      <th>VAF</th>\n",
       "      <th>DEPTH</th>\n",
       "      <th>EFFECT</th>\n",
       "    </tr>\n",
       "  </thead>\n",
       "  <tbody>\n",
       "    <tr>\n",
       "      <th>0</th>\n",
       "      <td>P132697</td>\n",
       "      <td>MSK</td>\n",
       "      <td>14.0</td>\n",
       "      <td>2.80</td>\n",
       "      <td>0.20</td>\n",
       "      <td>0.70</td>\n",
       "      <td>7.6</td>\n",
       "      <td>119.0</td>\n",
       "      <td>46.0</td>\n",
       "      <td>FEMME</td>\n",
       "      <td>2.0</td>\n",
       "      <td>1</td>\n",
       "      <td>0.251578</td>\n",
       "      <td>15374.0</td>\n",
       "      <td>négatif</td>\n",
       "    </tr>\n",
       "    <tr>\n",
       "      <th>1</th>\n",
       "      <td>P132698</td>\n",
       "      <td>MSK</td>\n",
       "      <td>1.0</td>\n",
       "      <td>7.40</td>\n",
       "      <td>2.40</td>\n",
       "      <td>0.10</td>\n",
       "      <td>11.6</td>\n",
       "      <td>42.0</td>\n",
       "      <td>46.0</td>\n",
       "      <td>HOMME</td>\n",
       "      <td>NaN</td>\n",
       "      <td>0</td>\n",
       "      <td>0.272867</td>\n",
       "      <td>4204.0</td>\n",
       "      <td>négatif</td>\n",
       "    </tr>\n",
       "    <tr>\n",
       "      <th>2</th>\n",
       "      <td>P116889</td>\n",
       "      <td>MSK</td>\n",
       "      <td>15.0</td>\n",
       "      <td>3.70</td>\n",
       "      <td>2.10</td>\n",
       "      <td>0.10</td>\n",
       "      <td>14.2</td>\n",
       "      <td>81.0</td>\n",
       "      <td>46.0</td>\n",
       "      <td>FEMME</td>\n",
       "      <td>8.0</td>\n",
       "      <td>1</td>\n",
       "      <td>0.039333</td>\n",
       "      <td>5309.0</td>\n",
       "      <td>négatif</td>\n",
       "    </tr>\n",
       "    <tr>\n",
       "      <th>3</th>\n",
       "      <td>P132699</td>\n",
       "      <td>MSK</td>\n",
       "      <td>1.0</td>\n",
       "      <td>3.90</td>\n",
       "      <td>1.90</td>\n",
       "      <td>0.10</td>\n",
       "      <td>8.9</td>\n",
       "      <td>77.0</td>\n",
       "      <td>46.0</td>\n",
       "      <td>FEMME</td>\n",
       "      <td>15.0</td>\n",
       "      <td>1</td>\n",
       "      <td>0.209227</td>\n",
       "      <td>12605.0</td>\n",
       "      <td>négatif</td>\n",
       "    </tr>\n",
       "    <tr>\n",
       "      <th>4</th>\n",
       "      <td>P132700</td>\n",
       "      <td>MSK</td>\n",
       "      <td>6.0</td>\n",
       "      <td>128.00</td>\n",
       "      <td>9.70</td>\n",
       "      <td>0.90</td>\n",
       "      <td>11.1</td>\n",
       "      <td>195.0</td>\n",
       "      <td>46.0</td>\n",
       "      <td>HOMME</td>\n",
       "      <td>10.0</td>\n",
       "      <td>1</td>\n",
       "      <td>0.472100</td>\n",
       "      <td>713.0</td>\n",
       "      <td>négatif</td>\n",
       "    </tr>\n",
       "    <tr>\n",
       "      <th>...</th>\n",
       "      <td>...</td>\n",
       "      <td>...</td>\n",
       "      <td>...</td>\n",
       "      <td>...</td>\n",
       "      <td>...</td>\n",
       "      <td>...</td>\n",
       "      <td>...</td>\n",
       "      <td>...</td>\n",
       "      <td>...</td>\n",
       "      <td>...</td>\n",
       "      <td>...</td>\n",
       "      <td>...</td>\n",
       "      <td>...</td>\n",
       "      <td>...</td>\n",
       "      <td>...</td>\n",
       "    </tr>\n",
       "    <tr>\n",
       "      <th>3021</th>\n",
       "      <td>P121828</td>\n",
       "      <td>VU</td>\n",
       "      <td>1.0</td>\n",
       "      <td>3.70</td>\n",
       "      <td>2.53</td>\n",
       "      <td>0.53</td>\n",
       "      <td>8.9</td>\n",
       "      <td>499.0</td>\n",
       "      <td>46.0</td>\n",
       "      <td>FEMME</td>\n",
       "      <td>20.0</td>\n",
       "      <td>0</td>\n",
       "      <td>0.397000</td>\n",
       "      <td>1395.0</td>\n",
       "      <td>négatif</td>\n",
       "    </tr>\n",
       "    <tr>\n",
       "      <th>3022</th>\n",
       "      <td>P121829</td>\n",
       "      <td>VU</td>\n",
       "      <td>0.0</td>\n",
       "      <td>4.20</td>\n",
       "      <td>2.40</td>\n",
       "      <td>0.22</td>\n",
       "      <td>10.6</td>\n",
       "      <td>49.0</td>\n",
       "      <td>46.0</td>\n",
       "      <td>FEMME</td>\n",
       "      <td>1.0</td>\n",
       "      <td>1</td>\n",
       "      <td>0.042000</td>\n",
       "      <td>743.0</td>\n",
       "      <td>neutre</td>\n",
       "    </tr>\n",
       "    <tr>\n",
       "      <th>3023</th>\n",
       "      <td>P121830</td>\n",
       "      <td>VU</td>\n",
       "      <td>0.0</td>\n",
       "      <td>1.80</td>\n",
       "      <td>0.55</td>\n",
       "      <td>0.29</td>\n",
       "      <td>9.4</td>\n",
       "      <td>86.0</td>\n",
       "      <td>46.0</td>\n",
       "      <td>FEMME</td>\n",
       "      <td>4.0</td>\n",
       "      <td>1</td>\n",
       "      <td>0.244650</td>\n",
       "      <td>4613.0</td>\n",
       "      <td>négatif</td>\n",
       "    </tr>\n",
       "    <tr>\n",
       "      <th>3024</th>\n",
       "      <td>P121853</td>\n",
       "      <td>VU</td>\n",
       "      <td>5.0</td>\n",
       "      <td>1.37</td>\n",
       "      <td>0.37</td>\n",
       "      <td>0.11</td>\n",
       "      <td>11.4</td>\n",
       "      <td>102.0</td>\n",
       "      <td>46.0</td>\n",
       "      <td>HOMME</td>\n",
       "      <td>5.0</td>\n",
       "      <td>1</td>\n",
       "      <td>0.184250</td>\n",
       "      <td>5546.0</td>\n",
       "      <td>neutre</td>\n",
       "    </tr>\n",
       "    <tr>\n",
       "      <th>3025</th>\n",
       "      <td>P121834</td>\n",
       "      <td>VU</td>\n",
       "      <td>0.0</td>\n",
       "      <td>2.70</td>\n",
       "      <td>0.72</td>\n",
       "      <td>0.23</td>\n",
       "      <td>8.2</td>\n",
       "      <td>239.0</td>\n",
       "      <td>46.0</td>\n",
       "      <td>FEMME</td>\n",
       "      <td>20.0</td>\n",
       "      <td>0</td>\n",
       "      <td>0.275220</td>\n",
       "      <td>6034.0</td>\n",
       "      <td>négatif</td>\n",
       "    </tr>\n",
       "  </tbody>\n",
       "</table>\n",
       "<p>3026 rows × 15 columns</p>\n",
       "</div>"
      ],
      "text/plain": [
       "           ID CENTER  BM_BLAST     WBC   ANC  MONOCYTES    HB    PLT  \\\n",
       "0     P132697    MSK      14.0    2.80  0.20       0.70   7.6  119.0   \n",
       "1     P132698    MSK       1.0    7.40  2.40       0.10  11.6   42.0   \n",
       "2     P116889    MSK      15.0    3.70  2.10       0.10  14.2   81.0   \n",
       "3     P132699    MSK       1.0    3.90  1.90       0.10   8.9   77.0   \n",
       "4     P132700    MSK       6.0  128.00  9.70       0.90  11.1  195.0   \n",
       "...       ...    ...       ...     ...   ...        ...   ...    ...   \n",
       "3021  P121828     VU       1.0    3.70  2.53       0.53   8.9  499.0   \n",
       "3022  P121829     VU       0.0    4.20  2.40       0.22  10.6   49.0   \n",
       "3023  P121830     VU       0.0    1.80  0.55       0.29   9.4   86.0   \n",
       "3024  P121853     VU       5.0    1.37  0.37       0.11  11.4  102.0   \n",
       "3025  P121834     VU       0.0    2.70  0.72       0.23   8.2  239.0   \n",
       "\n",
       "      Nombre_Chromosomes    SEX  Nb_Echantillons  Anomalies       VAF  \\\n",
       "0                   46.0  FEMME              2.0          1  0.251578   \n",
       "1                   46.0  HOMME              NaN          0  0.272867   \n",
       "2                   46.0  FEMME              8.0          1  0.039333   \n",
       "3                   46.0  FEMME             15.0          1  0.209227   \n",
       "4                   46.0  HOMME             10.0          1  0.472100   \n",
       "...                  ...    ...              ...        ...       ...   \n",
       "3021                46.0  FEMME             20.0          0  0.397000   \n",
       "3022                46.0  FEMME              1.0          1  0.042000   \n",
       "3023                46.0  FEMME              4.0          1  0.244650   \n",
       "3024                46.0  HOMME              5.0          1  0.184250   \n",
       "3025                46.0  FEMME             20.0          0  0.275220   \n",
       "\n",
       "        DEPTH   EFFECT  \n",
       "0     15374.0  négatif  \n",
       "1      4204.0  négatif  \n",
       "2      5309.0  négatif  \n",
       "3     12605.0  négatif  \n",
       "4       713.0  négatif  \n",
       "...       ...      ...  \n",
       "3021   1395.0  négatif  \n",
       "3022    743.0   neutre  \n",
       "3023   4613.0  négatif  \n",
       "3024   5546.0   neutre  \n",
       "3025   6034.0  négatif  \n",
       "\n",
       "[3026 rows x 15 columns]"
      ]
     },
     "execution_count": 24,
     "metadata": {},
     "output_type": "execute_result"
    }
   ],
   "source": [
    "data_train['EFFECT'] = data_train['EFFECT'].apply(lambda x: \"négatif\" if x < 0 else \"neutre\")\n",
    "data_train"
   ]
  },
  {
   "cell_type": "markdown",
   "metadata": {},
   "source": [
    "# Application des même transformations dans le dataset test : \n",
    "\n",
    "Afin de pouvoir effectuer un backtest du modèle, nous avons besoin que les données de jeux de test soient traiter de la même manière. Nous répétons donc les mêmes procédures ci dessous :"
   ]
  },
  {
   "cell_type": "code",
   "execution_count": 25,
   "metadata": {},
   "outputs": [
    {
     "name": "stdout",
     "output_type": "stream",
     "text": [
      "Analyse des valeurs manquantes :\n",
      "ID                 0\n",
      "CHR               69\n",
      "START             69\n",
      "END               69\n",
      "REF               69\n",
      "ALT               69\n",
      "GENE               0\n",
      "PROTEIN_CHANGE    46\n",
      "EFFECT            90\n",
      "VAF                0\n",
      "DEPTH             69\n",
      "dtype: int64\n",
      "ID                0\n",
      "CENTER            0\n",
      "BM_BLAST        115\n",
      "WBC             112\n",
      "ANC             141\n",
      "MONOCYTES       883\n",
      "HB              111\n",
      "PLT             115\n",
      "CYTOGENETICS    116\n",
      "dtype: int64\n"
     ]
    }
   ],
   "source": [
    "print(\"Analyse des valeurs manquantes :\")\n",
    "print(Xtest_mol.isna().sum())\n",
    "print(Xtest_clin.isna().sum())"
   ]
  },
  {
   "cell_type": "code",
   "execution_count": 26,
   "metadata": {},
   "outputs": [],
   "source": [
    "Xtest_mol[\"ID\"].value_counts()\n",
    "Xtest_mol[\"EFFECT\"] = Xtest_mol[\"EFFECT\"].astype(str)"
   ]
  },
  {
   "cell_type": "markdown",
   "metadata": {},
   "source": [
    "### Traitement de la colonne EFFECT (data_test) : "
   ]
  },
  {
   "cell_type": "code",
   "execution_count": 33,
   "metadata": {},
   "outputs": [
    {
     "name": "stdout",
     "output_type": "stream",
     "text": [
      "           ID  EFFECT\n",
      "0      KYW961     0.0\n",
      "1      KYW142     0.0\n",
      "2      KYW453     0.0\n",
      "3      KYW982     0.0\n",
      "4      KYW845    -1.0\n",
      "...       ...     ...\n",
      "3084  KYW1077     0.0\n",
      "3085  KYW1084     0.0\n",
      "3086  KYW1082     0.0\n",
      "3087  KYW1085     0.0\n",
      "3088  KYW1095     0.0\n",
      "\n",
      "[3089 rows x 2 columns]\n"
     ]
    }
   ],
   "source": [
    "# Appliquer la fonction à la colonne 'EFFECT' de votre DataFrame\n",
    "Xtest_mol['EFFECT'] = Xtest_mol['EFFECT'].apply(categorize_effect)\n",
    "\n",
    "# Afficher le résultat\n",
    "print(Xtest_mol[[\"ID\",'EFFECT']])"
   ]
  },
  {
   "cell_type": "markdown",
   "metadata": {},
   "source": [
    "### Traitement de la colonne \"CYTOGENETICS\" (data_test)"
   ]
  },
  {
   "cell_type": "code",
   "execution_count": 39,
   "metadata": {},
   "outputs": [
    {
     "name": "stdout",
     "output_type": "stream",
     "text": [
      "SEX\n",
      "FEMME    554\n",
      "AUTRE    417\n",
      "HOMME    222\n",
      "Name: count, dtype: int64\n"
     ]
    }
   ],
   "source": [
    "# Appliquer la fonction au DataFrame (assurez-vous que 'train_set_clin' contient une colonne 'CYTOGENETICS')\n",
    "Xtest_clin[[\"Nombre_Chromosomes\", \"SEX\", \"Nb_Echantillons\", \"Anomalies\"]] = Xtest_clin[\"CYTOGENETICS\"].apply(parse_cytogenetics)\n",
    "# Xtrain_clin[\"SEX\"] = Xtrain_clin[\"CYTOGENETICS\"].apply(extract_sex)\n",
    "print(Xtest_clin[\"SEX\"].value_counts())\n"
   ]
  },
  {
   "cell_type": "markdown",
   "metadata": {},
   "source": [
    "### Transformation du jeu de donnée Molecular (data_test)"
   ]
  },
  {
   "cell_type": "code",
   "execution_count": 34,
   "metadata": {},
   "outputs": [],
   "source": [
    "aggregated_data = Xtest_mol.groupby('ID').agg({\n",
    "    'VAF': 'mean',  # Moyenne des fréquences d'allèles variant\n",
    "    'DEPTH': 'sum',\n",
    "    'EFFECT': 'sum' # Somme des profondeurs de séquençage \n",
    "}).reset_index()"
   ]
  },
  {
   "cell_type": "markdown",
   "metadata": {},
   "source": [
    "### Merge (inner join) (data_test)"
   ]
  },
  {
   "cell_type": "code",
   "execution_count": 35,
   "metadata": {},
   "outputs": [],
   "source": [
    "#Merge la data VERIFIER NB ROWS PAR DATAFRAME\n",
    "data_test = Xtest_clin.merge(aggregated_data, on='ID', how = \"inner\")\n",
    "#X_test = Xtest_clin.merge(aggregated_data, on='ID', how='outer')\n",
    "data_test[[\"HB\", \"PLT\", \"BM_BLAST\"]]  = data_test[[\"HB\", \"PLT\", \"BM_BLAST\"]].astype(float)"
   ]
  },
  {
   "cell_type": "code",
   "execution_count": 40,
   "metadata": {},
   "outputs": [],
   "source": [
    "data_test.drop(columns=[\"CYTOGENETICS\"], inplace=True) # suppression de la colonne CYTOGENETICS"
   ]
  },
  {
   "cell_type": "code",
   "execution_count": 36,
   "metadata": {},
   "outputs": [],
   "source": [
    "data_test['EFFECT'] = data_test['EFFECT'].apply(lambda x: \"négatif\" if x < 0 else \"neutre\")\n"
   ]
  },
  {
   "cell_type": "code",
   "execution_count": 41,
   "metadata": {},
   "outputs": [
    {
     "data": {
      "text/html": [
       "<div>\n",
       "<style scoped>\n",
       "    .dataframe tbody tr th:only-of-type {\n",
       "        vertical-align: middle;\n",
       "    }\n",
       "\n",
       "    .dataframe tbody tr th {\n",
       "        vertical-align: top;\n",
       "    }\n",
       "\n",
       "    .dataframe thead th {\n",
       "        text-align: right;\n",
       "    }\n",
       "</style>\n",
       "<table border=\"1\" class=\"dataframe\">\n",
       "  <thead>\n",
       "    <tr style=\"text-align: right;\">\n",
       "      <th></th>\n",
       "      <th>ID</th>\n",
       "      <th>CENTER</th>\n",
       "      <th>BM_BLAST</th>\n",
       "      <th>WBC</th>\n",
       "      <th>ANC</th>\n",
       "      <th>MONOCYTES</th>\n",
       "      <th>HB</th>\n",
       "      <th>PLT</th>\n",
       "      <th>Nombre_Chromosomes</th>\n",
       "      <th>SEX</th>\n",
       "      <th>Nb_Echantillons</th>\n",
       "      <th>Anomalies</th>\n",
       "      <th>VAF</th>\n",
       "      <th>DEPTH</th>\n",
       "      <th>EFFECT</th>\n",
       "    </tr>\n",
       "  </thead>\n",
       "  <tbody>\n",
       "    <tr>\n",
       "      <th>0</th>\n",
       "      <td>KYW1</td>\n",
       "      <td>KYW</td>\n",
       "      <td>68.0</td>\n",
       "      <td>3.45</td>\n",
       "      <td>0.5865</td>\n",
       "      <td>NaN</td>\n",
       "      <td>7.6</td>\n",
       "      <td>48.0</td>\n",
       "      <td>47.0</td>\n",
       "      <td>FEMME</td>\n",
       "      <td>15.0</td>\n",
       "      <td>1</td>\n",
       "      <td>0.246225</td>\n",
       "      <td>1642.0</td>\n",
       "      <td>négatif</td>\n",
       "    </tr>\n",
       "    <tr>\n",
       "      <th>1</th>\n",
       "      <td>KYW2</td>\n",
       "      <td>KYW</td>\n",
       "      <td>35.0</td>\n",
       "      <td>3.18</td>\n",
       "      <td>1.2402</td>\n",
       "      <td>NaN</td>\n",
       "      <td>10.0</td>\n",
       "      <td>32.0</td>\n",
       "      <td>46.0</td>\n",
       "      <td>FEMME</td>\n",
       "      <td>20.0</td>\n",
       "      <td>1</td>\n",
       "      <td>0.281000</td>\n",
       "      <td>2099.0</td>\n",
       "      <td>négatif</td>\n",
       "    </tr>\n",
       "    <tr>\n",
       "      <th>2</th>\n",
       "      <td>KYW3</td>\n",
       "      <td>KYW</td>\n",
       "      <td>NaN</td>\n",
       "      <td>12.40</td>\n",
       "      <td>8.6800</td>\n",
       "      <td>NaN</td>\n",
       "      <td>12.3</td>\n",
       "      <td>25.0</td>\n",
       "      <td>47.0</td>\n",
       "      <td>HOMME</td>\n",
       "      <td>NaN</td>\n",
       "      <td>1</td>\n",
       "      <td>0.162667</td>\n",
       "      <td>3383.0</td>\n",
       "      <td>négatif</td>\n",
       "    </tr>\n",
       "    <tr>\n",
       "      <th>3</th>\n",
       "      <td>KYW4</td>\n",
       "      <td>KYW</td>\n",
       "      <td>61.0</td>\n",
       "      <td>5.55</td>\n",
       "      <td>2.0535</td>\n",
       "      <td>NaN</td>\n",
       "      <td>8.0</td>\n",
       "      <td>44.0</td>\n",
       "      <td>NaN</td>\n",
       "      <td>AUTRE</td>\n",
       "      <td>NaN</td>\n",
       "      <td>1</td>\n",
       "      <td>0.351367</td>\n",
       "      <td>2486.0</td>\n",
       "      <td>négatif</td>\n",
       "    </tr>\n",
       "    <tr>\n",
       "      <th>4</th>\n",
       "      <td>KYW5</td>\n",
       "      <td>KYW</td>\n",
       "      <td>2.0</td>\n",
       "      <td>1.21</td>\n",
       "      <td>0.7381</td>\n",
       "      <td>NaN</td>\n",
       "      <td>8.6</td>\n",
       "      <td>27.0</td>\n",
       "      <td>43.0</td>\n",
       "      <td>FEMME</td>\n",
       "      <td>12.0</td>\n",
       "      <td>1</td>\n",
       "      <td>0.263667</td>\n",
       "      <td>2447.0</td>\n",
       "      <td>négatif</td>\n",
       "    </tr>\n",
       "    <tr>\n",
       "      <th>...</th>\n",
       "      <td>...</td>\n",
       "      <td>...</td>\n",
       "      <td>...</td>\n",
       "      <td>...</td>\n",
       "      <td>...</td>\n",
       "      <td>...</td>\n",
       "      <td>...</td>\n",
       "      <td>...</td>\n",
       "      <td>...</td>\n",
       "      <td>...</td>\n",
       "      <td>...</td>\n",
       "      <td>...</td>\n",
       "      <td>...</td>\n",
       "      <td>...</td>\n",
       "      <td>...</td>\n",
       "    </tr>\n",
       "    <tr>\n",
       "      <th>1049</th>\n",
       "      <td>KYW1189</td>\n",
       "      <td>KYW</td>\n",
       "      <td>NaN</td>\n",
       "      <td>NaN</td>\n",
       "      <td>NaN</td>\n",
       "      <td>NaN</td>\n",
       "      <td>NaN</td>\n",
       "      <td>NaN</td>\n",
       "      <td>NaN</td>\n",
       "      <td>AUTRE</td>\n",
       "      <td>NaN</td>\n",
       "      <td>1</td>\n",
       "      <td>0.445500</td>\n",
       "      <td>1305.0</td>\n",
       "      <td>neutre</td>\n",
       "    </tr>\n",
       "    <tr>\n",
       "      <th>1050</th>\n",
       "      <td>KYW1190</td>\n",
       "      <td>KYW</td>\n",
       "      <td>NaN</td>\n",
       "      <td>NaN</td>\n",
       "      <td>NaN</td>\n",
       "      <td>NaN</td>\n",
       "      <td>NaN</td>\n",
       "      <td>NaN</td>\n",
       "      <td>NaN</td>\n",
       "      <td>AUTRE</td>\n",
       "      <td>NaN</td>\n",
       "      <td>1</td>\n",
       "      <td>0.438667</td>\n",
       "      <td>655.0</td>\n",
       "      <td>négatif</td>\n",
       "    </tr>\n",
       "    <tr>\n",
       "      <th>1051</th>\n",
       "      <td>KYW1191</td>\n",
       "      <td>KYW</td>\n",
       "      <td>NaN</td>\n",
       "      <td>NaN</td>\n",
       "      <td>NaN</td>\n",
       "      <td>NaN</td>\n",
       "      <td>NaN</td>\n",
       "      <td>NaN</td>\n",
       "      <td>NaN</td>\n",
       "      <td>AUTRE</td>\n",
       "      <td>NaN</td>\n",
       "      <td>1</td>\n",
       "      <td>0.122000</td>\n",
       "      <td>937.0</td>\n",
       "      <td>neutre</td>\n",
       "    </tr>\n",
       "    <tr>\n",
       "      <th>1052</th>\n",
       "      <td>KYW1192</td>\n",
       "      <td>KYW</td>\n",
       "      <td>NaN</td>\n",
       "      <td>NaN</td>\n",
       "      <td>NaN</td>\n",
       "      <td>NaN</td>\n",
       "      <td>NaN</td>\n",
       "      <td>NaN</td>\n",
       "      <td>NaN</td>\n",
       "      <td>AUTRE</td>\n",
       "      <td>NaN</td>\n",
       "      <td>1</td>\n",
       "      <td>0.305667</td>\n",
       "      <td>1522.0</td>\n",
       "      <td>négatif</td>\n",
       "    </tr>\n",
       "    <tr>\n",
       "      <th>1053</th>\n",
       "      <td>KYW1193</td>\n",
       "      <td>KYW</td>\n",
       "      <td>NaN</td>\n",
       "      <td>NaN</td>\n",
       "      <td>NaN</td>\n",
       "      <td>NaN</td>\n",
       "      <td>NaN</td>\n",
       "      <td>NaN</td>\n",
       "      <td>NaN</td>\n",
       "      <td>AUTRE</td>\n",
       "      <td>NaN</td>\n",
       "      <td>1</td>\n",
       "      <td>0.566500</td>\n",
       "      <td>700.0</td>\n",
       "      <td>neutre</td>\n",
       "    </tr>\n",
       "  </tbody>\n",
       "</table>\n",
       "<p>1054 rows × 15 columns</p>\n",
       "</div>"
      ],
      "text/plain": [
       "           ID CENTER  BM_BLAST    WBC     ANC  MONOCYTES    HB   PLT  \\\n",
       "0        KYW1    KYW      68.0   3.45  0.5865        NaN   7.6  48.0   \n",
       "1        KYW2    KYW      35.0   3.18  1.2402        NaN  10.0  32.0   \n",
       "2        KYW3    KYW       NaN  12.40  8.6800        NaN  12.3  25.0   \n",
       "3        KYW4    KYW      61.0   5.55  2.0535        NaN   8.0  44.0   \n",
       "4        KYW5    KYW       2.0   1.21  0.7381        NaN   8.6  27.0   \n",
       "...       ...    ...       ...    ...     ...        ...   ...   ...   \n",
       "1049  KYW1189    KYW       NaN    NaN     NaN        NaN   NaN   NaN   \n",
       "1050  KYW1190    KYW       NaN    NaN     NaN        NaN   NaN   NaN   \n",
       "1051  KYW1191    KYW       NaN    NaN     NaN        NaN   NaN   NaN   \n",
       "1052  KYW1192    KYW       NaN    NaN     NaN        NaN   NaN   NaN   \n",
       "1053  KYW1193    KYW       NaN    NaN     NaN        NaN   NaN   NaN   \n",
       "\n",
       "      Nombre_Chromosomes    SEX  Nb_Echantillons  Anomalies       VAF   DEPTH  \\\n",
       "0                   47.0  FEMME             15.0          1  0.246225  1642.0   \n",
       "1                   46.0  FEMME             20.0          1  0.281000  2099.0   \n",
       "2                   47.0  HOMME              NaN          1  0.162667  3383.0   \n",
       "3                    NaN  AUTRE              NaN          1  0.351367  2486.0   \n",
       "4                   43.0  FEMME             12.0          1  0.263667  2447.0   \n",
       "...                  ...    ...              ...        ...       ...     ...   \n",
       "1049                 NaN  AUTRE              NaN          1  0.445500  1305.0   \n",
       "1050                 NaN  AUTRE              NaN          1  0.438667   655.0   \n",
       "1051                 NaN  AUTRE              NaN          1  0.122000   937.0   \n",
       "1052                 NaN  AUTRE              NaN          1  0.305667  1522.0   \n",
       "1053                 NaN  AUTRE              NaN          1  0.566500   700.0   \n",
       "\n",
       "       EFFECT  \n",
       "0     négatif  \n",
       "1     négatif  \n",
       "2     négatif  \n",
       "3     négatif  \n",
       "4     négatif  \n",
       "...       ...  \n",
       "1049   neutre  \n",
       "1050  négatif  \n",
       "1051   neutre  \n",
       "1052  négatif  \n",
       "1053   neutre  \n",
       "\n",
       "[1054 rows x 15 columns]"
      ]
     },
     "execution_count": 41,
     "metadata": {},
     "output_type": "execute_result"
    }
   ],
   "source": [
    "data_test"
   ]
  },
  {
   "cell_type": "markdown",
   "metadata": {},
   "source": [
    "# Selection des features"
   ]
  },
  {
   "cell_type": "code",
   "execution_count": 275,
   "metadata": {},
   "outputs": [],
   "source": [
    "# Create the survival data format\n",
    "#X = data_train.loc[data_train['ID'].isin(Y_train['ID']), features]\n",
    "#y = Surv.from_dataframe('OS_STATUS', 'OS_YEARS', Y_train)"
   ]
  },
  {
   "cell_type": "code",
   "execution_count": 276,
   "metadata": {},
   "outputs": [],
   "source": [
    "#Fonction pour préparation de données\n",
    "def clean_data(data, columns):\n",
    "    data_cleaned = data.dropna(subset = columns)\n",
    "    return data_cleaned"
   ]
  },
  {
   "cell_type": "markdown",
   "metadata": {},
   "source": []
  },
  {
   "cell_type": "code",
   "execution_count": 277,
   "metadata": {},
   "outputs": [],
   "source": [
    "target_data = Y_train.dropna()\n",
    "target_data['OS_YEARS'] = pd.to_numeric(target_data['OS_YEARS'], errors='coerce')\n",
    "target_data['OS_STATUS'] = target_data['OS_STATUS'].astype(bool).astype(int)\n",
    "target_data = target_data.dropna()"
   ]
  },
  {
   "cell_type": "code",
   "execution_count": 278,
   "metadata": {},
   "outputs": [],
   "source": [
    "data_train = data_train[data_train[\"ID\"].isin(target_data[\"ID\"])]"
   ]
  },
  {
   "cell_type": "code",
   "execution_count": 279,
   "metadata": {},
   "outputs": [],
   "source": [
    "#il faut regrouper en personnes ayant vécu 0 à 2 ans de 2ans à 4 ...\n",
    "En_vie = target_data[target_data[\"OS_STATUS\"]==1.0]\n",
    "Mort = target_data[target_data[\"OS_STATUS\"]==0.0]\n",
    "\n",
    "En_vie = En_vie.drop(columns = [\"OS_STATUS\"])\n",
    "Mort = Mort.drop(columns = [\"OS_STATUS\"])\n",
    "\n",
    "#ICI ON PEUT PRESENTER COMME SUIT \n"
   ]
  },
  {
   "cell_type": "code",
   "execution_count": 280,
   "metadata": {},
   "outputs": [
    {
     "data": {
      "image/png": "[encoded data removed]",
      "text/plain": [
       "<Figure size 1000x500 with 1 Axes>"
      ]
     },
     "metadata": {},
     "output_type": "display_data"
    },
    {
     "data": {
      "image/png": "[encoded data removed]",
      "text/plain": [
       "<Figure size 1000x500 with 1 Axes>"
      ]
     },
     "metadata": {},
     "output_type": "display_data"
    }
   ],
   "source": [
    "def Histogramme_function(data, title):\n",
    "    plt.figure(figsize=(10, 5))\n",
    "    sns.histplot(data, kde=True)\n",
    "    plt.title(title)\n",
    "    plt.show()\n",
    "\n",
    "Histogramme_function(En_vie[\"OS_YEARS\"], \"Histogramme des personnes en vie\")\n",
    "Histogramme_function(Mort[\"OS_YEARS\"], \"Histogramme des personnes mortes\")"
   ]
  },
  {
   "cell_type": "code",
   "execution_count": 281,
   "metadata": {},
   "outputs": [
    {
     "data": {
      "image/png": "[encoded data removed]",
      "text/plain": [
       "<Figure size 1000x500 with 1 Axes>"
      ]
     },
     "metadata": {},
     "output_type": "display_data"
    },
    {
     "data": {
      "image/png": "[encoded data removed]",
      "text/plain": [
       "<Figure size 1000x500 with 1 Axes>"
      ]
     },
     "metadata": {},
     "output_type": "display_data"
    },
    {
     "data": {
      "image/png": "[encoded data removed]",
      "text/plain": [
       "<Figure size 1000x500 with 1 Axes>"
      ]
     },
     "metadata": {},
     "output_type": "display_data"
    }
   ],
   "source": [
    "Histogramme_function(data_train[\"HB\"], \"Histogramme de l'hémoglobine\") \n",
    "Histogramme_function(data_train[\"PLT\"], \"Histogramme des plaquettes\")\n",
    "Histogramme_function(data_train[\"BM_BLAST\"], \"Histogramme des blastes médullaires\")"
   ]
  },
  {
   "cell_type": "code",
   "execution_count": 282,
   "metadata": {},
   "outputs": [
    {
     "data": {
      "image/png": "[encoded data removed]",
      "text/plain": [
       "<Figure size 800x600 with 2 Axes>"
      ]
     },
     "metadata": {},
     "output_type": "display_data"
    }
   ],
   "source": [
    "# Calculando la matriz de correlación\n",
    "correlation_matrix = data_train[['HB', 'PLT', 'BM_BLAST','WBC','ANC','MONOCYTES','Nombre_Chromosomes',\t'Nb_Echantillons',\t'Anomalies',\t'VAF',\t'DEPTH']].corr()\n",
    "\n",
    "# Creando el mapa de calor\n",
    "plt.figure(figsize=(8, 6))\n",
    "sns.heatmap(correlation_matrix, annot=True, fmt=\".2f\", cmap='coolwarm')\n",
    "plt.title('Mapa de Calor de Correlación entre Variables')\n",
    "plt.show()\n"
   ]
  },
  {
   "cell_type": "markdown",
   "metadata": {},
   "source": [
    "- La variable ANC est très corrélé au variables ANC et Monocytes. On propose donc de conserver la variables WBC pour représenter ces trois variables. \n",
    "- On conserve également la variable HB, qui n'est que très faiblement corrélé aux autres varaibles\n",
    "- Les variables PLT et BM_BLAST présentent également une corrélation élevé. On décide de conserver PLT, car cette variable indique un état de sans négatif pour une plus grande partie de l'échantillon que BM_BLAST\n",
    "- Nous proposons enfin de conserver nombre de chromosomme, car c'est la variable qui représente le mieux les variables Anomalie, DEPTH et EFFECT "
   ]
  },
  {
   "cell_type": "code",
   "execution_count": 283,
   "metadata": {},
   "outputs": [
    {
     "data": {
      "text/html": [
       "<div>\n",
       "<style scoped>\n",
       "    .dataframe tbody tr th:only-of-type {\n",
       "        vertical-align: middle;\n",
       "    }\n",
       "\n",
       "    .dataframe tbody tr th {\n",
       "        vertical-align: top;\n",
       "    }\n",
       "\n",
       "    .dataframe thead th {\n",
       "        text-align: right;\n",
       "    }\n",
       "</style>\n",
       "<table border=\"1\" class=\"dataframe\">\n",
       "  <thead>\n",
       "    <tr style=\"text-align: right;\">\n",
       "      <th></th>\n",
       "      <th>ID</th>\n",
       "      <th>CENTER</th>\n",
       "      <th>BM_BLAST</th>\n",
       "      <th>WBC</th>\n",
       "      <th>ANC</th>\n",
       "      <th>MONOCYTES</th>\n",
       "      <th>HB</th>\n",
       "      <th>PLT</th>\n",
       "      <th>Nombre_Chromosomes</th>\n",
       "      <th>SEX</th>\n",
       "      <th>Nb_Echantillons</th>\n",
       "      <th>Anomalies</th>\n",
       "      <th>VAF</th>\n",
       "      <th>DEPTH</th>\n",
       "      <th>EFFECT</th>\n",
       "    </tr>\n",
       "  </thead>\n",
       "  <tbody>\n",
       "    <tr>\n",
       "      <th>0</th>\n",
       "      <td>P132697</td>\n",
       "      <td>MSK</td>\n",
       "      <td>14.0</td>\n",
       "      <td>2.80</td>\n",
       "      <td>0.20</td>\n",
       "      <td>0.70</td>\n",
       "      <td>7.6</td>\n",
       "      <td>119.0</td>\n",
       "      <td>46.0</td>\n",
       "      <td>FEMME</td>\n",
       "      <td>2.0</td>\n",
       "      <td>1</td>\n",
       "      <td>0.251578</td>\n",
       "      <td>15374.0</td>\n",
       "      <td>négatif</td>\n",
       "    </tr>\n",
       "    <tr>\n",
       "      <th>1</th>\n",
       "      <td>P132698</td>\n",
       "      <td>MSK</td>\n",
       "      <td>1.0</td>\n",
       "      <td>7.40</td>\n",
       "      <td>2.40</td>\n",
       "      <td>0.10</td>\n",
       "      <td>11.6</td>\n",
       "      <td>42.0</td>\n",
       "      <td>46.0</td>\n",
       "      <td>HOMME</td>\n",
       "      <td>NaN</td>\n",
       "      <td>0</td>\n",
       "      <td>0.272867</td>\n",
       "      <td>4204.0</td>\n",
       "      <td>négatif</td>\n",
       "    </tr>\n",
       "    <tr>\n",
       "      <th>2</th>\n",
       "      <td>P116889</td>\n",
       "      <td>MSK</td>\n",
       "      <td>15.0</td>\n",
       "      <td>3.70</td>\n",
       "      <td>2.10</td>\n",
       "      <td>0.10</td>\n",
       "      <td>14.2</td>\n",
       "      <td>81.0</td>\n",
       "      <td>46.0</td>\n",
       "      <td>FEMME</td>\n",
       "      <td>8.0</td>\n",
       "      <td>1</td>\n",
       "      <td>0.039333</td>\n",
       "      <td>5309.0</td>\n",
       "      <td>négatif</td>\n",
       "    </tr>\n",
       "    <tr>\n",
       "      <th>3</th>\n",
       "      <td>P132699</td>\n",
       "      <td>MSK</td>\n",
       "      <td>1.0</td>\n",
       "      <td>3.90</td>\n",
       "      <td>1.90</td>\n",
       "      <td>0.10</td>\n",
       "      <td>8.9</td>\n",
       "      <td>77.0</td>\n",
       "      <td>46.0</td>\n",
       "      <td>FEMME</td>\n",
       "      <td>15.0</td>\n",
       "      <td>1</td>\n",
       "      <td>0.209227</td>\n",
       "      <td>12605.0</td>\n",
       "      <td>négatif</td>\n",
       "    </tr>\n",
       "    <tr>\n",
       "      <th>4</th>\n",
       "      <td>P132700</td>\n",
       "      <td>MSK</td>\n",
       "      <td>6.0</td>\n",
       "      <td>128.00</td>\n",
       "      <td>9.70</td>\n",
       "      <td>0.90</td>\n",
       "      <td>11.1</td>\n",
       "      <td>195.0</td>\n",
       "      <td>46.0</td>\n",
       "      <td>HOMME</td>\n",
       "      <td>10.0</td>\n",
       "      <td>1</td>\n",
       "      <td>0.472100</td>\n",
       "      <td>713.0</td>\n",
       "      <td>négatif</td>\n",
       "    </tr>\n",
       "    <tr>\n",
       "      <th>...</th>\n",
       "      <td>...</td>\n",
       "      <td>...</td>\n",
       "      <td>...</td>\n",
       "      <td>...</td>\n",
       "      <td>...</td>\n",
       "      <td>...</td>\n",
       "      <td>...</td>\n",
       "      <td>...</td>\n",
       "      <td>...</td>\n",
       "      <td>...</td>\n",
       "      <td>...</td>\n",
       "      <td>...</td>\n",
       "      <td>...</td>\n",
       "      <td>...</td>\n",
       "      <td>...</td>\n",
       "    </tr>\n",
       "    <tr>\n",
       "      <th>3019</th>\n",
       "      <td>P121826</td>\n",
       "      <td>VU</td>\n",
       "      <td>1.0</td>\n",
       "      <td>2.50</td>\n",
       "      <td>1.02</td>\n",
       "      <td>0.20</td>\n",
       "      <td>10.2</td>\n",
       "      <td>78.0</td>\n",
       "      <td>47.0</td>\n",
       "      <td>FEMME</td>\n",
       "      <td>10.0</td>\n",
       "      <td>1</td>\n",
       "      <td>0.169000</td>\n",
       "      <td>4588.0</td>\n",
       "      <td>neutre</td>\n",
       "    </tr>\n",
       "    <tr>\n",
       "      <th>3020</th>\n",
       "      <td>P121827</td>\n",
       "      <td>VU</td>\n",
       "      <td>1.5</td>\n",
       "      <td>8.10</td>\n",
       "      <td>2.66</td>\n",
       "      <td>0.45</td>\n",
       "      <td>11.3</td>\n",
       "      <td>40.0</td>\n",
       "      <td>44.0</td>\n",
       "      <td>HOMME</td>\n",
       "      <td>20.0</td>\n",
       "      <td>1</td>\n",
       "      <td>0.427500</td>\n",
       "      <td>1869.0</td>\n",
       "      <td>neutre</td>\n",
       "    </tr>\n",
       "    <tr>\n",
       "      <th>3023</th>\n",
       "      <td>P121830</td>\n",
       "      <td>VU</td>\n",
       "      <td>0.0</td>\n",
       "      <td>1.80</td>\n",
       "      <td>0.55</td>\n",
       "      <td>0.29</td>\n",
       "      <td>9.4</td>\n",
       "      <td>86.0</td>\n",
       "      <td>46.0</td>\n",
       "      <td>FEMME</td>\n",
       "      <td>4.0</td>\n",
       "      <td>1</td>\n",
       "      <td>0.244650</td>\n",
       "      <td>4613.0</td>\n",
       "      <td>négatif</td>\n",
       "    </tr>\n",
       "    <tr>\n",
       "      <th>3024</th>\n",
       "      <td>P121853</td>\n",
       "      <td>VU</td>\n",
       "      <td>5.0</td>\n",
       "      <td>1.37</td>\n",
       "      <td>0.37</td>\n",
       "      <td>0.11</td>\n",
       "      <td>11.4</td>\n",
       "      <td>102.0</td>\n",
       "      <td>46.0</td>\n",
       "      <td>HOMME</td>\n",
       "      <td>5.0</td>\n",
       "      <td>1</td>\n",
       "      <td>0.184250</td>\n",
       "      <td>5546.0</td>\n",
       "      <td>neutre</td>\n",
       "    </tr>\n",
       "    <tr>\n",
       "      <th>3025</th>\n",
       "      <td>P121834</td>\n",
       "      <td>VU</td>\n",
       "      <td>0.0</td>\n",
       "      <td>2.70</td>\n",
       "      <td>0.72</td>\n",
       "      <td>0.23</td>\n",
       "      <td>8.2</td>\n",
       "      <td>239.0</td>\n",
       "      <td>46.0</td>\n",
       "      <td>FEMME</td>\n",
       "      <td>20.0</td>\n",
       "      <td>0</td>\n",
       "      <td>0.275220</td>\n",
       "      <td>6034.0</td>\n",
       "      <td>négatif</td>\n",
       "    </tr>\n",
       "  </tbody>\n",
       "</table>\n",
       "<p>2910 rows × 15 columns</p>\n",
       "</div>"
      ],
      "text/plain": [
       "           ID CENTER  BM_BLAST     WBC   ANC  MONOCYTES    HB    PLT  \\\n",
       "0     P132697    MSK      14.0    2.80  0.20       0.70   7.6  119.0   \n",
       "1     P132698    MSK       1.0    7.40  2.40       0.10  11.6   42.0   \n",
       "2     P116889    MSK      15.0    3.70  2.10       0.10  14.2   81.0   \n",
       "3     P132699    MSK       1.0    3.90  1.90       0.10   8.9   77.0   \n",
       "4     P132700    MSK       6.0  128.00  9.70       0.90  11.1  195.0   \n",
       "...       ...    ...       ...     ...   ...        ...   ...    ...   \n",
       "3019  P121826     VU       1.0    2.50  1.02       0.20  10.2   78.0   \n",
       "3020  P121827     VU       1.5    8.10  2.66       0.45  11.3   40.0   \n",
       "3023  P121830     VU       0.0    1.80  0.55       0.29   9.4   86.0   \n",
       "3024  P121853     VU       5.0    1.37  0.37       0.11  11.4  102.0   \n",
       "3025  P121834     VU       0.0    2.70  0.72       0.23   8.2  239.0   \n",
       "\n",
       "      Nombre_Chromosomes    SEX  Nb_Echantillons  Anomalies       VAF  \\\n",
       "0                   46.0  FEMME              2.0          1  0.251578   \n",
       "1                   46.0  HOMME              NaN          0  0.272867   \n",
       "2                   46.0  FEMME              8.0          1  0.039333   \n",
       "3                   46.0  FEMME             15.0          1  0.209227   \n",
       "4                   46.0  HOMME             10.0          1  0.472100   \n",
       "...                  ...    ...              ...        ...       ...   \n",
       "3019                47.0  FEMME             10.0          1  0.169000   \n",
       "3020                44.0  HOMME             20.0          1  0.427500   \n",
       "3023                46.0  FEMME              4.0          1  0.244650   \n",
       "3024                46.0  HOMME              5.0          1  0.184250   \n",
       "3025                46.0  FEMME             20.0          0  0.275220   \n",
       "\n",
       "        DEPTH   EFFECT  \n",
       "0     15374.0  négatif  \n",
       "1      4204.0  négatif  \n",
       "2      5309.0  négatif  \n",
       "3     12605.0  négatif  \n",
       "4       713.0  négatif  \n",
       "...       ...      ...  \n",
       "3019   4588.0   neutre  \n",
       "3020   1869.0   neutre  \n",
       "3023   4613.0  négatif  \n",
       "3024   5546.0   neutre  \n",
       "3025   6034.0  négatif  \n",
       "\n",
       "[2910 rows x 15 columns]"
      ]
     },
     "execution_count": 283,
     "metadata": {},
     "output_type": "execute_result"
    }
   ],
   "source": [
    "data_train"
   ]
  },
  {
   "cell_type": "code",
   "execution_count": 284,
   "metadata": {},
   "outputs": [],
   "source": [
    "numeric_cols = data_train.select_dtypes(include=[np.number]).columns\n",
    "\n",
    "imputer = SimpleImputer(strategy=\"median\")\n",
    "data_train[numeric_cols] = imputer.fit_transform(data_train[numeric_cols])\n"
   ]
  },
  {
   "cell_type": "code",
   "execution_count": 285,
   "metadata": {},
   "outputs": [],
   "source": [
    "categorical_cols = data_train.select_dtypes(include=[\"object\"]).columns\n",
    "\n",
    "imputer_cat = SimpleImputer(strategy=\"most_frequent\")\n",
    "\n",
    "\n",
    "data_train[categorical_cols] = imputer_cat.fit_transform(data_train[categorical_cols])\n"
   ]
  },
  {
   "cell_type": "markdown",
   "metadata": {},
   "source": [
    "Arbre pour selectionner les meilleurs features"
   ]
  },
  {
   "cell_type": "code",
   "execution_count": 286,
   "metadata": {},
   "outputs": [],
   "source": [
    "missing_ratio = data_train.isna().mean() \n",
    "cols_to_drop = missing_ratio[missing_ratio > 0.5].index.tolist()\n",
    "data_train = data_train.drop(columns = cols_to_drop)\n"
   ]
  },
  {
   "cell_type": "markdown",
   "metadata": {},
   "source": [
    "Variables non utile pour le modèle :\n",
    "\n",
    "-  CHR, START, END : La position seule n’indique pas l’impact biologique de la mutation. Ce qui est vraiment utile, c’est le gène affecté et l’effet de la mutation (déjà fourni par les variables GENE et EFFECT).\n",
    "Ce sont des variables très spécifiques qui risquent d’être trop granulaires pour un modèle de ML (car des milliers de positions peuvent exister). On pourrait toutefois les regrouper en secteurs.\n",
    "\n",
    "- CENTER : Le centre médical n'est pas pertinente pour répondre à la problématique : évaluer le risque de décès pour les patients diagnostiqués avec un cancer du sang.\n",
    "On peut toutefois vérifier s'il existe une différence significatives concernant les compétences/qualités des cliniques, qui impacteraient le risque de décès."
   ]
  },
  {
   "cell_type": "markdown",
   "metadata": {},
   "source": [
    "Variables utiles  :\n",
    "Ces variables donnent des informations sur l’état physiologique du patient et peuvent être de bons indicateurs du risque de décès.\n",
    "\n",
    "* BM_BLAST : Indicateur clé de la proportion de cellules sanguines anormales dans la moelle osseuse. Un taux élevé est souvent associé à une maladie plus agressive et un pronostic plus défavorable.\n",
    "\n",
    "* WBC (Globules blancs) : Peut refléter la gravité de la maladie ; une élévation anormale peut être associée à un risque accru de complications.\n",
    "\n",
    "* ANC (Neutrophiles absolus) : Essentiel pour évaluer l'état du système immunitaire et les risques d’infections opportunistes.\n",
    "\n",
    "* MONOCYTES : Un taux élevé de monocytes peut être associé à une inflammation chronique et à une progression plus rapide de la maladie.\n",
    "\n",
    "* HB (Hémoglobine) : Un faible taux d’hémoglobine est un marqueur d’anémie, souvent observé dans les cancers du sang avancés.\n",
    "\n",
    "* PLT (Plaquettes) : Une thrombocytopénie (faible nombre de plaquettes) peut être associée à un mauvais pronostic, car elle peut entraîner des complications hémorragiques.\n",
    "\n",
    "* CYTOGENETICS : Les anomalies chromosomiques sont souvent des indicateurs de l’agressivité du cancer. Par exemple, la monosomie 7 est un marqueur de haut risque."
   ]
  },
  {
   "cell_type": "markdown",
   "metadata": {},
   "source": [
    "On vérifie la granularité des colonnes (confirmer la supression des colonnes de positions de la mutations):\n",
    "- START à 4645 valeurs distinctes\n",
    "- END a 4664 vlaures disctinctes\n",
    "- CHR possède 23 données.\n",
    "\n",
    "On remarque également qu'il n'y a que 3'026 ID distincts pour plus de 10'000 lignes dans le dateset molecular_train, ce qui signifie que certains patient ont plusieurs mutations génétiques.\n",
    "\n",
    "Il peut donc être pertinent de synthétiser les informations de ce dataset pour ne posséder qu'une ligne par ID. En effet, il ne faut pas faire une analyse par mutation mais une analyse par patient.\n",
    "\n",
    "On peut créer une variable qui stock le nombre total de mutations par patients, cela pourrait améliorer la mesure de risque. \n",
    "\n"
   ]
  },
  {
   "cell_type": "markdown",
   "metadata": {},
   "source": [
    "CYTOGENETICS : Les anomalies chromosomiques sont souvent des indicateurs de l’agressivité du cancer. Par exemple, la monosomie 7 est un marqueur de haut risque.\n",
    "\n",
    "Or il y'a plus de 1194 données différents pour 2936 valeurs, (3223-2936 == NA)."
   ]
  },
  {
   "cell_type": "code",
   "execution_count": 287,
   "metadata": {},
   "outputs": [],
   "source": [
    "#Xtrain_clin[\"ID\"].value_counts()\n",
    "#Xtrain_mol[\"ID\"].value_counts() #il n'y a plus d'ID qui se répètent"
   ]
  },
  {
   "cell_type": "code",
   "execution_count": 288,
   "metadata": {},
   "outputs": [],
   "source": [
    "imputer = SimpleImputer(strategy=\"median\")\n",
    "Xtrain_clin[['BM_BLAST', 'HB', 'PLT']] = imputer.fit_transform(Xtrain_clin[['BM_BLAST', 'HB', 'PLT']])"
   ]
  },
  {
   "cell_type": "code",
   "execution_count": 289,
   "metadata": {},
   "outputs": [],
   "source": [
    "features = ['BM_BLAST', 'HB', 'PLT']\n",
    "target = ['OS_YEARS', 'OS_STATUS']"
   ]
  },
  {
   "cell_type": "code",
   "execution_count": 290,
   "metadata": {},
   "outputs": [],
   "source": [
    "Y_train['OS_YEARS'] = pd.to_numeric(Y_train['OS_YEARS'], errors='coerce')\n",
    "Y_train['OS_STATUS'] = Y_train['OS_STATUS'].astype(bool)\n"
   ]
  },
  {
   "cell_type": "code",
   "execution_count": 293,
   "metadata": {},
   "outputs": [],
   "source": [
    "X = Xtrain_clin[features]\n",
    "y = Surv.from_dataframe('OS_STATUS', 'OS_YEARS', Y_train)"
   ]
  },
  {
   "cell_type": "code",
   "execution_count": 294,
   "metadata": {},
   "outputs": [
    {
     "ename": "ValueError",
     "evalue": "Found input variables with inconsistent numbers of samples: [3323, 3173]",
     "output_type": "error",
     "traceback": [
      "\u001b[1;31m---------------------------------------------------------------------------\u001b[0m",
      "\u001b[1;31mValueError\u001b[0m                                Traceback (most recent call last)",
      "Cell \u001b[1;32mIn[294], line 1\u001b[0m\n\u001b[1;32m----> 1\u001b[0m X_train, X_test, y_train, y_test \u001b[38;5;241m=\u001b[39m \u001b[43mtrain_test_split\u001b[49m\u001b[43m(\u001b[49m\u001b[43mX\u001b[49m\u001b[43m,\u001b[49m\u001b[43m \u001b[49m\u001b[43my\u001b[49m\u001b[43m,\u001b[49m\u001b[43m \u001b[49m\u001b[43mtest_size\u001b[49m\u001b[38;5;241;43m=\u001b[39;49m\u001b[38;5;241;43m0.3\u001b[39;49m\u001b[43m,\u001b[49m\u001b[43m \u001b[49m\u001b[43mrandom_state\u001b[49m\u001b[38;5;241;43m=\u001b[39;49m\u001b[38;5;241;43m42\u001b[39;49m\u001b[43m)\u001b[49m\n",
      "File \u001b[1;32mc:\\Users\\omaim\\AppData\\Local\\Programs\\Python\\Python312\\Lib\\site-packages\\sklearn\\utils\\_param_validation.py:216\u001b[0m, in \u001b[0;36mvalidate_params.<locals>.decorator.<locals>.wrapper\u001b[1;34m(*args, **kwargs)\u001b[0m\n\u001b[0;32m    210\u001b[0m \u001b[38;5;28;01mtry\u001b[39;00m:\n\u001b[0;32m    211\u001b[0m     \u001b[38;5;28;01mwith\u001b[39;00m config_context(\n\u001b[0;32m    212\u001b[0m         skip_parameter_validation\u001b[38;5;241m=\u001b[39m(\n\u001b[0;32m    213\u001b[0m             prefer_skip_nested_validation \u001b[38;5;129;01mor\u001b[39;00m global_skip_validation\n\u001b[0;32m    214\u001b[0m         )\n\u001b[0;32m    215\u001b[0m     ):\n\u001b[1;32m--> 216\u001b[0m         \u001b[38;5;28;01mreturn\u001b[39;00m \u001b[43mfunc\u001b[49m\u001b[43m(\u001b[49m\u001b[38;5;241;43m*\u001b[39;49m\u001b[43margs\u001b[49m\u001b[43m,\u001b[49m\u001b[43m \u001b[49m\u001b[38;5;241;43m*\u001b[39;49m\u001b[38;5;241;43m*\u001b[39;49m\u001b[43mkwargs\u001b[49m\u001b[43m)\u001b[49m\n\u001b[0;32m    217\u001b[0m \u001b[38;5;28;01mexcept\u001b[39;00m InvalidParameterError \u001b[38;5;28;01mas\u001b[39;00m e:\n\u001b[0;32m    218\u001b[0m     \u001b[38;5;66;03m# When the function is just a wrapper around an estimator, we allow\u001b[39;00m\n\u001b[0;32m    219\u001b[0m     \u001b[38;5;66;03m# the function to delegate validation to the estimator, but we replace\u001b[39;00m\n\u001b[0;32m    220\u001b[0m     \u001b[38;5;66;03m# the name of the estimator by the name of the function in the error\u001b[39;00m\n\u001b[0;32m    221\u001b[0m     \u001b[38;5;66;03m# message to avoid confusion.\u001b[39;00m\n\u001b[0;32m    222\u001b[0m     msg \u001b[38;5;241m=\u001b[39m re\u001b[38;5;241m.\u001b[39msub(\n\u001b[0;32m    223\u001b[0m         \u001b[38;5;124mr\u001b[39m\u001b[38;5;124m\"\u001b[39m\u001b[38;5;124mparameter of \u001b[39m\u001b[38;5;124m\\\u001b[39m\u001b[38;5;124mw+ must be\u001b[39m\u001b[38;5;124m\"\u001b[39m,\n\u001b[0;32m    224\u001b[0m         \u001b[38;5;124mf\u001b[39m\u001b[38;5;124m\"\u001b[39m\u001b[38;5;124mparameter of \u001b[39m\u001b[38;5;132;01m{\u001b[39;00mfunc\u001b[38;5;241m.\u001b[39m\u001b[38;5;18m__qualname__\u001b[39m\u001b[38;5;132;01m}\u001b[39;00m\u001b[38;5;124m must be\u001b[39m\u001b[38;5;124m\"\u001b[39m,\n\u001b[0;32m    225\u001b[0m         \u001b[38;5;28mstr\u001b[39m(e),\n\u001b[0;32m    226\u001b[0m     )\n",
      "File \u001b[1;32mc:\\Users\\omaim\\AppData\\Local\\Programs\\Python\\Python312\\Lib\\site-packages\\sklearn\\model_selection\\_split.py:2848\u001b[0m, in \u001b[0;36mtrain_test_split\u001b[1;34m(test_size, train_size, random_state, shuffle, stratify, *arrays)\u001b[0m\n\u001b[0;32m   2845\u001b[0m \u001b[38;5;28;01mif\u001b[39;00m n_arrays \u001b[38;5;241m==\u001b[39m \u001b[38;5;241m0\u001b[39m:\n\u001b[0;32m   2846\u001b[0m     \u001b[38;5;28;01mraise\u001b[39;00m \u001b[38;5;167;01mValueError\u001b[39;00m(\u001b[38;5;124m\"\u001b[39m\u001b[38;5;124mAt least one array required as input\u001b[39m\u001b[38;5;124m\"\u001b[39m)\n\u001b[1;32m-> 2848\u001b[0m arrays \u001b[38;5;241m=\u001b[39m \u001b[43mindexable\u001b[49m\u001b[43m(\u001b[49m\u001b[38;5;241;43m*\u001b[39;49m\u001b[43marrays\u001b[49m\u001b[43m)\u001b[49m\n\u001b[0;32m   2850\u001b[0m n_samples \u001b[38;5;241m=\u001b[39m _num_samples(arrays[\u001b[38;5;241m0\u001b[39m])\n\u001b[0;32m   2851\u001b[0m n_train, n_test \u001b[38;5;241m=\u001b[39m _validate_shuffle_split(\n\u001b[0;32m   2852\u001b[0m     n_samples, test_size, train_size, default_test_size\u001b[38;5;241m=\u001b[39m\u001b[38;5;241m0.25\u001b[39m\n\u001b[0;32m   2853\u001b[0m )\n",
      "File \u001b[1;32mc:\\Users\\omaim\\AppData\\Local\\Programs\\Python\\Python312\\Lib\\site-packages\\sklearn\\utils\\validation.py:532\u001b[0m, in \u001b[0;36mindexable\u001b[1;34m(*iterables)\u001b[0m\n\u001b[0;32m    502\u001b[0m \u001b[38;5;250m\u001b[39m\u001b[38;5;124;03m\"\"\"Make arrays indexable for cross-validation.\u001b[39;00m\n\u001b[0;32m    503\u001b[0m \n\u001b[0;32m    504\u001b[0m \u001b[38;5;124;03mChecks consistent length, passes through None, and ensures that everything\u001b[39;00m\n\u001b[1;32m   (...)\u001b[0m\n\u001b[0;32m    528\u001b[0m \u001b[38;5;124;03m[[1, 2, 3], array([2, 3, 4]), None, <...Sparse...dtype 'int64'...shape (3, 1)>]\u001b[39;00m\n\u001b[0;32m    529\u001b[0m \u001b[38;5;124;03m\"\"\"\u001b[39;00m\n\u001b[0;32m    531\u001b[0m result \u001b[38;5;241m=\u001b[39m [_make_indexable(X) \u001b[38;5;28;01mfor\u001b[39;00m X \u001b[38;5;129;01min\u001b[39;00m iterables]\n\u001b[1;32m--> 532\u001b[0m \u001b[43mcheck_consistent_length\u001b[49m\u001b[43m(\u001b[49m\u001b[38;5;241;43m*\u001b[39;49m\u001b[43mresult\u001b[49m\u001b[43m)\u001b[49m\n\u001b[0;32m    533\u001b[0m \u001b[38;5;28;01mreturn\u001b[39;00m result\n",
      "File \u001b[1;32mc:\\Users\\omaim\\AppData\\Local\\Programs\\Python\\Python312\\Lib\\site-packages\\sklearn\\utils\\validation.py:475\u001b[0m, in \u001b[0;36mcheck_consistent_length\u001b[1;34m(*arrays)\u001b[0m\n\u001b[0;32m    473\u001b[0m uniques \u001b[38;5;241m=\u001b[39m np\u001b[38;5;241m.\u001b[39munique(lengths)\n\u001b[0;32m    474\u001b[0m \u001b[38;5;28;01mif\u001b[39;00m \u001b[38;5;28mlen\u001b[39m(uniques) \u001b[38;5;241m>\u001b[39m \u001b[38;5;241m1\u001b[39m:\n\u001b[1;32m--> 475\u001b[0m     \u001b[38;5;28;01mraise\u001b[39;00m \u001b[38;5;167;01mValueError\u001b[39;00m(\n\u001b[0;32m    476\u001b[0m         \u001b[38;5;124m\"\u001b[39m\u001b[38;5;124mFound input variables with inconsistent numbers of samples: \u001b[39m\u001b[38;5;132;01m%r\u001b[39;00m\u001b[38;5;124m\"\u001b[39m\n\u001b[0;32m    477\u001b[0m         \u001b[38;5;241m%\u001b[39m [\u001b[38;5;28mint\u001b[39m(l) \u001b[38;5;28;01mfor\u001b[39;00m l \u001b[38;5;129;01min\u001b[39;00m lengths]\n\u001b[0;32m    478\u001b[0m     )\n",
      "\u001b[1;31mValueError\u001b[0m: Found input variables with inconsistent numbers of samples: [3323, 3173]"
     ]
    }
   ],
   "source": [
    "X_train, X_test, y_train, y_test = train_test_split(X, y, test_size=0.3, random_state=42)"
   ]
  },
  {
   "cell_type": "code",
   "execution_count": null,
   "metadata": {},
   "outputs": [
    {
     "data": {
      "text/plain": [
       "array([(False, 3.99178082), ( True, 1.6109589 ), (False, 0.97808219), ...,\n",
       "       ( True,        nan), (False, 0.11780822), ( True, 4.27123288)],\n",
       "      dtype=[('OS_STATUS', '?'), ('OS_YEARS', '<f8')])"
      ]
     },
     "execution_count": 244,
     "metadata": {},
     "output_type": "execute_result"
    }
   ],
   "source": [
    "#standardisation\n",
    "scaler = StandardScaler()\n",
    "data_train[['HB', 'PLT', 'BM_BLAST']] = scaler.fit_transform(data_train[['HB', 'PLT', 'BM_BLAST']])\n",
    "\n",
    "y_train   "
   ]
  },
  {
   "cell_type": "code",
   "execution_count": null,
   "metadata": {},
   "outputs": [
    {
     "ename": "ValueError",
     "evalue": "Input contains NaN.",
     "output_type": "error",
     "traceback": [
      "\u001b[1;31m---------------------------------------------------------------------------\u001b[0m",
      "\u001b[1;31mValueError\u001b[0m                                Traceback (most recent call last)",
      "Cell \u001b[1;32mIn[245], line 2\u001b[0m\n\u001b[0;32m      1\u001b[0m cox_model \u001b[38;5;241m=\u001b[39m CoxPHSurvivalAnalysis()\n\u001b[1;32m----> 2\u001b[0m \u001b[43mcox_model\u001b[49m\u001b[38;5;241;43m.\u001b[39;49m\u001b[43mfit\u001b[49m\u001b[43m(\u001b[49m\u001b[43mX_train\u001b[49m\u001b[43m,\u001b[49m\u001b[43m \u001b[49m\u001b[43my_train\u001b[49m\u001b[43m)\u001b[49m\n\u001b[0;32m      4\u001b[0m pred \u001b[38;5;241m=\u001b[39m cox_model\u001b[38;5;241m.\u001b[39mpredict(X_test)\n\u001b[0;32m      5\u001b[0m result \u001b[38;5;241m=\u001b[39m concordance_index_censored(y_test[\u001b[38;5;124m\"\u001b[39m\u001b[38;5;124mevent\u001b[39m\u001b[38;5;124m\"\u001b[39m], y_test[\u001b[38;5;124m\"\u001b[39m\u001b[38;5;124mtime\u001b[39m\u001b[38;5;124m\"\u001b[39m], pred)\n",
      "File \u001b[1;32mc:\\Users\\omaim\\AppData\\Local\\Programs\\Python\\Python312\\Lib\\site-packages\\sksurv\\linear_model\\coxph.py:417\u001b[0m, in \u001b[0;36mCoxPHSurvivalAnalysis.fit\u001b[1;34m(self, X, y)\u001b[0m\n\u001b[0;32m    414\u001b[0m \u001b[38;5;28mself\u001b[39m\u001b[38;5;241m.\u001b[39m_validate_params()\n\u001b[0;32m    416\u001b[0m X \u001b[38;5;241m=\u001b[39m validate_data(\u001b[38;5;28mself\u001b[39m, X, ensure_min_samples\u001b[38;5;241m=\u001b[39m\u001b[38;5;241m2\u001b[39m, dtype\u001b[38;5;241m=\u001b[39mnp\u001b[38;5;241m.\u001b[39mfloat64)\n\u001b[1;32m--> 417\u001b[0m event, time \u001b[38;5;241m=\u001b[39m \u001b[43mcheck_array_survival\u001b[49m\u001b[43m(\u001b[49m\u001b[43mX\u001b[49m\u001b[43m,\u001b[49m\u001b[43m \u001b[49m\u001b[43my\u001b[49m\u001b[43m)\u001b[49m\n\u001b[0;32m    419\u001b[0m \u001b[38;5;28;01mif\u001b[39;00m \u001b[38;5;28misinstance\u001b[39m(\u001b[38;5;28mself\u001b[39m\u001b[38;5;241m.\u001b[39malpha, numbers\u001b[38;5;241m.\u001b[39mReal \u001b[38;5;241m|\u001b[39m numbers\u001b[38;5;241m.\u001b[39mIntegral):\n\u001b[0;32m    420\u001b[0m     alphas \u001b[38;5;241m=\u001b[39m np\u001b[38;5;241m.\u001b[39mempty(X\u001b[38;5;241m.\u001b[39mshape[\u001b[38;5;241m1\u001b[39m], dtype\u001b[38;5;241m=\u001b[39m\u001b[38;5;28mfloat\u001b[39m)\n",
      "File \u001b[1;32mc:\\Users\\omaim\\AppData\\Local\\Programs\\Python\\Python312\\Lib\\site-packages\\sksurv\\util.py:228\u001b[0m, in \u001b[0;36mcheck_array_survival\u001b[1;34m(X, y, **kwargs)\u001b[0m\n\u001b[0;32m    204\u001b[0m \u001b[38;5;28;01mdef\u001b[39;00m \u001b[38;5;21mcheck_array_survival\u001b[39m(X, y, \u001b[38;5;241m*\u001b[39m\u001b[38;5;241m*\u001b[39mkwargs):\n\u001b[0;32m    205\u001b[0m \u001b[38;5;250m    \u001b[39m\u001b[38;5;124;03m\"\"\"Check that all arrays have consistent first dimensions.\u001b[39;00m\n\u001b[0;32m    206\u001b[0m \n\u001b[0;32m    207\u001b[0m \u001b[38;5;124;03m    Parameters\u001b[39;00m\n\u001b[1;32m   (...)\u001b[0m\n\u001b[0;32m    226\u001b[0m \u001b[38;5;124;03m        Time of event or censoring.\u001b[39;00m\n\u001b[0;32m    227\u001b[0m \u001b[38;5;124;03m    \"\"\"\u001b[39;00m\n\u001b[1;32m--> 228\u001b[0m     event, time \u001b[38;5;241m=\u001b[39m \u001b[43mcheck_y_survival\u001b[49m\u001b[43m(\u001b[49m\u001b[43my\u001b[49m\u001b[43m,\u001b[49m\u001b[43m \u001b[49m\u001b[38;5;241;43m*\u001b[39;49m\u001b[38;5;241;43m*\u001b[39;49m\u001b[43mkwargs\u001b[49m\u001b[43m)\u001b[49m\n\u001b[0;32m    229\u001b[0m     check_consistent_length(X, event, time)\n\u001b[0;32m    230\u001b[0m     \u001b[38;5;28;01mreturn\u001b[39;00m event, time\n",
      "File \u001b[1;32mc:\\Users\\omaim\\AppData\\Local\\Programs\\Python\\Python312\\Lib\\site-packages\\sksurv\\util.py:164\u001b[0m, in \u001b[0;36mcheck_y_survival\u001b[1;34m(y_or_event, allow_all_censored, allow_time_zero, competing_risks, *args)\u001b[0m\n\u001b[0;32m    161\u001b[0m     return_val\u001b[38;5;241m.\u001b[39mappend(yt)\n\u001b[0;32m    162\u001b[0m     \u001b[38;5;28;01mcontinue\u001b[39;00m\n\u001b[1;32m--> 164\u001b[0m yt \u001b[38;5;241m=\u001b[39m \u001b[43mcheck_array\u001b[49m\u001b[43m(\u001b[49m\u001b[43myt\u001b[49m\u001b[43m,\u001b[49m\u001b[43m \u001b[49m\u001b[43mensure_2d\u001b[49m\u001b[38;5;241;43m=\u001b[39;49m\u001b[38;5;28;43;01mFalse\u001b[39;49;00m\u001b[43m)\u001b[49m\n\u001b[0;32m    165\u001b[0m \u001b[38;5;28;01mif\u001b[39;00m \u001b[38;5;129;01mnot\u001b[39;00m np\u001b[38;5;241m.\u001b[39missubdtype(yt\u001b[38;5;241m.\u001b[39mdtype, np\u001b[38;5;241m.\u001b[39mnumber):\n\u001b[0;32m    166\u001b[0m     \u001b[38;5;28;01mraise\u001b[39;00m \u001b[38;5;167;01mValueError\u001b[39;00m(\u001b[38;5;124mf\u001b[39m\u001b[38;5;124m\"\u001b[39m\u001b[38;5;124mtime must be numeric, but found \u001b[39m\u001b[38;5;132;01m{\u001b[39;00myt\u001b[38;5;241m.\u001b[39mdtype\u001b[38;5;132;01m}\u001b[39;00m\u001b[38;5;124m for argument \u001b[39m\u001b[38;5;132;01m{\u001b[39;00mi\u001b[38;5;250m \u001b[39m\u001b[38;5;241m+\u001b[39m\u001b[38;5;250m \u001b[39m\u001b[38;5;241m2\u001b[39m\u001b[38;5;132;01m}\u001b[39;00m\u001b[38;5;124m\"\u001b[39m)\n",
      "File \u001b[1;32mc:\\Users\\omaim\\AppData\\Local\\Programs\\Python\\Python312\\Lib\\site-packages\\sklearn\\utils\\validation.py:1107\u001b[0m, in \u001b[0;36mcheck_array\u001b[1;34m(array, accept_sparse, accept_large_sparse, dtype, order, copy, force_writeable, force_all_finite, ensure_all_finite, ensure_non_negative, ensure_2d, allow_nd, ensure_min_samples, ensure_min_features, estimator, input_name)\u001b[0m\n\u001b[0;32m   1101\u001b[0m     \u001b[38;5;28;01mraise\u001b[39;00m \u001b[38;5;167;01mValueError\u001b[39;00m(\n\u001b[0;32m   1102\u001b[0m         \u001b[38;5;124m\"\u001b[39m\u001b[38;5;124mFound array with dim \u001b[39m\u001b[38;5;132;01m%d\u001b[39;00m\u001b[38;5;124m. \u001b[39m\u001b[38;5;132;01m%s\u001b[39;00m\u001b[38;5;124m expected <= 2.\u001b[39m\u001b[38;5;124m\"\u001b[39m\n\u001b[0;32m   1103\u001b[0m         \u001b[38;5;241m%\u001b[39m (array\u001b[38;5;241m.\u001b[39mndim, estimator_name)\n\u001b[0;32m   1104\u001b[0m     )\n\u001b[0;32m   1106\u001b[0m \u001b[38;5;28;01mif\u001b[39;00m ensure_all_finite:\n\u001b[1;32m-> 1107\u001b[0m     \u001b[43m_assert_all_finite\u001b[49m\u001b[43m(\u001b[49m\n\u001b[0;32m   1108\u001b[0m \u001b[43m        \u001b[49m\u001b[43marray\u001b[49m\u001b[43m,\u001b[49m\n\u001b[0;32m   1109\u001b[0m \u001b[43m        \u001b[49m\u001b[43minput_name\u001b[49m\u001b[38;5;241;43m=\u001b[39;49m\u001b[43minput_name\u001b[49m\u001b[43m,\u001b[49m\n\u001b[0;32m   1110\u001b[0m \u001b[43m        \u001b[49m\u001b[43mestimator_name\u001b[49m\u001b[38;5;241;43m=\u001b[39;49m\u001b[43mestimator_name\u001b[49m\u001b[43m,\u001b[49m\n\u001b[0;32m   1111\u001b[0m \u001b[43m        \u001b[49m\u001b[43mallow_nan\u001b[49m\u001b[38;5;241;43m=\u001b[39;49m\u001b[43mensure_all_finite\u001b[49m\u001b[43m \u001b[49m\u001b[38;5;241;43m==\u001b[39;49m\u001b[43m \u001b[49m\u001b[38;5;124;43m\"\u001b[39;49m\u001b[38;5;124;43mallow-nan\u001b[39;49m\u001b[38;5;124;43m\"\u001b[39;49m\u001b[43m,\u001b[49m\n\u001b[0;32m   1112\u001b[0m \u001b[43m    \u001b[49m\u001b[43m)\u001b[49m\n\u001b[0;32m   1114\u001b[0m \u001b[38;5;28;01mif\u001b[39;00m copy:\n\u001b[0;32m   1115\u001b[0m     \u001b[38;5;28;01mif\u001b[39;00m _is_numpy_namespace(xp):\n\u001b[0;32m   1116\u001b[0m         \u001b[38;5;66;03m# only make a copy if `array` and `array_orig` may share memory`\u001b[39;00m\n",
      "File \u001b[1;32mc:\\Users\\omaim\\AppData\\Local\\Programs\\Python\\Python312\\Lib\\site-packages\\sklearn\\utils\\validation.py:120\u001b[0m, in \u001b[0;36m_assert_all_finite\u001b[1;34m(X, allow_nan, msg_dtype, estimator_name, input_name)\u001b[0m\n\u001b[0;32m    117\u001b[0m \u001b[38;5;28;01mif\u001b[39;00m first_pass_isfinite:\n\u001b[0;32m    118\u001b[0m     \u001b[38;5;28;01mreturn\u001b[39;00m\n\u001b[1;32m--> 120\u001b[0m \u001b[43m_assert_all_finite_element_wise\u001b[49m\u001b[43m(\u001b[49m\n\u001b[0;32m    121\u001b[0m \u001b[43m    \u001b[49m\u001b[43mX\u001b[49m\u001b[43m,\u001b[49m\n\u001b[0;32m    122\u001b[0m \u001b[43m    \u001b[49m\u001b[43mxp\u001b[49m\u001b[38;5;241;43m=\u001b[39;49m\u001b[43mxp\u001b[49m\u001b[43m,\u001b[49m\n\u001b[0;32m    123\u001b[0m \u001b[43m    \u001b[49m\u001b[43mallow_nan\u001b[49m\u001b[38;5;241;43m=\u001b[39;49m\u001b[43mallow_nan\u001b[49m\u001b[43m,\u001b[49m\n\u001b[0;32m    124\u001b[0m \u001b[43m    \u001b[49m\u001b[43mmsg_dtype\u001b[49m\u001b[38;5;241;43m=\u001b[39;49m\u001b[43mmsg_dtype\u001b[49m\u001b[43m,\u001b[49m\n\u001b[0;32m    125\u001b[0m \u001b[43m    \u001b[49m\u001b[43mestimator_name\u001b[49m\u001b[38;5;241;43m=\u001b[39;49m\u001b[43mestimator_name\u001b[49m\u001b[43m,\u001b[49m\n\u001b[0;32m    126\u001b[0m \u001b[43m    \u001b[49m\u001b[43minput_name\u001b[49m\u001b[38;5;241;43m=\u001b[39;49m\u001b[43minput_name\u001b[49m\u001b[43m,\u001b[49m\n\u001b[0;32m    127\u001b[0m \u001b[43m\u001b[49m\u001b[43m)\u001b[49m\n",
      "File \u001b[1;32mc:\\Users\\omaim\\AppData\\Local\\Programs\\Python\\Python312\\Lib\\site-packages\\sklearn\\utils\\validation.py:169\u001b[0m, in \u001b[0;36m_assert_all_finite_element_wise\u001b[1;34m(X, xp, allow_nan, msg_dtype, estimator_name, input_name)\u001b[0m\n\u001b[0;32m    152\u001b[0m \u001b[38;5;28;01mif\u001b[39;00m estimator_name \u001b[38;5;129;01mand\u001b[39;00m input_name \u001b[38;5;241m==\u001b[39m \u001b[38;5;124m\"\u001b[39m\u001b[38;5;124mX\u001b[39m\u001b[38;5;124m\"\u001b[39m \u001b[38;5;129;01mand\u001b[39;00m has_nan_error:\n\u001b[0;32m    153\u001b[0m     \u001b[38;5;66;03m# Improve the error message on how to handle missing values in\u001b[39;00m\n\u001b[0;32m    154\u001b[0m     \u001b[38;5;66;03m# scikit-learn.\u001b[39;00m\n\u001b[0;32m    155\u001b[0m     msg_err \u001b[38;5;241m+\u001b[39m\u001b[38;5;241m=\u001b[39m (\n\u001b[0;32m    156\u001b[0m         \u001b[38;5;124mf\u001b[39m\u001b[38;5;124m\"\u001b[39m\u001b[38;5;130;01m\\n\u001b[39;00m\u001b[38;5;132;01m{\u001b[39;00mestimator_name\u001b[38;5;132;01m}\u001b[39;00m\u001b[38;5;124m does not accept missing values\u001b[39m\u001b[38;5;124m\"\u001b[39m\n\u001b[0;32m    157\u001b[0m         \u001b[38;5;124m\"\u001b[39m\u001b[38;5;124m encoded as NaN natively. For supervised learning, you might want\u001b[39m\u001b[38;5;124m\"\u001b[39m\n\u001b[1;32m   (...)\u001b[0m\n\u001b[0;32m    167\u001b[0m         \u001b[38;5;124m\"\u001b[39m\u001b[38;5;124m#estimators-that-handle-nan-values\u001b[39m\u001b[38;5;124m\"\u001b[39m\n\u001b[0;32m    168\u001b[0m     )\n\u001b[1;32m--> 169\u001b[0m \u001b[38;5;28;01mraise\u001b[39;00m \u001b[38;5;167;01mValueError\u001b[39;00m(msg_err)\n",
      "\u001b[1;31mValueError\u001b[0m: Input contains NaN."
     ]
    }
   ],
   "source": [
    "cox_model = CoxPHSurvivalAnalysis()\n",
    "cox_model.fit(X_train, y_train)\n",
    "\n",
    "pred = cox_model.predict(X_test)\n",
    "result = concordance_index_censored(y_test[\"event\"], y_test[\"time\"], pred)\n",
    "print(\"C-index du modèle CoxPH:\", result[0])\n"
   ]
  },
  {
   "cell_type": "code",
   "execution_count": null,
   "metadata": {},
   "outputs": [],
   "source": [
    "#def prepare_survival_data(X, Y):\n",
    "#    Y['event'] = Y['event'].astype(bool)\n",
    "#    Y_surv = Surv.from_dataframe(\"event\", \"time\", Y)\n",
    "#    return X, Y_surv"
   ]
  },
  {
   "cell_type": "code",
   "execution_count": null,
   "metadata": {},
   "outputs": [],
   "source": [
    "# 1. Modèle de Cox\n"
   ]
  },
  {
   "cell_type": "code",
   "execution_count": null,
   "metadata": {},
   "outputs": [],
   "source": [
    "# 2. Random Survival Forest\n"
   ]
  },
  {
   "cell_type": "code",
   "execution_count": null,
   "metadata": {},
   "outputs": [],
   "source": [
    "# 3. LightGBM (approche survie)\n"
   ]
  },
  {
   "cell_type": "code",
   "execution_count": null,
   "metadata": {},
   "outputs": [],
   "source": [
    "# 4. DeepSurv (PyCox)\n"
   ]
  },
  {
   "cell_type": "code",
   "execution_count": null,
   "metadata": {},
   "outputs": [],
   "source": []
  }
 ],
 "metadata": {
  "kernelspec": {
   "display_name": "Python 3",
   "language": "python",
   "name": "python3"
  },
  "language_info": {
   "codemirror_mode": {
    "name": "ipython",
    "version": 3
   },
   "file_extension": ".py",
   "mimetype": "text/x-python",
   "name": "python",
   "nbconvert_exporter": "python",
   "pygments_lexer": "ipython3",
   "version": "3.12.7"
  }
 },
 "nbformat": 4,
 "nbformat_minor": 2
}
